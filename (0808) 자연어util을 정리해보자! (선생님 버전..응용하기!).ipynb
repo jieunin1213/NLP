{
 "cells": [
  {
   "cell_type": "code",
   "execution_count": 2,
   "metadata": {},
   "outputs": [],
   "source": [
    "'''\n",
    "colab에서 실행시 아래 명령어 실행\n",
    "!apt-get update\n",
    "!apt-get install g++ openjdk-8-jdk\n",
    "!pip3 install konlpy\n",
    "'''\n",
    "from konlpy.tag import Mecab\n",
    "from collections import Counter\n",
    "from wordcloud import WordCloud\n",
    "import matplotlib.pyplot as plt\n",
    "import matplotlib\n",
    "from matplotlib import font_manager, rc\n",
    "import numpy as np\n",
    "from PIL import Image\n",
    "from sklearn.feature_extraction.text import CountVectorizer\n",
    "from sklearn.metrics.pairwise import cosine_similarity\n",
    "from sklearn.feature_extraction.text import TfidfVectorizer\n",
    "from sklearn.metrics.pairwise import linear_kernel\n",
    "from gensim.models import word2vec\n",
    "import re\n",
    "import codecs\n",
    "from bs4 import BeautifulSoup\n",
    "from konlpy.tag import Twitter"
   ]
  },
  {
   "cell_type": "code",
   "execution_count": 3,
   "metadata": {},
   "outputs": [
    {
     "data": {
      "text/plain": [
       "['영등포', '맛집', '알려줘']"
      ]
     },
     "execution_count": 3,
     "metadata": {},
     "output_type": "execute_result"
    }
   ],
   "source": [
    "def get_korean_morphs(words) :\n",
    "    mecab = Mecab(dicpath=\"C:\\\\mecab\\\\mecab-ko-dic\")\n",
    "    # print(mecab.morphs(u'영등포구청역에 있는 맛집 좀 알려주세요.'))\n",
    "    return mecab.morphs(words)\n",
    "#########################\n",
    "str = '영등포 맛집 알려줘'\n",
    "get_korean_morphs(str)"
   ]
  },
  {
   "cell_type": "markdown",
   "metadata": {},
   "source": [
    "# Stopwords   / 불용어 제거하기 / 필요없는 단어 제거하기"
   ]
  },
  {
   "cell_type": "code",
   "execution_count": 7,
   "metadata": {},
   "outputs": [
    {
     "data": {
      "text/plain": [
       "['중요', '이웃', '협력', '파트너', '불안', '층']"
      ]
     },
     "execution_count": 7,
     "metadata": {},
     "output_type": "execute_result"
    }
   ],
   "source": [
    "def get_korean_clean_word(words, stopwords):\n",
    "    nouns = []\n",
    "    tagger = Mecab(dicpath=\"C:\\\\mecab\\\\mecab-ko-dic\")\n",
    "    for post in words:\n",
    "        for noun in tagger.nouns(post):\n",
    "            if noun not in stopwords:\n",
    "                nouns.append(noun)  # stopwords에 없을 때, 사전에다 넣어줘라!\n",
    "    return nouns\n",
    "######################\n",
    "words = ['중국','한국', '중요', '이웃', '협력', '파트너', '불안', '층']\n",
    "stopwords = ['중국','한국']\n",
    "get_korean_clean_word(words,stopwords)"
   ]
  },
  {
   "cell_type": "code",
   "execution_count": null,
   "metadata": {},
   "outputs": [],
   "source": [
    "def get_korean_pos_tag(words):\n",
    "    words = []\n",
    "    tagger = Mecab(dicpath=\"C:\\\\mecab\\\\mecab-ko-dic\")\n",
    "    for post in words:\n",
    "        words.extend(tagger.pos(post))\n",
    "    return words\n",
    "###################3\n"
   ]
  },
  {
   "cell_type": "code",
   "execution_count": 10,
   "metadata": {},
   "outputs": [
    {
     "name": "stdout",
     "output_type": "stream",
     "text": [
      "[('사랑', 2), ('이', 1)]\n",
      "[('이', 1)]\n"
     ]
    }
   ],
   "source": [
    "#ask!!!?????????????????????\n",
    "def get_korean_noun_list(malist):\n",
    "    word_dic = {}\n",
    "    #malist = [('사랑', 'Noun'), ('이', '조사'), ('사랑', 'Noun')] # 얘가 dictionary 타입이여서 0번지, 1번지   형태로 되어 있다.\n",
    "    for word in malist:\n",
    "        if word[1] == \"Noun\":  # 명사 확인하기\n",
    "            if not (word[0] in word_dic):\n",
    "                word_dic[word[0]] = 0\n",
    "            word_dic[word[0]] += 1  # 카운트하기\n",
    "    keys = sorted(word_dic.items(), key=lambda x: x[1], reverse=True)\n",
    "    return keys\n",
    "\n",
    "def get_korean_noun_list2(malist):\n",
    "    word_dic = {}\n",
    "    #malist = [('사랑', 'Noun'), ('이', '조사'), ('사랑', 'Noun')] # 얘가 dictionary 타입이여서 0번지, 1번지   형태로 되어 있다.\n",
    "    for word in malist:\n",
    "        if word[1] == \"조사\":  # 명사 확인하기\n",
    "            if not (word[0] in word_dic):\n",
    "                word_dic[word[0]] = 0\n",
    "            word_dic[word[0]] += 1  # 카운트하기\n",
    "    keys = sorted(word_dic.items(), key=lambda x: x[1], reverse=True)\n",
    "    return keys\n",
    "\n",
    "\n",
    "malist = [('사랑', 'Noun'), ('이', '조사'), ('사랑', 'Noun'), ('이', 'Noun')]\n",
    "print(get_korean_noun_list(malist))\n",
    "print(get_korean_noun_list2(malist))\n"
   ]
  },
  {
   "cell_type": "code",
   "execution_count": null,
   "metadata": {},
   "outputs": [],
   "source": [
    "def sort_by_keys(dict):\n",
    "    return sorted(value = dict.keys(), reverse=True)\n",
    "\n",
    "def sort_by_values(dict):\n",
    "    return sorted(value = dict, key=dict.get, reverse=True)"
   ]
  },
  {
   "cell_type": "markdown",
   "metadata": {},
   "source": [
    "# 빈도수가 높은 단어"
   ]
  },
  {
   "cell_type": "code",
   "execution_count": 14,
   "metadata": {},
   "outputs": [
    {
     "name": "stdout",
     "output_type": "stream",
     "text": [
      "{'한국': 3}\n",
      "{'한국': 3, '중국': 2}\n",
      "{'한국': 3, '중국': 2, '중요': 1}\n"
     ]
    }
   ],
   "source": [
    "def get_most_common_words(word_list, num):\n",
    "    # num_top_nouns = 20\n",
    "    counter = Counter(word_list)\n",
    "    top_words = dict(counter.most_common(num))\n",
    "    return top_words\n",
    "\n",
    "word_list = ['중국','한국','중국','한국','한국', '중요', '이웃', '협력', '파트너', '불안', '층']\n",
    "\n",
    "print(get_most_common_words(word_list,1))\n",
    "print(get_most_common_words(word_list,2))\n",
    "print(get_most_common_words(word_list,3))"
   ]
  },
  {
   "cell_type": "code",
   "execution_count": null,
   "metadata": {},
   "outputs": [],
   "source": [
    "def draw_word_cloud(word_list):\n",
    "    wc = WordCloud(background_color=\"white\", font_path='./font/NanumBarunGothic.ttf')\n",
    "    wc.generate_from_frequencies(word_list)\n",
    "    figure = plt.figure()\n",
    "    figure.set_size_inches(10, 10)\n",
    "    ax = figure.add_subplot(1, 1, 1)\n",
    "    ax.axis(\"off\")\n",
    "    ax.imshow(wc)\n",
    "\n",
    "def draw_word_cloud_with_mask(word_list, imagepath):\n",
    "    mask = np.array(Image.open(imagepath))\n",
    "    # 워드 클라우드 설정\n",
    "    wc = WordCloud(background_color=\"white\", mask=mask, contour_width=3,\n",
    "                         font_path='../font/NanumBarunGothic.ttf')\n",
    "    wc.generate_from_frequencies(word_list)\n",
    "    # 이미지 표시\n",
    "    plt.imshow(wc, interpolation='bilinear')\n",
    "    plt.axis(\"off\")\n",
    "    # 이미지 저장\n",
    "    wc.to_file(\"wordcloud.png\")\n",
    "\n",
    "def draw_bar_graph(word_list, barcount):\n",
    "    font_location = 'c:/Windows/fonts/malgun.ttf'\n",
    "    font_name = font_manager.FontProperties(fname=font_location).get_name()\n",
    "    matplotlib.rc('font', family=font_name)\n",
    "\n",
    "    plt.xlabel('주요 단어')\n",
    "    plt.ylabel('빈도 수')\n",
    "    plt.grid(True)\n",
    "    #barcount = 10  # 10개만 그리겠다.\n",
    "\n",
    "    Sorted_Dict_Values = sorted(word_list.values(), reverse=True)\n",
    "    #print(Sorted_Dict_Values)\n",
    "    plt.bar(range(barcount), Sorted_Dict_Values[0:barcount], align='center')\n",
    "\n",
    "    Sorted_Dict_Keys = sorted(word_list, key=word_list.get, reverse=True)\n",
    "    #print(Sorted_Dict_Keys)\n",
    "    plt.xticks(range(barcount), list(Sorted_Dict_Keys)[0:barcount], rotation='70')\n",
    "\n",
    "    plt.show()"
   ]
  },
  {
   "cell_type": "markdown",
   "metadata": {},
   "source": [
    "# CountVectorizer\n",
    "* countvectorizer가 하는 일\n",
    "\n",
    "    1) 각 문서를 토큰 리스트로 변환\n",
    "    \n",
    "    2) 각 문서에서 토큰의 출현 빈도를 센다\n",
    "\n",
    "    3) 각 문서를 BOW 인코딩 벡터로 변환"
   ]
  },
  {
   "cell_type": "code",
   "execution_count": 16,
   "metadata": {},
   "outputs": [
    {
     "data": {
      "text/plain": [
       "array([[0, 0, 1, 0, 1, 1, 0, 0, 0, 1, 0, 0],\n",
       "       [1, 1, 0, 1, 0, 0, 1, 0, 1, 0, 0, 0],\n",
       "       [0, 0, 0, 0, 1, 0, 0, 1, 0, 0, 1, 1]], dtype=int64)"
      ]
     },
     "execution_count": 16,
     "metadata": {},
     "output_type": "execute_result"
    }
   ],
   "source": [
    "# bow\n",
    "\n",
    "def get_count_vector(sentence_list):\n",
    "    # 1글자도 인식이 되도록 토큰 패턴 변경\n",
    "    cv = CountVectorizer(token_pattern=r\"(?u)\\b\\w+\\b\")\n",
    "    cv.fit(sentence_list)\n",
    "    #print(cv.vocabulary_)\n",
    "    cv_array = cv.transform(sentence_list).toarray()\n",
    "    return cv_array\n",
    "\n",
    "sentence_list = ['나는 꿈을 꾸고 있다', '그런데 그 꿈은 언제쯤 이뤄질까', '조금만 꿈을 위해더 힘내보자']\n",
    "\n",
    "get_count_vector(sentence_list)"
   ]
  },
  {
   "cell_type": "code",
   "execution_count": 21,
   "metadata": {},
   "outputs": [
    {
     "data": {
      "text/plain": [
       "{'나는': 3,\n",
       " '꿈을': 2,\n",
       " '꾸고': 0,\n",
       " '있다': 6,\n",
       " '꿈은': 1,\n",
       " '이뤄질까': 5,\n",
       " '조금만': 7,\n",
       " '위해더': 4,\n",
       " '힘내보자': 8}"
      ]
     },
     "execution_count": 21,
     "metadata": {},
     "output_type": "execute_result"
    }
   ],
   "source": [
    "vect = CountVectorizer(stop_words=[\"그런데\", \"언제쯤\"]).fit(sentence_list)\n",
    "vect.vocabulary_"
   ]
  },
  {
   "cell_type": "code",
   "execution_count": 24,
   "metadata": {},
   "outputs": [
    {
     "data": {
      "text/plain": [
       "{'나는': 5,\n",
       " '꿈을': 4,\n",
       " '꾸고': 2,\n",
       " '있다': 9,\n",
       " '그런데': 1,\n",
       " '그': 0,\n",
       " '꿈은': 3,\n",
       " '언제쯤': 6,\n",
       " '이뤄질까': 8,\n",
       " '조금만': 10,\n",
       " '위해더': 7,\n",
       " '힘내보자': 11}"
      ]
     },
     "execution_count": 24,
     "metadata": {},
     "output_type": "execute_result"
    }
   ],
   "source": [
    "import nltk\n",
    "\n",
    "vect = CountVectorizer(tokenizer=nltk.word_tokenize).fit(sentence_list)\n",
    "vect.vocabulary_"
   ]
  },
  {
   "cell_type": "markdown",
   "metadata": {},
   "source": [
    "# TF-IDF\n",
    "\n",
    "https://wikidocs.net/21698"
   ]
  },
  {
   "cell_type": "code",
   "execution_count": 37,
   "metadata": {},
   "outputs": [],
   "source": [
    "# tfidf\n",
    "def get_tfidf_vector(sentence_list):\n",
    "    #galexy_tfidv = TfidfVectorizer(stop_words=[\"스마트폰\"]).fit(galexy_top_nouns)\n",
    "    tfidv = TfidfVectorizer()\n",
    "    tfidv.fit(sentence_list)\n",
    "    # print(tfidv.vocabulary_)\n",
    "    tfidv_array = tfidv.transform(sentence_list).toarray()\n",
    "    return tfidv_array\n"
   ]
  },
  {
   "cell_type": "code",
   "execution_count": null,
   "metadata": {},
   "outputs": [],
   "source": [
    "def get_smiliarity_by_count_vector(text1, text2):\n",
    "    cv1 = get_count_vector(text1)\n",
    "    cv2 = get_count_vector(text2)\n",
    "    cosine_sim = cosine_similarity(cv1, cv2)\n",
    "    return cosine_sim"
   ]
  },
  {
   "cell_type": "code",
   "execution_count": null,
   "metadata": {},
   "outputs": [],
   "source": [
    "def get_smiliarity_by_tfidf_vector(text1, text2):\n",
    "    tv1 = get_tfidf_vector(text1)\n",
    "    tv2 = get_tfidf_vector(text2)\n",
    "    cosine_sim = linear_kernel(tv1, tv2)\n",
    "    return cosine_sim"
   ]
  },
  {
   "cell_type": "code",
   "execution_count": null,
   "metadata": {},
   "outputs": [],
   "source": [
    "def get_most_similar_items(item, series, num):\n",
    "    return"
   ]
  },
  {
   "cell_type": "code",
   "execution_count": null,
   "metadata": {},
   "outputs": [],
   "source": [
    "def create_word2vec_model(words):\n",
    "    data = word2vec.LineSentence(words)\n",
    "    model = word2vec.Word2Vec(data, size=200, window=10, hs=1, min_count=2, sg=1)\n",
    "    model_name = 'word2vec.model'\n",
    "    model.save(model_name)\n",
    "    print('파일 ', model_name, '저장 완료')"
   ]
  },
  {
   "cell_type": "code",
   "execution_count": null,
   "metadata": {},
   "outputs": [],
   "source": [
    "def draw_word2vec_bar_graph(words, x_start, x_end):\n",
    "    font_location = 'c:/Windows/fonts/malgun.ttf'\n",
    "    font_name = font_manager.FontProperties(fname=font_location).get_name()\n",
    "    matplotlib.rc('font', family=font_name)\n",
    "    su = len(words)  # 전체 데이터 수\n",
    "    # 축에 보여질 항목 이름들\n",
    "    item = list(item[0] for item in words)\n",
    "    # 그려지는 수치 데이터\n",
    "    count = list(item[1] for item in words)\n",
    "    plt.barh(range(su), count, align='center')\n",
    "    plt.yticks(range(su), item, rotation='10')\n",
    "    plt.xlim(x_start, x_end)\n",
    "    plt.grid(True)\n",
    "    plt.show()"
   ]
  },
  {
   "cell_type": "code",
   "execution_count": null,
   "metadata": {},
   "outputs": [],
   "source": [
    "def get_most_similar_item_by_word2vec(model, item_list) :\n",
    "    #model.wv.most_similar(positive=[\"한국\", \"트럼프\"], negative=[\"미국\"]))\n",
    "    return model.wv.most_similar(positive=item_list)"
   ]
  },
  {
   "cell_type": "code",
   "execution_count": null,
   "metadata": {},
   "outputs": [],
   "source": [
    "def get_email_address(text) :\n",
    "    return re.search(r'[\\w.-]+@[\\w.-]+', text).group()"
   ]
  },
  {
   "cell_type": "code",
   "execution_count": null,
   "metadata": {},
   "outputs": [],
   "source": [
    "def print_word_similarity_by_word2vec(word_list, embed) :\n",
    "    #word_list = [\"coffee\", \"cafe\", \"football\", \"soccer\"]\n",
    "    embeddings = embed(word_list)\n",
    "    for i in range(len(word_list)):\n",
    "        for j in range(i, len(word_list)):\n",
    "            print(\"(\", word_list[i], \",\", word_list[j], \")\", np.inner(embeddings[i], embeddings[j]))"
   ]
  },
  {
   "cell_type": "code",
   "execution_count": null,
   "metadata": {},
   "outputs": [],
   "source": [
    "def load_word2vec_wiki250_model() :\n",
    "    # pip install tensorflow_hub\n",
    "    # gpu 사용하므로 colab에서 사용 권장\n",
    "    # import tensorflow_hub as hub\n",
    "    # hub.load(\"https://tfhub.dev/google/Wiki-words-250-with-normalization/2\")\n",
    "    return"
   ]
  },
  {
   "cell_type": "code",
   "execution_count": null,
   "metadata": {},
   "outputs": [],
   "source": [
    "def get_review_text(text):\n",
    "    return re.sub(\"[^a-zA-Z]\", text).group()"
   ]
  },
  {
   "cell_type": "code",
   "execution_count": null,
   "metadata": {},
   "outputs": [],
   "source": [
    "def get_most_similar_items(index, series, cos_sim, num):\n",
    "\n",
    "    scores = list(enumerate(cos_sim[index])) # 이뉴머레이트는 각각의 값에다가 index를 달아주는 것을 말한다.   => 이걸 list로 만들어준다는 코드이다.\n",
    "    scores = sorted(scores, key=lambda x:x[1], reverse=True)\n",
    "    scores = scores[1:num]\n",
    "    indices = [x[0] for x in scores]\n",
    "    ############이 코드 못 끝냄 ㅠㅠ 보러가다!!!"
   ]
  }
 ],
 "metadata": {
  "kernelspec": {
   "display_name": "Python 3",
   "language": "python",
   "name": "python3"
  },
  "language_info": {
   "codemirror_mode": {
    "name": "ipython",
    "version": 3
   },
   "file_extension": ".py",
   "mimetype": "text/x-python",
   "name": "python",
   "nbconvert_exporter": "python",
   "pygments_lexer": "ipython3",
   "version": "3.7.6"
  },
  "toc": {
   "base_numbering": 1,
   "nav_menu": {},
   "number_sections": false,
   "sideBar": true,
   "skip_h1_title": false,
   "title_cell": "Table of Contents",
   "title_sidebar": "Contents",
   "toc_cell": false,
   "toc_position": {},
   "toc_section_display": true,
   "toc_window_display": false
  }
 },
 "nbformat": 4,
 "nbformat_minor": 4
}
