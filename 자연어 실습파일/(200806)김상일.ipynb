{
 "cells": [
  {
   "cell_type": "code",
   "execution_count": 1,
   "metadata": {},
   "outputs": [],
   "source": [
    "from bs4 import BeautifulSoup\n",
    "import requests\n",
    "import pandas as pd\n",
    "from urllib.request import urlopen\n",
    "import os\n",
    "from selenium import webdriver\n",
    "from selenium.webdriver.common.keys import Keys\n",
    "from datetime import datetime\n",
    "import time \n",
    "import re"
   ]
  },
  {
   "cell_type": "code",
   "execution_count": 2,
   "metadata": {},
   "outputs": [],
   "source": [
    "driver = webdriver.Chrome('C:/Users/user/Downloads/chromedriver_win32/chromedriver')\n",
    "driver.implicitly_wait(3)"
   ]
  },
  {
   "cell_type": "code",
   "execution_count": 3,
   "metadata": {},
   "outputs": [],
   "source": [
    "url='https://imnews.imbc.com/more/search/?mainSearch=%EA%B2%BD%EC%A0%9C#page=0'\n",
    "driver.get(url)"
   ]
  },
  {
   "cell_type": "code",
   "execution_count": 28,
   "metadata": {},
   "outputs": [],
   "source": [
    "last_page_height = driver.execute_script(\"return document.documentElement.scrollHeight\")\n",
    "while True: \n",
    "    driver.execute_script(\"window.scrollTo(0, document.documentElement.scrollHeight);\")\n",
    "    time.sleep(3.0)\n",
    "    new_page_height = driver.execute_script(\"return document.documentElement.scrollHeight\")\n",
    "    if new_page_height == last_page_height:\n",
    "        break\n",
    "    last_page_height = new_page_height"
   ]
  },
  {
   "cell_type": "code",
   "execution_count": 29,
   "metadata": {},
   "outputs": [],
   "source": [
    "soup = BeautifulSoup(driver.page_source, 'html.parser')"
   ]
  },
  {
   "cell_type": "code",
   "execution_count": 33,
   "metadata": {},
   "outputs": [
    {
     "data": {
      "text/plain": [
       "<html class=\"mobile\" lang=\"ko\"><head>\n",
       "<meta charset=\"utf-8\"/>\n",
       "<meta content=\"IE=edge\" http-equiv=\"X-UA-Compatible\"/>\n",
       "<meta content=\"width=device-width,initial-scale=1.0,minimum-scale=1.0,maximum-scale=1.0,user-scalable=no\" name=\"viewport\"/>\n",
       "<meta content=\"MBC NEWS\" name=\"title\"/>\n",
       "<meta content=\"http://imnews.imbc.com/\" name=\"url\"/>\n",
       "<meta content=\"기본과 원칙에 충실한 뉴스\" name=\"description\"/>\n",
       "<meta content=\"http://imnews.imbc.com/\" property=\"og:url\"/>\n",
       "<meta content=\"MBC NEWS\" property=\"og:title\"/>\n",
       "<meta content=\"기본과 원칙에 충실한 뉴스\" property=\"og:description\"/>\n",
       "<meta content=\"MBC NEWS\" property=\"og:site_name\"/>\n",
       "<meta content=\"http://img.imnews.imbc.com/images/2015/MBCNEWS_logo.png\" property=\"og:image\"/>\n",
       "<meta content=\"https://www.facebook.com/MBCnews\" property=\"article:publisher\"/>\n",
       "<meta content=\"ko_KR\" property=\"og:locale\"/>\n",
       "<meta content=\"692275414241491\" property=\"fb:app_id\"/>\n",
       "<meta content=\"@mbcnews\" name=\"twitter:site\"/>\n",
       "<meta content=\"MBC NEWS\" itemprop=\"name\"/>\n",
       "<meta content=\"기본과 원칙에 충실한 뉴스\" itemprop=\"description\"/>\n",
       "<meta content=\"http://img.imnews.imbc.com/images/2015/MBCNEWS_logo.png\" itemprop=\"image\"/>\n",
       "<meta content=\"website\" property=\"og:type\"/>\n",
       "<meta content=\"MBC NEWS\" id=\"ogtitle\" property=\"og:title\"/>\n",
       "<meta content=\"기본과 원칙에 충실한 뉴스\" id=\"ogdesc\" property=\"og:description\"/>\n",
       "<meta content=\"http://img.imnews.imbc.com/images/2015/MBCNEWS_logo.png\" id=\"ogimg\" property=\"og:image\"/>\n",
       "<title>검색결과 : MBC NEWS</title>\n",
       "<script async=\"\" charset=\"utf-8\" src=\"//static.dable.io/dist/plugin.min.js\"></script><script async=\"\" src=\"//www.google-analytics.com/analytics.js\"></script><script src=\"/page/include/js/lib/jquery-1.12.3.min.js\" type=\"text/javascript\"></script>\n",
       "<script src=\"/page/include/js/lib/jquery-ui.js\" type=\"text/javascript\"></script>\n",
       "<script src=\"/page/include/js/lib/slick.min.js\" type=\"text/javascript\"></script>\n",
       "<script src=\"/page/include/js/lib/sub_lib.js\" type=\"text/javascript\"></script>\n",
       "<script src=\"/page/include/js/pc/pc_gnb.js\" type=\"text/javascript\"></script>\n",
       "<script src=\"/page/include/js/common.js\" type=\"text/javascript\"></script>\n",
       "<script src=\"/page/include/js/search.js\" type=\"text/javascript\"></script>\n",
       "<link href=\"//image.imnews.imbc.com/page/include/images/favicon.ico\" rel=\"shortcut icon\" type=\"image/x-icon\"/>\n",
       "<link href=\"/page/include/css/common.css\" rel=\"stylesheet\" type=\"text/css\"/>\n",
       "<link href=\"/page/include/css/sub_common.css\" rel=\"stylesheet\" type=\"text/css\"/>\n",
       "<link href=\"/page/include/css/m/m_common.css\" rel=\"stylesheet\" type=\"text/css\"/>\n",
       "<link href=\"/page/include/css/slick.css\" rel=\"stylesheet\" type=\"text/css\"/>\n",
       "<link href=\"/page/include/css/font.css\" rel=\"stylesheet\" type=\"text/css\"/>\n",
       "<link href=\"/page/include/css/pc/pc_gnb.css\" rel=\"stylesheet\" type=\"text/css\"/>\n",
       "<link href=\"/page/include/css/search.css\" rel=\"stylesheet\" type=\"text/css\"/>\n",
       "<!--[if lt IE 9]>\n",
       "         <script src=\"http://www.imbc.com/commons/libs/html5shiv.min.js\" type=\"text/javascript\"></script>\n",
       "    <![endif]-->\n",
       "<script src=\"/page/include/js/common/bundle.min.js\" type=\"text/javascript\"></script>\n",
       "<script src=\"/page/include/js/search_util.js\" type=\"text/javascript\"></script>\n",
       "</head>\n",
       "<body class=\"a\" style=\"padding-top: 0px;\">\n",
       "<div class=\"sub\" id=\"wrap\">\n",
       "<!-- 스킵 내비게이션 -->\n",
       "<div id=\"u_skip\">\n",
       "<a href=\"#content\">본문 바로가기</a>\n",
       "<a href=\"#navi\">메뉴 바로가기</a>\n",
       "</div>\n",
       "<!-- //스킵 내비게이션 -->\n",
       "<!-- 헤더 -->\n",
       "<header id=\"header\">\n",
       "<div class=\"pc_header\">\n",
       "<!-- 특별 프로모션 이미지 -->\n",
       "<div class=\"link_special\"></div>\n",
       "<!-- pc헤더 pc_gnb.js-->\n",
       "<div class=\"pc_top\"><a href=\"/pc_main.html?gnb=top\"><h1>MBC 뉴스</h1></a><div class=\"wrap_link\"><div class=\"ui_link jebo\"><a href=\"/more/report/\">제보</a></div><div class=\"ui_link login\"><span>로그인</span></div><div class=\"wrap_btn\"><button class=\"search\" title=\"검색\" type=\"button\">검색</button><a class=\"bookmark\" href=\"/more/bookmark/\" title=\"MY PICK\">MY PICK</a><a class=\"imbc\" href=\"http://www.imbc.com/\" target=\"_blank\" title=\"iMBC 새창열림\">iMBC 홈페이지</a> </div></div><div class=\"layer_search\" style=\"display: none;\"><div class=\"wrap_search\"><h3 class=\"blind\">검색</h3><div class=\"wrap_input\"><label for=\"kwd\">검색어 입력창</label><input id=\"kwd\" name=\"kwd\" placeholder=\"검색어를 입력해주세요\" type=\"search\" value=\"\"/><button class=\"btn_search\" title=\"검색\" type=\"submit\">검색</button></div><button class=\"search_close\" title=\"검색창 닫기\">닫기</button></div></div></div></div>\n",
       "<div class=\"m_header\">\n",
       "<!-- 모바일 m_gnb -->\n",
       "<div class=\"m_gnb\"><div class=\"wrapper\"><button class=\"txt_hide btn_gnb\" title=\"전체 메뉴 펼치기\" type=\"button\"><span class=\"line\"></span><span class=\"line center\"></span><span class=\"line\"></span></button><h1 class=\"logo\"><a href=\"/m_main.html?gnb=top\"><img alt=\"MBC 뉴스\" src=\"//image.imnews.imbc.com/page/include/images/m/logo_mbcnews.png\"/></a></h1><button class=\"txt_hide btn_search\" type=\"button\">검색창 열기</button></div><div class=\"m_search\"><fieldset><legend class=\"blind\">MBC뉴스 검색 영역</legend><label class=\"blind\" for=\"m_search_box\">MBC뉴스 검색어 입력</label><input class=\"m_search_box\" id=\"m_search_box\" placeholder=\"검색어 입력\" title=\"\" type=\"text\"/><button class=\"txt_hide submit_search\" type=\"button\">MBC뉴스 검색 결과 보기</button></fieldset></div></div><div class=\"m_menu\"><button class=\"txt_hide btn_close\" type=\"button\">전체 메뉴 닫기</button><div class=\"menu_top\"><div class=\"login_w\"><a class=\"login\" href=\"#none\"><i class=\"icon\">로그인 아이콘</i><strong class=\"tit\">로그인</strong></a></div><div class=\"direct_w\"><ul><li class=\"d_onair\"><a href=\"/more/onair/\"><span><i class=\"icon\">LIVE 아이콘</i><strong class=\"tit\">LIVE</strong></span></a></li><li class=\"d_report\"><a href=\"/more/report/\"><span><i class=\"icon\">제보 아이콘</i><strong class=\"tit\">제보</strong></span></a></li><li class=\"d_bookmark\"><a href=\"/more/bookmark/\"><span><i class=\"icon\">MY PICK 아이콘</i><strong class=\"tit\">MY PICK</strong></span></a></li></ul></div></div><div class=\"menu_main\"><ul class=\"menu_list wrapper\"><li class=\"list_w\"><h2>다시보기</h2><ul class=\"m_lnb\"><li><a href=\"/replay/2020/nwdesk/\">뉴스데스크</a></li><li><a href=\"/replay/2020/nwtoday/\">뉴스투데이</a></li><li><a href=\"/replay/2020/nw1400/\">뉴스외전</a></li><li><a href=\"/replay/newsflash/\">뉴스특보</a></li><li><a href=\"/replay/2020/nw930/\">930MBC뉴스</a></li><li><a href=\"/replay/2020/nw1200/\">12MBC뉴스</a></li><li><a href=\"/replay/2020/nw1700/\">5MBC뉴스</a></li><li><a href=\"/replay/nwradio/\">라디오뉴스</a></li><li><a href=\"/replay/straight/\">스트레이트</a></li><li><a href=\"/replay/unity/\">통일전망대</a></li></ul></li><li class=\"list_w\"><h2>분야별 뉴스</h2><ul class=\"m_lnb\"><li><a href=\"/news/2020/politics/\">정치</a></li><li><a href=\"/news/2020/society/\">사회</a></li><li><a href=\"/news/2020/world/\">국제</a></li><li><a href=\"/news/2020/econo/\">경제ㆍ과학</a></li><li><a href=\"/news/2020/culture/\">문화ㆍ연예</a></li><li><a href=\"/news/network/\">네트워크</a></li><li><a href=\"/news/2020/sports/\">스포츠</a></li></ul></li><li class=\"list_w\"><h2>엠빅 X 14F</h2><ul class=\"m_lnb\"><li><a href=\"/original/mbig/\">엠빅뉴스</a></li><li><a href=\"/original/14f/\">14F</a></li><li><a href=\"/original/todayfield/\">Right Now</a></li></ul></li><li class=\"list_w\"><h2>취재플러스</h2><ul class=\"m_lnb\"><li><a href=\"/newszoomin/groupnews/\">탐사보도</a></li><li><a href=\"/newszoomin/newsinsight/\">뉴스인사이트</a></li><li><a href=\"/newszoomin/otbt/\">외통방통</a></li><li><a href=\"/newszoomin/issue12/\">국회M부스</a></li><li><a href=\"/newszoomin/maxmlb/\">맥스MLB</a></li><li><a href=\"/newszoomin/politicstime/\">정치적 참견 시점</a></li><li><a href=\"/newszoomin/todaythisnw/\">오늘 이뉴스</a></li><li><a href=\"/newszoomin/worldnow/\">World Now</a></li><li><a href=\"/newszoomin/seochom/\">서초동M본부</a></li><li><a href=\"/newszoomin/lmkeco/\">알려줘! 경제</a></li><li><a href=\"/newszoomin/detecm/\">탐정M</a></li><li><a href=\"/newszoomin/pyhotline/\">평양 핫라인</a></li><li><a href=\"/newszoomin/factweight/\">팩트의 무게</a></li></ul></li><li class=\"list_w\"><h2>바로가기</h2><ul class=\"m_lnb\"><li><a href=\"/more/report/\">제보</a></li><li><a href=\"/more/search/\">검색</a></li><li><a href=\"/more/bookmark/\">MY PICK</a></li><li><a href=\"/more/lastprogram/\">지난 프로그램</a></li><li><a href=\"/more/board/\">게시판</a></li><li><a href=\"/more/termofuse/\">이용약관</a></li><li><a href=\"/more/onair/\">LIVE</a></li><li><a href=\"/more/app/\">APP 소개</a></li></ul></li></ul></div></div><div class=\"m_aside\"><a class=\"txt_hide go_report\" href=\"/more/report/\">제보 페이지 바로가기</a><button class=\"txt_hide btn_gotop\" type=\"button\">페이지 맨 위로 이동</button></div></div>\n",
       "</header>\n",
       "<!-- //헤더 -->\n",
       "<nav id=\"navi\">\n",
       "<div class=\"wrap_pc_nav fix\">\n",
       "<div class=\"pc_nav\"><div class=\"nav_d1\"><ul><li class=\"\"><a href=\"/m_main.html?gnb=top\">홈</a></li><li class=\"\"><a href=\"/replay/2020/nwdesk/\">뉴스데스크</a></li><li class=\"\"><a href=\"/original/mbig/\">엠빅뉴스</a></li><li class=\"\"><a href=\"/original/14f/\">14F</a></li><li class=\"\"><a href=\"/news/2020/politics/\">정치</a></li><li class=\"\"><a href=\"/news/2020/society/\">사회</a></li><li class=\"\"><a href=\"/news/2020/world/\">국제</a></li><li class=\"\"><a href=\"/news/2020/econo/\">경제ㆍ과학</a></li><li class=\"\"><a href=\"/news/2020/culture/\">문화ㆍ연예</a></li><li class=\"\"><a href=\"/news/2020/sports/\">스포츠</a></li><li class=\"btn_d2\"><span href=\"#nav_depth2\">더보기</span> </li></ul> </div><div class=\"roll_hashtag\"> <ul id=\"rollHashtag\"><li><a href=\"/more/search/?search_kwd=%ED%83%9C%ED%92%8D%20%ED%95%98%EA%B5%AC%ED%95%8F\">#태풍 하구핏</a></li><li><a href=\"/more/search/?search_kwd=%EC%9E%AC%EA%B1%B4%EC%B6%95%2050%EC%B8%B5%20%ED%97%88%EC%9A%A9\">#재건축 50층 허용</a></li><li><a href=\"/more/search/?search_kwd=%EB%82%A0%EC%94%A8\">#날씨</a></li><li><a href=\"/more/search/?search_kwd=%EA%B0%80%ED%8F%89%20%ED%8E%9C%EC%85%98\">#가평 펜션</a></li><li><a href=\"/more/search/?search_kwd=%EC%BD%94%EB%A1%9C%EB%82%98%20%EC%8B%A0%EA%B7%9C%ED%99%95%EC%A7%84\">#코로나 신규확진</a></li><li><a href=\"/more/search/?search_kwd=%EC%9E%A5%EB%A7%88\">#장마</a></li><li><a href=\"/more/search/?search_kwd=%EB%B6%80%EB%8F%99%EC%82%B0%EB%8C%80%EC%B1%85\">#부동산대책</a></li><li><a href=\"/more/search/?search_kwd=%EC%A4%91%EA%B5%AD%20%ED%99%8D%EC%88%98\">#중국 홍수</a></li><li><a href=\"/more/search/?search_kwd=%EC%9D%BC%EB%B3%B8%20%EC%BD%94%EB%A1%9C%EB%82%98\">#일본 코로나</a></li><li><a href=\"/more/search/?search_kwd=%EC%82%B0%EC%82%AC%ED%83%9C\">#산사태</a></li></ul> </div> <div class=\"wrap_sns\" tabindex=\"-1\"> <ul> <li><a class=\"sns_youtube\" href=\"https://www.youtube.com/mbcnews11\" target=\"_blank\" title=\"새창열림\">유튜브 바로가기</a></li> <li><a class=\"sns_facebook\" href=\"https://www.facebook.com/MBCnews\" target=\"_blank\" title=\"새창열림\">페이스북 바로가기</a></li> <li><a class=\"sns_twitter\" href=\"http://twitter.com/mbcnews\" target=\"_blank\" title=\"새창열림\">트위터 바로가기</a></li> </ul> </div></div>\n",
       "<div class=\"nav_d2\" tabindex=\"-1\">\n",
       "<!-- PC 네이게이션 더보기 -->\n",
       "<div class=\"wrap_tit\"><ul><li>다시보기</li><li>분야별 뉴스</li><li>엠빅 X 14F</li><li>취재플러스</li><li>바로가기</li></ul></div><div class=\"wrap_sort\"><div class=\"sort\"><h3>다시보기</h3><ul><li><a href=\"/replay/2020/nwdesk/\">뉴스데스크</a></li><li><a href=\"/replay/2020/nwtoday/\">뉴스투데이</a></li><li><a href=\"/replay/2020/nw1400/\">뉴스외전</a></li><li><a href=\"/replay/newsflash/\">뉴스특보</a></li><li><a href=\"/replay/2020/nw930/\">930MBC뉴스</a></li><li><a href=\"/replay/2020/nw1200/\">12MBC뉴스</a></li><li><a href=\"/replay/2020/nw1700/\">5MBC뉴스</a></li><li><a href=\"/replay/nwradio/\">라디오뉴스</a></li><li><a href=\"/replay/straight/\">스트레이트</a></li><li><a href=\"/replay/unity/\">통일전망대</a></li></ul></div><div class=\"sort\"><h3>분야별 뉴스</h3><ul><li><a href=\"/news/2020/politics/\">정치</a></li><li><a href=\"/news/2020/society/\">사회</a></li><li><a href=\"/news/2020/world/\">국제</a></li><li><a href=\"/news/2020/econo/\">경제ㆍ과학</a></li><li><a href=\"/news/2020/culture/\">문화ㆍ연예</a></li><li><a href=\"/news/network/\">네트워크</a></li><li><a href=\"/news/2020/sports/\">스포츠</a></li></ul></div><div class=\"sort\"><h3>엠빅 X 14F</h3><ul><li><a href=\"/original/mbig/\">엠빅뉴스</a></li><li><a href=\"/original/14f/\">14F</a></li><li><a href=\"/original/todayfield/\">Right Now</a></li></ul></div><div class=\"sort\"><h3>취재플러스</h3><ul><li><a href=\"/newszoomin/groupnews/\">탐사보도</a></li><li><a href=\"/newszoomin/newsinsight/\">뉴스인사이트</a></li><li><a href=\"/newszoomin/otbt/\">외통방통</a></li><li><a href=\"/newszoomin/issue12/\">국회M부스</a></li><li><a href=\"/newszoomin/maxmlb/\">맥스MLB</a></li><li><a href=\"/newszoomin/politicstime/\">정치적 참견 시점</a></li><li><a href=\"/newszoomin/todaythisnw/\">오늘 이뉴스</a></li><li><a href=\"/newszoomin/worldnow/\">World Now</a></li><li><a href=\"/newszoomin/seochom/\">서초동M본부</a></li><li><a href=\"/newszoomin/lmkeco/\">알려줘! 경제</a></li><li><a href=\"/newszoomin/detecm/\">탐정M</a></li><li><a href=\"/newszoomin/pyhotline/\">평양 핫라인</a></li><li><a href=\"/newszoomin/factweight/\">팩트의 무게</a></li></ul></div><div class=\"sort\"><h3>바로가기</h3><ul><li><a href=\"/more/report/\">제보</a></li><li><a href=\"/more/search/\">검색</a></li><li><a href=\"/more/bookmark/\">MY PICK</a></li><li><a href=\"/more/lastprogram/\">지난 프로그램</a></li><li><a href=\"/more/board/\">게시판</a></li><li><a href=\"/more/termofuse/\">이용약관</a></li><li><a href=\"/more/onair/\">LIVE</a></li><li><a href=\"/more/app/\">APP 소개</a></li></ul></div><button class=\"btn_close\" type=\"button\">더보기 닫기</button></div></div>\n",
       "<div class=\"progress_container\">\n",
       "<div class=\"progress_bar\" id=\"progressBar\" style=\"width: 100%;\"></div>\n",
       "</div>\n",
       "</div>\n",
       "<!-- 모바일 m_navi -->\n",
       "<div class=\"m_navi\"><div class=\"wrapper list_slider fixed\"><ul class=\"navi_w\" style=\"width: 682px;\"><li><a href=\"/pc_main.html?gnb=top\">홈</a></li><li><a href=\"/replay/2020/nwdesk/\">뉴스데스크</a></li><li><a href=\"/original/mbig/\">엠빅뉴스</a></li><li><a href=\"/original/14f/\">14F</a></li><li><a href=\"/news/2020/politics/\">정치</a></li><li><a href=\"/news/2020/society/\">사회</a></li><li><a href=\"/news/2020/world/\">국제</a></li><li><a href=\"/news/2020/econo/\">경제ㆍ과학</a></li><li><a href=\"/news/2020/culture/\">문화ㆍ연예</a></li><li><a href=\"/news/2020/sports/\">스포츠</a></li></ul></div></div></nav>\n",
       "<!-- 모바일 m_gnb.js -->\n",
       "<script src=\"/page/include/js/m/m_gnb.js\" type=\"text/javascript\"></script>\n",
       "<!-- // 모바일 m_gnb.js -->\n",
       "<!-- container -->\n",
       "<div id=\"container\">\n",
       "<!-- content -->\n",
       "<div id=\"content\">\n",
       "<section class=\"wrap_search\" id=\"result\">\n",
       "<div class=\"section content_spot\">\n",
       "<div class=\"search_area search_main wrapper\">\n",
       "<form>\n",
       "<fieldset>\n",
       "<legend class=\"blind\">MBC뉴스 검색</legend>\n",
       "<div class=\"box_search\">\n",
       "<label for=\"mainSearch\">검색</label>\n",
       "<input id=\"mainSearch\" name=\"mainSearch\" type=\"text\" value=\"MBC\"/>\n",
       "<button class=\"btn_result txt_hide\" type=\"submit\">검색결과보기</button>\n",
       "</div>\n",
       "<div class=\"box_button\">\n",
       "<button class=\"btn_sbar btn_option\" type=\"button\">검색옵션</button>\n",
       "<button class=\"btn_sbar btn_info\" type=\"button\">이용방법</button>\n",
       "</div>\n",
       "</fieldset>\n",
       "</form>\n",
       "</div>\n",
       "<div class=\"search_area search_option wrapper\">\n",
       "<button class=\"btn_opt_close txt_hide\" type=\"button\">옵션 닫기</button>\n",
       "<form>\n",
       "<fieldset>\n",
       "<legend class=\"blind\">검색옵션</legend>\n",
       "<div class=\"option_list option_category\">\n",
       "<h4>분야별</h4>\n",
       "<ul class=\"check_list\">\n",
       "<li>\n",
       "<input id=\"cate1\" name=\"check_cate\" type=\"checkbox\" value=\"정치\"/>\n",
       "<label for=\"cate1\"><span class=\"box\"></span><span class=\"tit\">정치<span class=\"num\">(37,709)</span></span></label>\n",
       "</li>\n",
       "<li>\n",
       "<input id=\"cate2\" name=\"check_cate\" type=\"checkbox\" value=\"세계\"/>\n",
       "<label for=\"cate2\"><span class=\"box\"></span><span class=\"tit\">세계<span class=\"num\">(40,774)</span></span></label>\n",
       "</li>\n",
       "<li>\n",
       "<input id=\"cate3\" name=\"check_cate\" type=\"checkbox\" value=\"사회\"/>\n",
       "<label for=\"cate3\"><span class=\"box\"></span><span class=\"tit\">사회<span class=\"num\">(23,589)</span></span></label>\n",
       "</li>\n",
       "<li>\n",
       "<input id=\"cate4\" name=\"check_cate\" type=\"checkbox\" value=\"경제\"/>\n",
       "<label for=\"cate4\"><span class=\"box\"></span><span class=\"tit\">경제<span class=\"num\">(227,653)</span></span></label>\n",
       "</li>\n",
       "<li>\n",
       "<input id=\"cate5\" name=\"check_cate\" type=\"checkbox\" value=\"문화연예\"/>\n",
       "<label for=\"cate5\"><span class=\"box\"></span><span class=\"tit\">문화/연예<span class=\"num\">(0)</span></span></label>\n",
       "</li>\n",
       "<li>\n",
       "<input id=\"cate6\" name=\"check_cate\" type=\"checkbox\" value=\"스포츠\"/>\n",
       "<label for=\"cate6\"><span class=\"box\"></span><span class=\"tit\">스포츠<span class=\"num\">(1,030)</span></span></label>\n",
       "</li>\n",
       "</ul>\n",
       "</div>\n",
       "<div class=\"option_list option_program\">\n",
       "<h4>프로그램별</h4>\n",
       "<ul class=\"check_list\">\n",
       "<li>\n",
       "<input id=\"pro1\" name=\"check_pro\" type=\"checkbox\" value=\"NE\"/>\n",
       "<label for=\"pro1\"><span class=\"box\"></span><span class=\"tit\">뉴스<span class=\"num\">(228,211)</span></span></label>\n",
       "</li>\n",
       "<li>\n",
       "<input id=\"pro2\" name=\"check_pro\" type=\"checkbox\" value=\"PR\"/>\n",
       "<label for=\"pro2\"><span class=\"box\"></span><span class=\"tit\">다시보기<span class=\"num\">(115,555)</span></span></label>\n",
       "</li>\n",
       "<li>\n",
       "<input id=\"pro3\" name=\"check_pro\" type=\"checkbox\" value=\"WK\"/>\n",
       "<label for=\"pro3\"><span class=\"box\"></span><span class=\"tit\">위클리<span class=\"num\">(0)</span></span></label>\n",
       "</li>\n",
       "<li>\n",
       "<input id=\"pro4\" name=\"check_pro\" type=\"checkbox\" value=\"MS\"/>\n",
       "<label for=\"pro4\"><span class=\"box\"></span><span class=\"tit\">엠빅뉴스<span class=\"num\">(514)</span></span></label>\n",
       "</li>\n",
       "<li>\n",
       "<input id=\"pro5\" name=\"check_pro\" type=\"checkbox\" value=\"ETC\"/>\n",
       "<label for=\"pro5\"><span class=\"box\"></span><span class=\"tit\">더보기<span class=\"num\">(68)</span></span></label>\n",
       "</li>\n",
       "</ul>\n",
       "</div>\n",
       "<div class=\"option_list option_date\">\n",
       "<h4>기간별</h4>\n",
       "<div class=\"date_w\">\n",
       "<div class=\"date_select\">\n",
       "<a class=\"period_type\" href=\"#\">전체</a>\n",
       "<ul class=\"period_list\">\n",
       "<li><a date-index=\"0\" href=\"#\">전체</a></li>\n",
       "<li><a date-index=\"1\" href=\"#\">1일</a></li>\n",
       "<li><a date-index=\"2\" href=\"#\">1주</a></li>\n",
       "<li><a date-index=\"3\" href=\"#\">1개월</a></li>\n",
       "<li><a date-index=\"4\" href=\"#\">6개월</a></li>\n",
       "<li><a date-index=\"5\" href=\"#\">1년</a></li>\n",
       "</ul>\n",
       "</div>\n",
       "<div class=\"date_term\">\n",
       "<strong class=\"term_label\">직접입력</strong>\n",
       "<div class=\"term_input\">\n",
       "<div class=\"term_limit start_day\">\n",
       "<div class=\"picker_w\">\n",
       "<label class=\"txt_hide\" for=\"\">시작 날짜</label>\n",
       "<input class=\"date_picker start_picker hasDatepicker\" id=\"startDatepicker\" type=\"text\"/><button class=\"ui-datepicker-trigger\" type=\"button\">달력보기</button>\n",
       "</div>\n",
       "<div class=\"layer_calendar\"></div>\n",
       "</div>\n",
       "<div class=\"term_limit wave_dash\">~</div>\n",
       "<div class=\"term_limit end_day\">\n",
       "<div class=\"picker_w\">\n",
       "<label class=\"txt_hide\" for=\"\">마지막 날짜</label>\n",
       "<input class=\"date_picker end_picker hasDatepicker\" id=\"endDatepicker\" type=\"text\"/><button class=\"ui-datepicker-trigger\" type=\"button\">달력보기</button>\n",
       "</div>\n",
       "<div class=\"layer_calendar\"></div>\n",
       "</div>\n",
       "</div>\n",
       "<button class=\"btn_result btn_date\" type=\"button\">기간검색</button>\n",
       "</div>\n",
       "</div>\n",
       "</div>\n",
       "</fieldset>\n",
       "</form>\n",
       "</div>\n",
       "<div class=\"search_area search_guide wrapper\">\n",
       "<div class=\"guide_w\">\n",
       "<button class=\"btn_guide_close txt_hide\" type=\"button\">이용방법 닫기</button>\n",
       "<h4>이용안내</h4>\n",
       "<div class=\"guide_list\">\n",
       "<ul>\n",
       "<li>\n",
       "<strong>검색어 입력 요령</strong>\n",
       "<p>\n",
       "                                                검색어를 여러개 넣으면 입력된 검색어가 모두 포함되어야 검색되므로 좀 더 정확한 검색결과를 얻을 수 있습니다.<br/>\n",
       "\n",
       "                                                검색어를 여러개 입력할 때는 검색어 간에 공백을 넣습니다.<br/>\n",
       "                                                뉴스 프로그램명이나 기자 이름으로도 검색할 수 있으나 검색결과의 정확도를 높이기 위해 뉴스에 포함될 만한 검색어도 같이 입력하는 것이 좋습니다.\n",
       "                                            </p>\n",
       "</li>\n",
       "<li>\n",
       "<strong>카테고리 선택</strong>\n",
       "<p>\n",
       "                                                하단에 카테고리를 선택하면 곧바로 카테고리 검색을 실시합니다.<br/>\n",
       "\n",
       "                                                카테고리는 복수로 선택할 수 있습니다.<br/>\n",
       "                                                동일한 기사라도 여러 프로그램이나 여러 카테고리에 포함되어 있으면 동일한 기사가 여러개가 검색되어 질 수 있습니다.\n",
       "                                            </p>\n",
       "</li>\n",
       "<li>\n",
       "<strong>검색결과 노출 순서</strong>\n",
       "<p>\n",
       "                                                뉴스는 신속성을 우선 시 하므로 최신 순으로 정렬하는 것을 기본으로 합니다.<br/>\n",
       "                                                검색결과의 정확도 순으로 정렬하고 싶으시면 검색결과 우측 상단에 정확도순을 선택하시면 됩니다.\n",
       "                                            </p>\n",
       "</li>\n",
       "</ul>\n",
       "</div>\n",
       "</div>\n",
       "</div>\n",
       "</div>\n",
       "<div class=\"section content_area\">\n",
       "<h2 class=\"search_subject\">\n",
       "<span class=\"result_case\" style=\"display: inline;\">\"<strong>경제</strong>\"에 대한 검색결과 입니다.</span>\n",
       "<span class=\"result_none\" style=\"display: none;\">입력하신 검색어 \"<strong>경제</strong>\"에 대한 검색결과가 없습니다.</span>\n",
       "</h2>\n",
       "<div class=\"search_result\">\n",
       "<div class=\"result_none wrapper\" style=\"display: none;\">\n",
       "<p>입력하신 단어의 철자, 맞춤법을 확인해주세요.</p>\n",
       "<p>한글을 영어로 혹은 영어를 한글로 입력했는지 확인해 보세요.</p>\n",
       "<p>일반적인 단어나 비슷한 의미의 다른 단어를 입력해 보세요.</p>\n",
       "</div>\n",
       "<div class=\"result_case\" style=\"display: block;\">\n",
       "<div class=\"case_left\">\n",
       "<h3>검색결과</h3>\n",
       "<div class=\"left_w\">\n",
       "<strong class=\"page\" style=\"display:none;\"></strong>\n",
       "<strong class=\"num\">344,348</strong>\n",
       "<span>건</span>\n",
       "</div>\n",
       "</div>\n",
       "<div class=\"case_right\">\n",
       "<a class=\"active\" href=\"#\">최신순</a>\n",
       "<a href=\"#\">정확도순</a>\n",
       "</div>\n",
       "</div>\n",
       "<div class=\"result_list wrapper\" style=\"display: block;\">\n",
       "<ul class=\"thumb_type\"><li class=\"item\"><a href=\"/news/2020/world/article/5863947_32640.html\"><span class=\"img \"><img alt='日정부, 강제징용 기업 자산 매각시 \"온갖 선택지 시야에\"' onerror=\"ImCommon.SetErrorImage(this);\" src=\"//image.imnews.imbc.com/news/2020/world/article/__icsFiles/afieldfile/2020/08/04/a2020080435.jpg\"/></span><span class=\"txt_w\"> <span class=\"tit ellipsis2\">日정부, 강제징용 기업 자산 매각시 \"온갖 선택지 시야에\"</span> <span class=\"description ellipsis2\">일제 강제징용 기업인 '일본 제철'에 대한 우리 법원의 자산 압류 결정과 관련해 일본 정부는 일본 기업의 자산이 강제 매각될 경우에 대해 \"관련 기업과 긴밀하게 협력하면서 일본기업의 정당한 경제활동 보호 관점에서 온갖 선택지를 염두에 두고 계속 대응해 갈 것이라고 밝혔습니다. 일본 정부 대변인인 스가 요시히데 관방장관은 오늘 기자회견에서 \"이번에는 압류 명령이지만 현금화가 이뤄지면 심각한 상황을 초래하게 되므로 피하지 않으면 안 된다고 한국 측에 강하게 지적해 왔다\"면서 이같이 말했습니다 또 \"옛 한반도 출신 노동자 문제에 관한 한국 대법원 판결과 관련 사법 절차는 명확한 국제법 위반\"이라며 한국 측에 조기해결을 강하게 요구하겠다고 덧붙였습니다. 스가 장관은 최근 일본의 한 TV에 출연해 \"방향성은 확실히 나와 있다\"며 보복 조치 가능성을 거론한 바 있습니다. 스가 관방장관은 이달 하순 연장 여부 판단 시점이 돌아오는 한일 군사정보보호협정,지소미아과 관련해 \"가정을 담은 질문에 답하는 것은 삼가겠다\"고 말을 아꼈습니다. 일본 언론은 관세 인상과 송금 중단, 비자발급 요건 강화, 금융 제재, 일본 내 한국 자산 압류, 주한 일본 대사 소환 등을 선택지로 거론하고 있습니다. 가지야마 히로시 일본 경제산업상도 이날 열린 기자회견에서 대법원 판결과 관련 절차가 국제법 위반이라는 주장을 되풀이하고 일본 기업의 자산 강제 매각이 심각한 상황을 초래하므로 피해야 한다고 언급했습니다. 앞서 대구지법 포항지원은 일본제철이 보유한 피앤알(PNR) 주식 8만1천75주를 올해 1월 압류했고 압류 명령의 공시 송달은 오늘 0시에 발효됐습니다.</span> <span class=\"sub\"> <span class=\"category\"> 국제</span> <span class=\"date\"> 2020-08-04</span> <span class=\"reporter\"> 김준석</span> </span></span></a></li><li class=\"item\"><a href=\"/replay/2020/nw1200/article/5863851_32496.html\"><span class=\"img ico_vod\"><img alt=\"코스피, 1% 넘는 상승세…제일약품 상한가 기록\" onerror=\"ImCommon.SetErrorImage(this);\" src=\"//image.imnews.imbc.com/replay/2020/nw1200/article/__icsFiles/afieldfile/2020/08/04/noon_20200804_122710_1_7_Small.jpg\"/></span><span class=\"txt_w\"> <span class=\"tit ellipsis2\">코스피, 1% 넘는 상승세…제일약품 상한가 기록</span> <span class=\"description ellipsis2\">중국에 이어 미국 제조업 PMI가 호조를보이면서 경기 회복 기대감이 높아지고 있습니다. 이에 코스피가 1% 넘는 상승세를 이어가면서 강세를 보이고 있고 코스닥도 강박권에서 움직이면서 빨간불을 7거래일째 켜내고 있습니다. 이 시각 코스피는 어제보다 25포인트 상승한 2276.04 포인트로 코스닥은 5.56포인트 오른 833.13 포인트로 거래되고 있습니다. 투자 주체별 매매 동향을 보면 거래소 시장에서는 개인과 기관이 함께 매수에 나서고 있습니다. 지난밤 뉴욕 증시는 미국의 코로나19 확진자 증가세가 둔화되고 제조업 지표가 호조를 보이면서 3대 지수 모두 오름세로 거래를 마쳤습니다. 시가 총액 상위 종액 살펴보면 상승하는 종목이 우세한 가운데 코스피가 연고점을 돌파해내면서 증권주들이 일제히 강세를 보이고 있고 급성 췌장염 성분이 나파모스타트가 국내외 코로나19 임상치료에서 효과를 확인한 것으로 알려지면서 관련주들이 급등하고 있습니다. 제일약품은 상한가를 기록 중에 있습니다. 업종별로는 거래소 시장에서 전 업종이 상승하고 있습니다. 이 시각 현재 중국 증시는 오르고 있고 일본 증시 또한 상승하고 있습니다.</span> <span class=\"sub\"> <span class=\"category\"> 정오뉴스</span> <span class=\"date\"> 2020-08-04</span> <span class=\"reporter\"> 김민재/삼성증권</span> </span></span></a></li><li class=\"item\"><a href=\"/replay/2020/nw1200/article/5863849_32496.html\"><span class=\"img ico_vod\"><img alt=\"공공 재건축 50층 허용…수도권 13만호 공급\" onerror=\"ImCommon.SetErrorImage(this);\" src=\"//image.imnews.imbc.com/replay/2020/nw1200/article/__icsFiles/afieldfile/2020/08/04/noon_20200804_122411_1_5_Small.jpg\"/></span><span class=\"txt_w\"> <span class=\"tit ellipsis2\">공공 재건축 50층 허용…수도권 13만호 공급</span> <span class=\"description ellipsis2\">◀ 앵커 ▶ 정부가 신규 택지 발굴 등을 통해 수도권에 13만호를 추가 공급하기로 했습니다. 또 공공 재건축 제도를 도입해 재건축 단지가 주택 등을 기부채납하면 50층까지 지을 수 있도록 규제를 풀기로 했습니다. 이학수 기자입니다. ◀ 리포트 ▶ 정부가 수도권에 신규로 13만호 이상을 공급하는 주택 공급 방안을 내놨습니다. 먼저 태릉골프장과 용산미군 반환부지 중 캠프킴 부지 등을 활용해 수도권 핵심 지역에 3만호 이상을 공급하기로 했습니다. 특히 입지 여건이 좋은 서울 서초구 서울지방조달청, 국립외교원과 정부과천청사 부지도 주거공간으로 조성되는데, 여기에 짓는 5600호는 청년·신혼부부에게 최대한 공급한다는 계획입니다. 또 3기 신도시 등에 대한 용적률 상향과 복합개발 예정 부지의 고밀화를 통해 2만 4천호를 공급하기로 했습니다. 정부는 한국토지주택공사 등 공공기관 참여를 전제로 재건축 단지의 고밀 재건축도 허용하기로 했습니다. 용적률을 500%까지 올려주고 층수도 50층까지 올리게 하는 대신 늘어난 용적률의 최대 70%까지는 기부채납하도록 하고, 용적률 증가에 따른 기대수익률 기준 90% 이상을 환수하겠다는 겁니다. ## 광고 ##정부는 이를 통해 향후 5년간 5만호 이상의 추가 공급이 이뤄질 것으로 기대하고 있습니다. 이밖에 서울 용산 정비창 공급 가구를 8천가구에서 1만 가구로 확대하는 등 기존에 조성 계획을 발표한 공공택지의 용적률을 올려 2만4천가구를 추가 공급하기로 했습니다. 3기 신도시 등의 사전청약 물량도 당초 3만 가구로 예정됐으나 이를 다시 6만 가구로 2배로 늘리기로 했습니다. 정부는 지난 5월 발표된 공급물량 7만호 등을 합하면 앞으로 수도권에 총 26만호의 대규모 주택공급이 추진된다고 밝혔습니다. 정부는 이번 공급대책 발표가 개발호재로 인식돼 시장 불안요인으로 작용할 가능성도 있다며 시장 교란행위는 발본색원할 것이라고 밝혔습니다. 홍남기 부총리는 특히 \"재건축으로 인한 인근 주택 가격상승 방지를 위해 필요하면 토지거래 허가구역 지정, 관계부처 합동 실가격 조사 등을 벌일 것\"이라고 덧붙였습니다. MBC뉴스 이학수입니다.</span> <span class=\"sub\"> <span class=\"category\"> 정오뉴스</span> <span class=\"date\"> 2020-08-04</span> <span class=\"reporter\"> 이학수</span> </span></span></a></li><li class=\"item\"><a href=\"/news/2020/world/article/5863840_32640.html\"><span class=\"img \"><img alt='일본 언론 \"징용기업 자산 매각 땐 금융제재까지 검토\"' onerror=\"ImCommon.SetErrorImage(this);\" src=\"//image.imnews.imbc.com/news/2020/world/article/__icsFiles/afieldfile/2020/08/04/p20200803_54.jpg\"/></span><span class=\"txt_w\"> <span class=\"tit ellipsis2\">일본 언론 \"징용기업 자산 매각 땐 금융제재까지 검토\"</span> <span class=\"description ellipsis2\">일제 강제동원 기업에 대한 국내 자산 압류 명령 효력이 오늘(4일) 자정부터 생긴 것과 관련해 일본 언론들은 일제히 일본 정부가 금융 제재 등의 대응 조치를 검토하고 있다고 일제히 보도했습니다. 아사히신문은 정부 관계자를 인용해 \"자산 매각에 맞선 일본 대응 조치로는 비자 면제 조치 정지와 주한 일본대사 소환만으로는 일본 기업의 손해와 균형이 맞지 않다\"고 전하면서 \"금융제재 등도 검토되고 있다\"고 보도했습니다. 니혼게이자이신문은 \"일본 정부의 대응책으로 외교적 조치와 경제적 조치, 국제법적 조치, 세 가지가 검토되고 있다\"고 전했습니다. 외교적 조치로는 주한 일본대사 소환과 비자 면제 중단이 거론되고, 경제적 조치로는 일본 내 한국 측 자산 압류와 보복 관세 외에도 작년 단행한 한국에 대한 수출 규제 조치를 더욱 엄격히 적용하는 방법이 검토되는 것으로 전해졌습니다. 국제법적 조치로는 한국이 국제법을 위반했다고 국제사법재판소(ICJ)에 제소하거나 세계은행 산하 국제투자분쟁해결센터(ICSID)에 중재를 맡기는 방법이 있다고 니혼게이자이 신문은 덧붙였습니다. 요미우리 신문에 따르면 자민당 내 보수계 의원들은 어제 관련 회의를 열고, 한국 측이 일본 기업의 자산을 현금화할 경우, 경제 제재를 발동해달라고 정부에 요구하기로 결정했습니다.</span> <span class=\"sub\"> <span class=\"category\"> 국제</span> <span class=\"date\"> 2020-08-04</span> <span class=\"reporter\"> 박진주</span> </span></span></a></li><li class=\"item\"><a href=\"/news/2020/politics/article/5863834_32626.html\"><span class=\"img \"><img alt='김종인 \"법으로 우격다짐해도 부동산 투기 못잡아\"' onerror=\"ImCommon.SetErrorImage(this);\" src=\"//image.imnews.imbc.com/news/2020/politics/article/__icsFiles/afieldfile/2020/08/04/p20200803_52.jpg\"/></span><span class=\"txt_w\"> <span class=\"tit ellipsis2\">김종인 \"법으로 우격다짐해도 부동산 투기 못잡아\"</span> <span class=\"description ellipsis2\">미래통합당 김종인 비상대책위원장은 정부의 부동산 정책과 관련해 \"정부가 법으로 우격다짐한다고 투기가 해결되지 않는다\"고 비판했습니다. 김 위원장은 오늘 의원총회에서 \"아파트 값 상승 등으로 민심이 매우 소란한데, 이 현상은 지난 3년간 경제정책이 완전히 실패했기 때문\"이라며 이 같이 밝혔습니다. 김 위원장은 아파트 가격이 오른 이유에 대해 \"가격이 오르면 규제 일변도로 나왔고, 규제는 규제를 낳고 끝없이 규제를 진행했다\"면서 \"선량한 시민들은 아파트값이 자기 과실과 상관없이 올라갔다\"고 지적했습니다. 이어 \"우리가 택한 시장경제질서에서 가격 메커니즘을 통제해선 절대 성공할 수 없다\"면서 \"인간 본능에 반하는 정책은 성공할 수 없다\"고 강조했습니다. 김 위원장은 \"우리가 수적으로 거대 여당을 견제할 수 없고 그렇다고 국회를 포기하고 나갈 수는 없는 일\"이라면서 \"논리를 정비해 국회 발언으로 알리면 현명한 국민들이 납득할 것\"이라고 말했습니다.</span> <span class=\"sub\"> <span class=\"category\"> 정치</span> <span class=\"date\"> 2020-08-04</span> <span class=\"reporter\"> 김지경</span> </span></span></a></li></ul>\n",
       "<button class=\"btn_view btn_more\" style=\"display: none;\" type=\"button\">더보기<i class=\"icon\">더보기 아이콘</i></button>\n",
       "<div class=\"list_pagination\"><div class=\"paging_area\"><a class=\"page_num on\" href=\"#none\">1</a><a class=\"page_num\" data-page-num=\"2\" href=\"#result\">2</a><a class=\"page_num\" data-page-num=\"3\" href=\"#result\">3</a><a class=\"page_num\" data-page-num=\"4\" href=\"#result\">4</a><a class=\"page_num\" data-page-num=\"5\" href=\"#result\">5</a><a class=\"page_arr next\" data-page-num=\"2\" href=\"#result\">다음 페이지로 이동</a><a class=\"page_arr last\" data-page-num=\"68870\" href=\"#result\">마지막 페이지로 이동</a></div></div>\n",
       "</div>\n",
       "</div>\n",
       "</div>\n",
       "</section>\n",
       "</div>\n",
       "<!-- //content -->\n",
       "</div>\n",
       "<!-- //container -->\n",
       "<footer id=\"footer\">\n",
       "<!-- PC footer -->\n",
       "<div class=\"pc_footer\">\n",
       "<div class=\"program_list\">\n",
       "<div class=\"wrap_tit\"><ul><li>다시보기</li><li>분야별 뉴스</li><li>엠빅 X 14F</li><li>취재플러스</li><li>바로가기</li></ul></div><div class=\"wrap_sort\"><div class=\"sort\"><h3>다시보기</h3><ul><li><a href=\"/replay/2020/nwdesk/\">뉴스데스크</a></li><li><a href=\"/replay/2020/nwtoday/\">뉴스투데이</a></li><li><a href=\"/replay/2020/nw1400/\">뉴스외전</a></li><li><a href=\"/replay/newsflash/\">뉴스특보</a></li><li><a href=\"/replay/2020/nw930/\">930MBC뉴스</a></li><li><a href=\"/replay/2020/nw1200/\">12MBC뉴스</a></li><li><a href=\"/replay/2020/nw1700/\">5MBC뉴스</a></li><li><a href=\"/replay/nwradio/\">라디오뉴스</a></li><li><a href=\"/replay/straight/\">스트레이트</a></li><li><a href=\"/replay/unity/\">통일전망대</a></li></ul></div><div class=\"sort\"><h3>분야별 뉴스</h3><ul><li><a href=\"/news/2020/politics/\">정치</a></li><li><a href=\"/news/2020/society/\">사회</a></li><li><a href=\"/news/2020/world/\">국제</a></li><li><a href=\"/news/2020/econo/\">경제ㆍ과학</a></li><li><a href=\"/news/2020/culture/\">문화ㆍ연예</a></li><li><a href=\"/news/network/\">네트워크</a></li><li><a href=\"/news/2020/sports/\">스포츠</a></li></ul></div><div class=\"sort\"><h3>엠빅 X 14F</h3><ul><li><a href=\"/original/mbig/\">엠빅뉴스</a></li><li><a href=\"/original/14f/\">14F</a></li><li><a href=\"/original/todayfield/\">Right Now</a></li></ul></div><div class=\"sort\"><h3>취재플러스</h3><ul><li><a href=\"/newszoomin/groupnews/\">탐사보도</a></li><li><a href=\"/newszoomin/newsinsight/\">뉴스인사이트</a></li><li><a href=\"/newszoomin/otbt/\">외통방통</a></li><li><a href=\"/newszoomin/issue12/\">국회M부스</a></li><li><a href=\"/newszoomin/maxmlb/\">맥스MLB</a></li><li><a href=\"/newszoomin/politicstime/\">정치적 참견 시점</a></li><li><a href=\"/newszoomin/todaythisnw/\">오늘 이뉴스</a></li><li><a href=\"/newszoomin/worldnow/\">World Now</a></li><li><a href=\"/newszoomin/seochom/\">서초동M본부</a></li><li><a href=\"/newszoomin/lmkeco/\">알려줘! 경제</a></li><li><a href=\"/newszoomin/detecm/\">탐정M</a></li><li><a href=\"/newszoomin/pyhotline/\">평양 핫라인</a></li><li><a href=\"/newszoomin/factweight/\">팩트의 무게</a></li></ul></div><div class=\"sort\"><h3>바로가기</h3><ul><li><a href=\"/more/report/\">제보</a></li><li><a href=\"/more/search/\">검색</a></li><li><a href=\"/more/bookmark/\">MY PICK</a></li><li><a href=\"/more/lastprogram/\">지난 프로그램</a></li><li><a href=\"/more/board/\">게시판</a></li><li><a href=\"/more/termofuse/\">이용약관</a></li><li><a href=\"/more/onair/\">LIVE</a></li><li><a href=\"/more/app/\">APP 소개</a></li></ul></div></div></div>\n",
       "<div class=\"wrap_corp\">\n",
       "<div class=\"corp_info\"> <div class=\"copyright\">            (주)문화방송   대표이사 박성제    서울시 마포구 성암로 267 (03925)   MBC 대표전화 02-789-0011 <br/>기사배열책임자, 청소년보호책임자 :  이동애   <a href=\"/more/privacy/article_rule.html\">기사 배열 기본 원칙</a>   <a href=\"/more/privacy/juvenile_protect.html\">청소년 보호 정책</a>   <a href=\"/more/privacy/index.html\">개인정보 처리방침</a><br/>Copyrightⓒ Since 1996, MBC All rights reserved.         </div> <div class=\"corp_sns\"> <span>Follow us</span> <ul> <li class=\"youtube\"><a href=\"https://www.youtube.com/mbcnews11\" target=\"_blank\" title=\"새창열림\">유튜브</a></li> <li class=\"facebook\"><a href=\"https://www.facebook.com/MBCnews\" target=\"_blank\" title=\"새창열림\">페이스북</a></li> <li class=\"twitter\"><a href=\"http://twitter.com/mbcnews\" target=\"_blank\" title=\"새창열림\">트위터</a></li> <li class=\"insta\"><a href=\"https://www.instagram.com/mbcnews_official/\" target=\"_blank\" title=\"새창열림\">인스타그램</a></li> <li class=\"band\"><a href=\"https://band.us/@mbcnewsofficial\" target=\"_blank\" title=\"새창열림\">밴드</a></li> <li class=\"post\"><a href=\"https://post.naver.com/mbcnews_official\" target=\"_blank\" title=\"새창열림\">네이버 포스트</a></li> </ul> </div> </div></div>\n",
       "</div>\n",
       "<!-- // PC footer -->\n",
       "<!-- 모바일 m_footer.js -->\n",
       "<div class=\"m_footer\"><div aria-label=\"모바일 푸터\" class=\"m_footer\"><div class=\"f_top\" style=\"display: none;\"><div class=\"font_size\"><button class=\"btn_font down\" type=\"button\"><span>가</span><i class=\"icon\">폰트 사이즈 작게</i></button><button class=\"btn_font up on\" type=\"button\"><span>가</span><i class=\"icon\">폰트 사이즈 크게</i></button></div><div class=\"go_top\"><button class=\"btn_gotop\" type=\"button\"><span>맨 위로</span><i class=\"icon\">페이지 맨 위로 이동</i></button></div></div><div class=\"f_bottom\"><div class=\"f_sns\"><ul><li class=\"icon_youtube\"><a href=\"https://www.youtube.com/mbcnews11\" target=\"_blank\" title=\"새창열림\">유튜브</a></li><li class=\"icon_facebook\"><a href=\"https://www.facebook.com/MBCnews\" target=\"_blank\" title=\"새창열림\">페이스북</a></li><li class=\"icon_tweeter\"><a href=\"http://twitter.com/mbcnews\" target=\"_blank\" title=\"새창열림\">트위터</a></li><li class=\"icon_instagram\"><a href=\"https://www.instagram.com/mbcnews_official/\" target=\"_blank\" title=\"새창열림\">인스타그램</a></li><li class=\"icon_band\"><a href=\"https://band.us/@mbcnewsofficial\" target=\"_blank\" title=\"새창열림\">밴드</a></li><li class=\"icon_post\"><a href=\"https://post.naver.com/mbcnews_official\" target=\"_blank\" title=\"새창열림\">네이버 포스트</a></li></ul></div><nav aria-label=\"푸터 내비게이션\" class=\"m_f_navi\" id=\"m_f_navi\"><ul><li><a href=\"http://aboutmbc.imbc.com/\">MBC소개</a></li><li><a href=\"/more/privacy/\">개인정보처리방침</a></li><li><a href=\"/more/termofuse/\">이용약관</a></li></ul><span><a href=\"https://imnews.imbc.com/test/so_test/dabletest/dabletesta/5661584_33063.html\"> - </a></span><a href=\"/more/privacy/article_rule.html\">기사배열, 청소년보호 책임자 : 이동애</a><span><a href=\"https://imnews.imbc.com/test/so_test/vodpage_t/5674462_33241.html\"> - </a></span></nav><div class=\"f_copyright\">Copyrightⓒ MBC All rights reserved.</div></div></div></div>\n",
       "<!-- // 모바일 m_footer.js -->\n",
       "</footer>\n",
       "</div>\n",
       "<div class=\"ui-datepicker ui-widget ui-widget-content ui-helper-clearfix ui-corner-all\" id=\"ui-datepicker-div\"></div><img alt=\"\" height=\"1\" src=\"https://ace-sync.toast.com/sendid?sid=dable&amp;uid=46023049.1596518711005\" style=\"position: absolute; top: -9999px; left: -9999px;\" width=\"1\"/><img alt=\"\" height=\"1\" src=\"https://analytics.ad.daum.net/match?d=111&amp;uid=46023049.1596518711005\" style=\"position: absolute; top: -9999px; left: -9999px;\" width=\"1\"/><img alt=\"\" height=\"1\" src=\"https://cm.g.doubleclick.net/pixel?google_nid=dable&amp;google_cm\" style=\"position: absolute; top: -9999px; left: -9999px;\" width=\"1\"/></body></html>"
      ]
     },
     "execution_count": 33,
     "metadata": {},
     "output_type": "execute_result"
    }
   ],
   "source": [
    "soup"
   ]
  },
  {
   "cell_type": "code",
   "execution_count": 63,
   "metadata": {},
   "outputs": [],
   "source": [
    "temp=soup.select('div#container > div')"
   ]
  },
  {
   "cell_type": "code",
   "execution_count": 74,
   "metadata": {},
   "outputs": [],
   "source": [
    "ss=soup.findAll('span', {'class':'tit ellipsis2'})"
   ]
  },
  {
   "cell_type": "code",
   "execution_count": 4,
   "metadata": {},
   "outputs": [],
   "source": [
    "\n",
    "def crawling():\n",
    "    title=[]\n",
    "    for page in range(1,90):#페이지 돌면서 크롤링\n",
    "        driver = webdriver.Chrome('C:/Users/user/Downloads/chromedriver_win32/chromedriver')\n",
    "        driver.implicitly_wait(1)\n",
    "        url='https://imnews.imbc.com/more/search/?mainSearch=%EA%B2%BD%EC%A0%9C#page='+str(page)\n",
    "        driver.get(url)\n",
    "        last_page_height = driver.execute_script(\"return document.documentElement.scrollHeight\")\n",
    "        driver.execute_script(\"window.scrollTo(0, document.documentElement.scrollHeight);\")\n",
    "        time.sleep(1.0)\n",
    "        new_page_height = driver.execute_script(\"return document.documentElement.scrollHeight\")\n",
    "        \n",
    "        last_page_height = new_page_height\n",
    "        soup = BeautifulSoup(driver.page_source, 'html.parser')\n",
    "        ss=soup.findAll('span', {'class':'tit ellipsis2'})\n",
    "        for s in range(0,len(ss)):\n",
    "            title.append(ss[s].text)\n",
    "    return title\n",
    "temp=crawling()"
   ]
  },
  {
   "cell_type": "code",
   "execution_count": 5,
   "metadata": {},
   "outputs": [
    {
     "name": "stdout",
     "output_type": "stream",
     "text": [
      "['산후조리원·유치원 정보 한눈에…열린소비자포털로 통합', '코스피·코스닥 모두 1% 가까이 상승', '카드업계, 수해 고객에 대금 청구유예 등 금융지원', '폭우로 가축 30만마리 폐사하고 농작물 6천㏊ 침수', '공공재건축 사례 발굴 착수…과열 개발예정지 기획조사', '김현미 \"전월세전환율 4.0% 너무 높아…개정할 것\"', '법원, 옵티머스 김재현 대표에 6894억원 추징보전 명령', '코스피·코스닥 강보합권 거래…개인 사자세', '국토부 1차관 \"공공재건축 서울시와 이견 없어\"', '외국인 아파트 취득 늘자…여당 \"실거주 않으면 중과세\" 입법 추진', '정부 \"9억 이상 고가주택 매매 자금출처 의심거래 상시조사\"', '[스마트리빙] 여름철 양파, 망에 담아 놓으면 금방 상해요', '[스마트리빙] 장마철 반려견 사료 어떻게 보관할까?', '새 단장 끝낸 모란시장…특화거리 재도약', '국제 금값, 사상 첫 온스당 2천 달러 돌파', '\"휴가 가려 샀더니\"…캠핑 용품, 유해물질 검출', '공급 충분하다더니…투기 자극 우려 없나?', '국제금값, 사상 첫 온스당 2천달러 돌파', '[이 시각 세계] 필리핀 코로나19 급증세…마닐라 등 준봉쇄령', '[뉴스 열어보기] \"커피숍 입장부터 주문까지 마스크 착용\"...커피숍 방역수칙 강화', '\"50층 줄게 50% 다오\"…시장 반응은 \\'글쎄\\'', \"수도권 '13만 호' 공급…50층 재건축도 허용\", '일본제철 \\'자산압류\\' 오늘부터…\"강제 매각 시 보복\"', '홍콩 무역금융 사모펀드 610억 환매, 내년 5월까지 연기', \"'월세 전환' 커지는 우려…'전월세 전환율' 낮아질까?\", \"TV조선 '방정오 3백 억 몰아주기?'…공정위 조사\", '공급 충분하다더니…투기심리 자극 우려 없나?', '\"50층 줄게 50% 다오\"…강남 재건축 시장 \"글쎄\"', \"공공지·유휴지 긁어 모아…수도권 '13만 호'\", '정부 \"공공재건축 최대 50층 허용, 정부-서울시 이견 없다\"', '금통위원들 \"완화적 통화정책 따른 자산 버블 우려\"', '경기 회복 기대감에 코스피 오름세…양 시장 상승 마감', '공공 재건축 50층 허용…수도권 13만 호 공급', '서울시 \"공공재건축 방안에 찬성 안 해\"…\"높이도 35층까지\"', '캠핑 의자·피크닉 매트서 기준 넘는 유해물질 검출', '123', '[이슈 완전정복] 채널 A기자와 한동훈 기소의 3가지 가능성, 부동산법 상세해설', '[정치 맞수다] 추미애 \"인권\" vs 윤석열 \"독재\" 충돌, \"전세 없어질 것\" vs \"과거 경험으로 봐 그럴 일 없다\"', 'KT \"재난지원금에 전통 시장 방문자 증가, 이후 다시 감소\"', '[이슈 완전정복] \"수도권에 13만2천호 공급\"…공공재건축 50층까지 허용', '日정부, 강제징용 기업 자산 매각시 \"온갖 선택지 시야에\"', '코스피, 1% 넘는 상승세…제일약품 상한가 기록', '공공 재건축 50층 허용…수도권 13만호 공급', '일본 언론 \"징용기업 자산 매각 땐 금융제재까지 검토\"', '김종인 \"법으로 우격다짐해도 부동산 투기 못잡아\"', '공공 재건축 50층까지 허용…태릉CC·서울조달청 부지 개발', '김태년 \"부동산 폭등 뒤엔 경제위기 엄습…과열 조기 진압해야\"', '경실련 \"의료계 전면파업 부적절…정부, 업무개시명령 발동하라\"', '홍남기 \"주택부지 태릉골프장만 검토…그외 그린벨트 선정 안해\"', '코스피, 2270선 회복…건설주 강세', '당정 \"예상보다 더 많은 주택 공급\"', '7월 소비자물가 0.3%↑…3개월 만에 상승', '당정 \"예상보다 더 많은 주택 공급 물량 발표…공공분양·임대 비중 높아\"', \"[스마트 리빙] 몰라서 못 받는 '전기료 할인' 놓치지 마세요\", '[스마트 리빙] 전기밥솥 내부 솥에 쌀 씻지 마세요', '취업 대신 \\'창농\\'…\"열대작물도 내 손으로\"', \"외국인도 '갭투자'…불투명 자금 '세무조사'\", '3부 오늘의 주요뉴스', '[이 시각 세계] 日 코로나19 누적 확진 4만 명 넘어', '[뉴스터치] 세입자 \"계약서 다시\" vs 집주인 \"안 돼\"', \"[뉴스터치] 열화상 카메라처럼 비접촉으로 '기침' 인식\", \"[뉴스터치] '자차' 가입했다면 규정에 따라 보험금 청구\", '아시아나 인수 무산?…산은 \"현대산업개발 책임\"', '2부 오늘의 주요뉴스', '오늘 수도권 공급대책 발표…\"10만 호 계획\"', '\"2025년까지 공공임대 주택 240만 호 확보\"', '1부 오늘의 주요뉴스', '홍남기 \"전세 감소·전셋값 상승, 공급 확대로 돌파\"', '[정참시] 윤희숙 이어 윤준병 \"나도 월세\"에 시끌 / 또, 취소… 휴가 가기 어려운 대통령…', '속도내는 민주·반발하는 통합…후속 법안 통과', '[오늘 이 뉴스] \"곳곳에 폭우·홍수\"…이상기후 지구촌', '\"42채 싹쓸이\"…외국인도 한국 아파트 \\'갭 투자\\'', '7월 완성차 내수 작년比 10%↑…수출은 감소폭 줄어', '[14F] 첫 우주왕복에 성공한 스페이스X! 6주 후 또다시 우주로 간다고? ㄹㅇ..?', '산은 \"LCC 추가지원 협의중…대한항공, 기안기금 신청 준비\"', '코스피, 개인 매수에 소폭 상승…코스닥은 급등', '이동걸 \"아시아나 결단 시점…계약 무산 책임은 현산에\"', '예탁원, 사모펀드 자산 확인하는 시스템 구축 나선다', '추미애 \"검사는 인권 옹호의 보루…절제된 권한 행사해야\"', '[권순표의 작심마이크] 존리 \"금융문맹은 질병…사교육할 돈 주식투자하라\"', \"공정위, 가전·정유·의료기기업체 '대리점 갑질' 실태조사\", '방통위원장 \"수신료 등 미디어 재원 구조 근본적 재검토\"', '코스피 소폭 조정…SK바이오팜↓, LG화학↑', '집중호우 피해 납세자, 최대 9개월 기한 연장', \"'아파트 42채' 미국인 등 다주택 외국인 탈세 혐의 조사\", \"[알려줘! 경제] '아파트 42채' 갭투자 나선 미국인…중국인 유학생은 임대사업\", '7월 서울 아파트값 초강세…전국도 9년 3개월 만에 최대 상승', '경실련 \"문정부 3년 서울 집값 상승률 34%…아파트값 52% 급등\"', '이해찬 \"내일 본회의에서 남은 부동산 법안 반드시 처리\"', '모바일 게임 상반기 매출 2조 8천억원 돌파…역대 최고 기록', '집중호우 피해 납세자에 납기연장·징수유예…세무조사 연기', '\"트럼프, 틱톡에 매각시한 통보\"…MS, 내달 15일까지 인수협상', '코스피, 하락세 전환…아모레퍼시픽 3% 넘게 하락', '\"서울시민 월급 한푼 안쓰고 모아도 아파트 사는데 12년 걸려\"', '기업 72% \"코로나19로 경영 악화 겪었다\"', \"[뉴스터치] 코로나19로 '보드게임' 매출 증가\", '[뉴스터치] 집값 오르자 서울 아파트 경매 취소 증가', \"[뉴스 열어보기] 한쪽은 폭염, 한쪽은 폭우…범인은 '시베리아 이상고온'\", '한 발 뺀 트럼프…백악관 \"대선 일정 변동 없어\"', '[스트레이트] 51억 벌고 세금은 0원? 다주택자들의 천국', '\"5일까지 최대 500mm\"…피해 예방 어떻게?', \"[스트레이트 예고] 집값 폭등의 또 다른 주범은 언론…'언론'은 정말 집값 안정을 바랄까?\", '주호영 \"부동산 정책과 입법, 헌법에서 벗어나\"', '[로드맨] 뜨는 제주, 닳는 제주', '\"미리 올리자\" vs \"계약 다시\"…곳곳에서 신경전', '\"여기는 비 안 왔는데?\"…옮겨 다니며 \\'물폭탄\\'', '휘발윳값 두 달 만에 하락전환…리터당 1361원', '트럼프 \"이르면 8월 1일부터 틱톡 사용 금지시킬 것\"', '홍남기 경제부총리 \"3분기 확실한 경기반등 이뤄낼 것\"', '게임장 경품 상한 1만 원으로 인상…경품에 생활용품 추가', '네이버는 美, 카카오는 日…웹툰 종주국에서 플랫폼 석권으로', '7월 수출 7%↓…넉 달 만에 한 자릿수대 감소', '7월 수출 7.0%↓…넉 달 만에 처음 한 자릿수대 감소', '고용지원금 만료 임박…티웨이 이어 제주항공도 무급휴직', '큰물 막아라 돼지 안고 현금 묻고', '극과극 남남북녀 손두부집 연 사연', '권총주고 노병 챙기고 의도는?', '\"파괴적 재앙 우려\" 개성 완성 봉쇄', '국제금값, 이틀만에 다시 최고가 경신…7월 10.3%↑', '\"4명 팔고 8명 집 내놨다\"…후속 인사와 연계?', '\"4명 팔고 8명 집 내놨다\"…후속 인사와 연계?', '트럼프 \"대선 미룰까?\"…비난 빗발치자 \\'취소!\\'', '\"이름만 같을 뿐인데\"…\\'묻지 마 투자\\'에 요동치는 주가', \"'불매 운동' 여파?…유니클로 '9개' 또 폐점\", '1,400명 쏟아졌는데 \\'두문불출\\'…\"아베 나와라\"', \"수도권에 '물폭탄' 쏟아진다…서울 최대 '250mm'\", '\"4명 팔고 8명 집 내놨다\"…후속 인사에 영향?', '외국인 매도 물량 부담에…코스피 약보합권 하락', '\"전세대출 증액, 집주인 동의 필요한 건 아냐\"', \"'계약 갱신·전월세 상한제' 오늘부터 시행\", '계약갱신청구권제·전월세상한제 공식 시행…관보로 공포', '올해 상반기 담배 17억갑 팔려…2016년 이후 최고', '은행 예금금리 사상 첫 0%대…가계대출금리도 사상 최저', '[권순표의 작심마이크] 경실련 \"(부동산)관료가 국민과 대통령을 속였다\" , \"임대 (경기도)기본 주택 방안은 환영\"', '[이슈 완전정복] 검찰 육탄전 독직폭행?, \"한동훈은 떳떳하다면 왜 휴대폰 수사를 막나?\"', '조양래 \"딸이 왜 이러는지…딸에게 경영권승계 생각 안 해 봤다\"', '\\'검찰개혁\\' 속도전…\"직접 수사 축소·권한 분산\"', '정부 \"전세대출 증액시 집주인 동의 필요한 건 아냐\"', '10명 중 7명 \"내년 상반기까지 주택 살 의사 있다\"', '작년 북한 경제성장률 0.4%, 3년만에 증가…한은 추정', '통일부 \"북측 수령 주체 비공개는 사업 성사 가능성 높이기 위해서\"', '코스피, 선물 시장서 큰 매도 규모 보이며 소폭 하락', \"경찰, '송도 땅 특혜 매각 의혹' 인천시 전직 공무원 등 3명 입건\", '올해 2분기 승용차 수출 40.6% 감소…수입 17.7% 증가', '신임 금통위원 3명, 총 100억 원대 부동산 보유', '개인·외국인 매수세…네이버·카카오 강세', \"6월 산업생산 4.2%↑…생산·소비·투자 '트리플 증가'\", '오픈마켓 해외사업자 피해 증가…중국 관련 피해 절반', '올해 상반기 손상으로 버려진 화폐 2조 7천억 원', '\\'검찰개혁\\'도 속도전…\"직접 수사 축소·권한 분산\"', '미국 2분기 성장률 -32.9%…73년만에 역대 최악', '1부 오늘의 주요뉴스', '국제유가 하락, WTI 40달러선 붕괴…금값도 10거래일 만에↓', '유럽증시, 코로나19발 경기지표 악화에 일제히 하락', '미국 2분기 성장률 -32.9%…통계집계 이래 73년 만에 최악', '日 코로나19 연일 신기록…고이케 \"독자적 긴급사태 선언 생각\"', '미 신규 실업수당 청구 143만 건…2주연속 증가세', '통일부, 코로나 방역물자 반출승인…북한 수령주체 비공개', '\"배달비 떠넘기고 음식값 올려라\"…\\'배민\\'의 갑질', '\\'검찰개혁\\'도 속도전…\"직접 수사 축소·권한 분산\"', '\"내일 당장 시행\"…전월세 시장 안정될까?', '7월 하순 무더위 시작이라더니…기록적 폭우 왜?', '통일부, 이인영 장관 취임 후 첫 대북 방역물자 반출 승인', '연준 경기부양 의지·외국인 매수세에 코스피 상승 마감', '\"국정원 → 대외안보정보원 개칭\"…대공수사권 삭제', '중부발전, 사업비 과다지급·화력발전소 신고 않고 임의가동', '금호산업 \"충분히 정보제공\" vs 현산 \"재실사\"', \"'혁신기업 국가대표' 1천개에 금융지원…3년간 40조\", '여성 하루 가사노동 3시간10분…남성은 48분', '100조 ELS 시장에 건전성 비율 강화…예상 손실률도 표기', '잠자고 꾸미는 시간 늘고 일·학습시간 줄어', '수돗물 유충 신고 2천 3백여 건…실제 확인 사례 26%', '재활용 시장 수익성 개선…환경부 단가 조정 권고', '[권순표의 작심마이크] 권익위원장 \"부동산 정책 맡은 다주택 공직자는 이해 충돌 가능성 있다\"', \"[이슈 완전정복]  '전세 세입자 계약은 법시행 날짜 따라 어떻게 달라지나?' 상세 해설\", '임대차 3법 시행 초읽기…임대료 최대 5% 제한', '전국 미분양 2만9천채…5년 1개월만에 최저', '서울 아파트 전셋값 7개월만에 최대 상승', '\"국정원→대외안보정보원, 檢수사 6대 범죄 한정\"', '[이슈 완전정복] \"9월부터 대량 생산\" 코로나 백신 \\'세계 최초\\'는 러시아?…\"임상 결과 \\'깜깜이\\' 효과도 \\'의문\\'\"', '국정원→대외안보정보원…검찰 수사는 6대범죄 한정', '네이버 역대 최대 분기 매출 기록…쇼핑·광고 등 호조', \"그린피스, '후쿠시마 오염수 방류 반대' 일본대사관에 서한\", '네이버 \"코로나 영향 현재 수준이면 하반기 목표 충족\"', '무인 단말기로 휴대전화 개통…통신사 비대면 서비스 강화', '중고 거래 앱 성장…이용자 1100만명 육박', '코스피, 외국인 매수세 이어지면서 신고가 경신', '정부, 8대 소비쿠폰 풀어 1조 원 소비 유도', '정부, 대기업 CVC 허용…지분 100% 보유, 외부자금은 40% 이내로', '8대 소비쿠폰 풀어 1조 소비 유도…지역사랑·온누리상품권 확대', '내년부터 개인신용평가 등급→점수제…대출 문턱 해소', '[알려줘! 경제] 전·월세 무조건 4년 된다? 세입자가 갑? 새 법 시행되면…', '김종인 \"어느 나라가 코로나19에 세금 올리나\"', '삼성전자 2분기 영업이익 8조1463억원…작년 대비 23.5% 증가', '7월 기업심리, 3개월 연속 개선…한은 \"회복세 탔다\"', '국내증시, 미 연준 통화 정책 완화로 상승세 출발', '김현미 \"중저가 주택 재산세율 인하…10월 발표\"', '\\'임대차 3법\\' 오늘 본회의…\"이르면 다음 주 시행\"', '김현미 \"이스타항공, 법정관리 신청할 듯…후속 조치 마련\"', \"[스마트리빙] 가스레인지 점화 안 되면 '건전지' 확인하세요\", '[경제쏙] 전.월세 기간 4년 된다? 임대차 3법 통과되면..', '파월 연준의장 \"경제 앞길 매우 불확실…코로나 억제에 달렸다\"', '600억弗 규모 한미 통화스와프 6개월 연장', '김현미 \"중저가 주택 재산세율 인하…10월 발표\"', \"[뉴스 열어보기] 올해 인구감소 '확실'...혼인은 21%나 감소\", \"美 연준, 기준금리 동결…'제로금리' 유지\", '\"이르면 다음 주 시행\"…기존 전·월세도 적용', '자율주행차 센서, 실리콘 소재로 개발해 비용 절감', '\\'일본 수출규제\\' WTO 패널 설치 확정…\"차별적 무역제한 입증할 것\"', \"경찰, '직원 모욕 혐의' 정윤숙 여성경제인협회장 기소의견 송치\", \"'장마·폭염·코로나19' 위험 속 쪽방촌\", '\"청각 장애인 기사님입니다\"…기술로 듣는다', '\"밀가루·계란 \\'통행세\\' 챙겨\"…SPC그룹 회장 고발', \"이스타 노조 '불법증여' 고발…이상직 '나 몰라라'\", \"주문전화 한 통 없는데…나도 모르게 '배달 불가'?\", '\"땅 꺼지고 고립되고\"…\\'5천4백만 명\\' 날벼락', '\"빠르면 다음 주 시행\"…기존 전월세도 적용', '코스피 3거래일 연속 상승…2260선 회복', '분양가 상한제 부활…서울·경기 322개 동 시행', '은성수, 인수 무산시 아시아나항공에 기안기금 투입 시사', '김현미 \"중저가 주택 재산세율 인하 대책 10월 발표\"', \"미국 코로나19 사망자 하루 1천600명…'레드존' 확대\", '이스타노조, 이상직 고발…조세포탈·허위사실공표 혐의', '靑 \"대북송금 이면합의서, 존재하지 않는 문건\"', '[권순표의 작심마이크] 행정수도 여론 심층분석-이전은 찬성, 이유는 집값문제가 아니라 국토균형발전', '민주 \"서울 글로벌 경제도시로\"…행정수도 여론전 박차', \"공정위, '통행세' 부당지원 혐의로 SPC그룹 총수 고발\", '개인·외국인 매수세…코스피·코스닥 상승 흐름, 셀트리온↓', \"'부동산 법' 상임위 통과…통합당, 강력 반발\", '과기정통부 장관 \"5G 기지국 적극 구축해 품질 문제 해소\"', '전자통신연구원, 5G 사물인터넷으로 스마트 공장 제어', '청각 장애인 기사 직접 고용 택시 다음 달 출시', \"전국 산사태 위기경보 '주의'로 상향\", '금융위 \"국책은행들, 코로나 대출 만기연장 전향적으로 검토 중\"', '급증한 유동성 60%, 가계 아닌 기업대출…\"투자 않고 쌓기만\"', '뉴욕증시 하락에 국내 증시 혼조 출발…개인·외국인 동반 매수세', '소비자심리 3개월째 반등…주택가격 전망 ↑', \"'부동산 법' 상임위 통과…통합당, 강력 반발\", '서울에 서민들 살 집이 사라진다…소형아파트값 평균 4억 원 돌파', '민간택지 분양가상한제 부활…서울·경기 322개동에서 시행', '온라인으로 해외물품 산 소비자 10명중 1명 이상 \"피해 봤다\"', '코로나 5개월…대기업 직원 1만 2천 명 줄었다', '은행 5년간 사모펀드 70조 원어치 판매…수수료 3천억여 원', '소비자심리지수 3개월째 반등…주택가격전망 지수는 역대 두 번째', '[스마트 리빙] 시원한 여름철 오이, 씁쓸한 맛 없애고 먹으려면?', '[스마트 리빙] 선크림 바를 때 눈 시리면 성분 살펴보세요', '[경제쏙] 금리인하요구권 활용', \"뜨거워진 '한반도'…아열대 외래종도 창궐\", \"[뉴스 열어보기] 임대차 3법 결국 '삐걱'\", \"美 '부양책 협상' 우려…금값 3일 연속 최고가\", \"'부동산 법' 상임위 통과…통합당, 강력 반발\", '[팩트의 무게] 한국 소득세 어떻게 봐야 할까?', '\"아빠한테 전세 줬어요\"…20·30대 대거 세무조사', \"부동산 입법 '속도전'…야당 반발 속 상임위 통과\", '정부, 미중갈등 대응 원칙제시…\"안보는 한미동맹·경제는 포용\"', '네이버, 미래에셋과 손잡고 중소 판매자 대출 상품 출시', '민간택지 분양가상한제 내일 시행…입주자공고 신청 속출', '전월세신고법 등 국회 국토교통위 통과', \"변호사 단체 반발에 '네이버 엑스퍼트' 수수료 인하\", \"국제공동 인공태양 프로젝트 'ITER 핵융합 반응장치' 조립 시작\", '홍남기 \"주택공급대책, 부동산 세제 입법 확정되는 내주초 발표\"', '김현미 \"공급대책, 투기 불쏘시개 되지 않게 고심\"', \"'외국인 순매수' 코스피 상승 견인…2250 상회\", '\"미래통합당 의원 부동산 평균 21억‥국민 7배\"', \"행안위, 野 불참 속 '복수 차관, 질병관리청 승격안' 처리\", '청년·신혼부부 매입임대 5천392가구 입주자 모집', '서울 아파트 \\'35층\\' 뚫나…\"잘못된 신호\" 우려도', '문 대통령 \"고통 분담하는 사회적 합의 절실\"', \"'파죽지세' 금값 역대 최고가 경신…8만 원 돌파\", '산업장관 \"월성원전 맥스터 공론화, 공정하게 했다\"', '김현미 \"등록임대 전수조사…의무 불이행 사업자 바로 등록말소\"', '코로나19 위기 극복 위한 노사정 협약 의결', '6월 수출량 1.4%↓·수출액 10.5%↓…반도체는 2개월 연속 증가', '금융위 부위원장 \"아시아나 모든 가능성 감안해 협의중\"', '[권순표의 작심마이크] 유현준 \"도시는 밀집해야 발전…행정수도는 도시적 관점에서는 성장 억제할 수도\"', \"[이슈 완전정복] '사상최고' 금값·회복된 주가…실물경제는 제자리인데\", '55~79세 3명 중 2명 \"73세까지 일하고 싶다\"', \"30대 직장인, 법인 세워 10여채 '갭투자'…현금증여 탈루 덜미\", \"'옵티머스 사기' 막는다…판매사·수탁사, 감시·견제 강화\", '\"장특공제 혜택 \\'1주택 보유기간\\'만 인정\"…여당서 법안 발의', '생업 때문에 혼자 해외근무했다면 1순위 청약 가능', '청년·신혼부부 매입임대 5천392가구 입주자 모집', '공정위, 선수금 무단 인출 아산상조 등록취소', '경실련 \"미래통합당 의원 부동산 평균 21억…국민 7배\"', '미중 갈등 반사 이익 기대감에 삼성전자↑…폭등세 꺾인 신풍제약↓', '서울 아파트 \\'35층\\' 뚫나…\"잘못된 신호\" 우려도', '대리점 단체 구성 가능…본사가 보복하면 최대 3배 배상', '대형마트·온라인 농축산물 20% 할인…농식품부, 7백억원 쿠폰 발행', '문 대통령, 노사정 협약식 참석…\"고통 분담하는 사회적 합의 절실\"', '티웨이항공 무급휴직 전환…LCC 고용지원금 연장 여부에 촉각', \"'검사장과 유착 의혹' 이동재 채널A 전 기자·사건 제보자 잇따라 조사\", '전국 일반 정수장 435곳 중 3곳 여과지에 유충 발견…수돗물엔 없다', '도로공사 기간제 채용 과정 부적절…최종 합격자 뒤바뀌어', '美 추가 부양책 기대감, 국내 증시도 오름세 출발', '쓰레기 소각시설 공사 5년간 담합한 2개사에 과징금 9.8억 원', \"[스마트 리빙] 집에서 만드는 '복숭아 병조림'\", \"[스마트 리빙] '광역알뜰교통카드'로 대중교통 요금 최대 30% 줄여요\", '\"한 달 새 1억\"…전셋값 \\'고공행진\\' 언제까지', \"서울 아파트 '35층' 뚫나…용적률 카드 만지작\", \"[뉴스터치] 올해 상반기 은행 수신 '역대 최대 증가'\", \"[뉴스터치] 날개 단 '구독 경제'…렌털 거래액 6배↑\", '민주 \"시간 끌지 않겠다\"…통합 \\'오락가락\\'', '[뉴스 열어보기] 가습기살균제 피해 \\'67만 명\\' 추산…\"사망자도 약 10배\" 外', '\"대북 거액 송금 논의했다\"…\"논의·합의 없었다\"', \"'표적'된 '저격수'…청문회 내내 거센 충돌\", '野 \"北 30억불 별도 논의 있어\"…박지원 \"논의도 합의도 없다\"', '1985 구로공단의 꿈…\"여전히 사람답게 살기 힘들어요\"', '높은 계단도 \\'척척\\' 로봇…\"승강기도 골라 타요\"', \"'논문 조작·성범죄' 저질러도…'대한민국 최고 과학자?'\", \"'표적'된 '저격수'…청문회 내내 거센 충돌\", '\"한 달 새 1억\"…전셋값 \\'고공행진\\' 언제까지', '서울 아파트 \\'35층\\' 뚫나…\"집값 부채질\" 우려도', '코스피, 외국인·기관 매수에 상승 마감 2,210 상회', '외국인·기관 매수에 국내 증시 반등', '구미·홍릉·울주·나주·군산·천안아산 신규 강소특구 지정', '택지 용적률도 상향 검토…공급대책 발표 임박', '문 대통령 \"3분기 경제 반등 성공할 수 있을 것\"', 'KT, 현대HCN 품었다…유료방송 1위 굳히기', \"박지원 청문회 '학력 위조·대북관' 공방\", '금 1g당 7만7천원대…4거래일 연속 최고가 행진', \"'성희롱·폭언 의혹' 피아트크라이슬러 코리아 사장 직무정지\", '코로나19 극복 노사정 합의안 내일 의결…민주노총 빼고 서명', '문 대통령 \"성장 반등에 총력…3분기부터 반등할 것\"', '재정적 도움 안준다며 어머니 때려 숨지게 한 40대', '[권순표의 작심마이크] 원희룡 \"진중권도 금태섭도 같이 갈 수 있다\"', '홍준표 \"\\'강성 귀족노조 방지 3법\\' 발의\"', '미중갈등에 뉴욕증시 하락 마감…빌 게이츠 서한에 코로나 백신 관련주↑', \"상반기 은행권 수신 108조 원 급증…'사상 최대'\", '택지 용적률도 상향 검토…공급대책 발표 임박', '싼샤댐에 또 홍수 밀려온다…하류로 대량 방류', '김현수 농식품 장관 \"청년, 땅 없이도 농업에 진입하도록 지원\"', '금 1g당 7만 6천원대…장중 최고가 경신', '안철수 \"與, 부동산 망국론 불러…입 다물면 안 되겠나\"', '양 시장 상승 출발…뉴욕 3대 지수 모두 내림세 마감', '민주, 오늘 행정수도TF 첫 회의…공론화 시동', '택지 용적률도 상향 검토…공급대책 발표 임박', '방송사 가수 영상 재판매 제한…공정위, 표준계약서 추진', '상반기 은행권 수신 108조원 급증…사상 최대 규모', \"[스마트 리빙] 장마철이 두려운 부스스 '곱슬머리' 차분하게 만들려면?\", \"[스마트 리빙] 비슷한 듯 다른 '선풍기·서큘레이터' 차이점은?\", '[뉴스터치] \"자동차 필요 없어\"…신규 면허 3년 새 101만 명→66만 명으로', '현대중공업, 하도급 업체 기술 유용 과징금', '아시아나항공에 재실사 요구…인수 포기 수순?', '\"2,200선 지켜낼까?\" vs \"중국 주식 관심\"', '트럼프 \"한미 철통동맹은 세계 평화·안정에 필수\"', '민주, 오늘 행정수도TF 첫 회의…공론화 시동', '택지 용적률도 상향 검토…공급대책 발표 임박', '민주, 오늘 행정수도TF 첫 회의…공론화 시동', '트럼프 \"한미 철통동맹은 아시아·세계의 평화·안정에 필수\"', '정윤숙 여성경제인협회장, 직원 모욕 혐의로 경찰 수사중', '정부 \"집주인 실거주시엔 전월세 계약갱신청구 거부할 수 있다\"', '코로나19 탓 국민 10명 중 6명은 여름휴가 안가거나 계획 못세워', '현대중공업, 하도급업체 기술 뺏고 거래 끊어…과징금 9.7억원', '3기 신도시 외 택지도 용적률 상향…1만가구 추가공급 추진', '네이버·카카오페이, 신용카드식 후불결제 30만원까지 된다', '테슬라, 올해 상반기 7천여 대 판매…점유율 43%', '작년 주택 시가총액 사상 처음 5천조 원 돌파', \"HDC현산, 아시아나에 인수상황 재점검 위한 '재실사' 요구\", \"테슬라, 국내 전기 승용차 판매 급증…보조금 43% '독식'\", '개인형 퇴직연금, 5월 말 535억 손해, 작년 말 6배 수준', '한국 고소득층 1인가구 세부담 26%…상승속도 OECD 1위', \"'옵티머스 펀드 이관' 공 넘겨받은 NH투자…금감원과 협의 착수\", '작년 집값 시총 5천조원 돌파…GDP 대비 집값 사상 최고', '올해 상반기 국내 자동차 생산 20% 감소…11년 만에 최소', \"[스트레이트 예고] 집값 폭등 주범…2014년 '분양가상한제' 폐지 내막 추적\", \"애플·아마존·구글·페이스북 CEO, 미 의회 첫 '동반 출석'\", '\"북, 코로나19 휴지기 거쳐 중국 묵인 속 대규모 밀수작전 재개\"', '취향을 배달합니다…AI가 고른 속옷·술이 집으로', '\"이곳이 위험\"…산사태 \\'하루 전날\\' 알려준다', \"'오지 말라는데' 몰래 온 도쿄 시민들…'관광객 거절' 속출\", \"인국공, '업무상 부상' 소방대원에게 재시험 기회…특혜 논란?\", '보잉737 항공기 엔진결함…국토부도 긴급 점검', \"북한에도 '물폭탄'…홍수 피해 긴장감 높아져\", '정진석 \"청와대·국회 등 세종시 주변 확대 배치해야\"', '한국 NGO, 북에 아프리카돼지열병 진단장비 보낸다', \"휘발유 가격 '제자리걸음'…이번주 상승폭 0원대\", '국제금값, 9년만에 역대 최고가 경신…장중 1,900달러 넘기도', '경실련 \"정부, 근거 없는 통계로 정책실패 은폐‥국토장관 교체하라\"', '금값 사흘 연속 최고가 행진…2% 가까이 상승', '美·中 갈등 고조에 코스피·코스닥 모두 하락 마감', '소비자정책위 \"산후도우미 결격사유에 아동학대 전력 추가\" 권고', '\"맛술은 술 아냐\"…주세 없어져 가격 내려갈 듯', '\\'울산 선거개입\\' 재판 6개월 공전…검찰 \"송철호 등 소환 불응\"', '범여권 시대전환 조정훈, 한국판뉴딜 저격…\"쓰레기 일자리\"', '김종인 \"6·25 참전 소년병 3만명 국가가 예우해야\"', '집 근처 시설에서 스마트 기기 사용법 교육하는 사업자 모집', '오늘의 뉴스테마', '코스피, 외국인 매수세 유입되며 상승전환 시도', '장애인 세 명 중 한 명 꼴 취업 성공…고용률 전체 인구 절반 못 미쳐', '정부, 부총리 주재 녹실회의…수도권 주택공급대책 논의', '라임 사태 여파…상반기 펀드 신규 설정액 41.8%↓', '김창룡 신임 경찰청장 취임…\"가장 안전한 나라 만들자\"', '캠코, 서울·부산 아파트 등 압류재산 1천270건 공매', \"카카오T 블루 '앱 미터기' 도입…중형 택시로는 국내 최초\", '이해찬 2분기 성장률 하락에 \"그나마 선방\"', '기재차관 \"이달말 농수산물 쿠폰부터 8대 쿠폰 순차 지급\"', '대정부질문 이틀째…여야, 고성·야유 반복하며 내내 소란', '다이소에서 판매된 체스 완구 2종 안전성 미흡…회수·환불 조치', '국내 증시 하락세 출발…기관 팔자세', 'MLB 노사, 포스트시즌 참가팀 10개→16개로 확대 합의', \"[스마트리빙] '해수욕장 혼잡도' 신호등 색깔로 확인하세요\", \"'환매 중단' 옵티머스 대표, 고객 돈 수백억 원 횡령\", \"'갭투자 원정대' 쓸고 간 자리…급매에도 '싸늘'\", '머리 숙인 경제팀…김현미 \"자리 연연 안 해\"', '[이 시각 세계] 美 코로나19 누적 환자 400만 명 넘어', '[뉴스터치] 재테크·투자 도서 판매량 2배 증가', \"[뉴스 열어보기] 추미애 경고 하루 만에…이지스 '강남 아파트' 다시 판다\", \"트럼프에 등 돌린 지지자들…'바이든' 고공행진 이유?\", '코로나에 무너진 성장률…\"22년 만에 최악\"', \"시연회에선 잘 터진 '5G'…다시 가 봤더니\", \"이틀 만에 인양했지만…온 바다가 '기름 범벅'\", \"'수십 톤 굴삭기'도 삼킨 폭우…4,500만 명 피해\", \"제주항공 '이스타 인수' 포기…직원 1,600명은?\", '불똥 맞은 \\'LG유플러스\\'…콕 집어 \"화웨이 쓰지마라\"', '빚 짊어진 동학개미 행렬…증권사들 \"대출 중단\"', \"'갭투자 원정대'가 쓸고 간 자리…급매에도 '싸늘'\", '머리 숙인 경제팀…김현미 \"자리 연연 안 해\"', 'KB증권, 라임펀드 고객에 가입금액 40% 선지급 결정', '하나금융, 상반기 순익 1조3천446억원…2012년 이후 최대', '강남아파트 통째 산 운용사 \"사업철회…이익없이 매각\"', '은성수 \"코로나 지원대출 만기 연장 쪽으로 의견 모아\"', '홍남기 \"기본소득은 장기적 검토 과제…경제 회복이 우선\"', '공공기관 정보 시스템, 2025년까지 클라우드로 전환', '이동통신유통협회 \"통신 3가, 고가 요금제 강요\"', '[14F] “죽으면 책임진다”며 구급차 막아선 택시 기사, 고의적 접촉사고 정황으로 ‘구속 영장 신청’', '美·中 갈등 고조에 부담…코스피 하락세 마감', '버려진 고사목…휴식처로 새 생명', \"'코로나 충격' 2분기 성장률 -3.3%…22년 만에 최저\", '제주항공, 인수 포기…이스타항공 파산 수순', '현대차 2분기 영업이익 코로나19 여파로 반토박', \"법무부 '수형자 자녀보호 T'F' 가동…지원법률 제정 등 논의\", \"검찰, '라임 펀드' 투자받은 '리드' 김정수 회장 구속 기소\", \"'캐릭터 사고팔아 고수익'…다단계 금융사기 성행\", '발암물질 다량 포함된 생활화학제품 134개 회수 조치', 'LG유플러스, 주 3일 재택 근무 실험', \"'무더기 비리' 과학창의재단, 비상 경영 체제 선포\", '지하철 5G 망 구축…서울 2·9호선과 비수도권 노선', '과기부, 하반기 중형 위성 발사·누리호 전문 점검 실시', \"[이슈 완전정복] 연봉 10억이상 월급쟁이는 몇 명? 세금은?…이재명의 역세권 '기본주택' 해부\", \"'코로나 충격' 2분기 성장률 -3.3%…22년 만에 최저\", '中 기록적 홍수로 수재민 4천500만명…재산피해 20조원 육박', '강남권 토지거래허가제 한 달…주택 거래 93% 급감', '세입자 없는 집 임대등록 때 임대료 상한 명시해야', '7·10대책 이후 서울 아파트값 상승폭 둔화…전세난은 심화', '경실련 \"판교 개발이익 8조원\"…\"공공사업자가 국민 상대로 땅장사\"']\n"
     ]
    }
   ],
   "source": [
    "print(temp)"
   ]
  },
  {
   "cell_type": "code",
   "execution_count": 4,
   "metadata": {},
   "outputs": [],
   "source": [
    "from konlpy.tag import Mecab\n",
    "mecab = Mecab(dicpath=\"C:\\\\mecab\\\\mecab-ko-dic\")\n",
    "import pandas as pd"
   ]
  },
  {
   "cell_type": "code",
   "execution_count": 7,
   "metadata": {},
   "outputs": [],
   "source": [
    "df= pd.DataFrame(temp)\n",
    "df.to_csv('newTitle.csv',encoding='utf-8-sig')\n",
    "#파일 저장"
   ]
  },
  {
   "cell_type": "code",
   "execution_count": null,
   "metadata": {},
   "outputs": [],
   "source": [
    "df=pd.read_csv('newTitle.csv')\n",
    "#파일 불러오기"
   ]
  },
  {
   "cell_type": "code",
   "execution_count": 19,
   "metadata": {},
   "outputs": [],
   "source": [
    "df=df.drop(\"Unnamed: 0\", axis=1)"
   ]
  },
  {
   "cell_type": "code",
   "execution_count": 23,
   "metadata": {
    "scrolled": true
   },
   "outputs": [
    {
     "data": {
      "text/plain": [
       "0               산후조리원·유치원 정보 한눈에…열린소비자포털로 통합\n",
       "1                       코스피·코스닥 모두 1% 가까이 상승\n",
       "2                카드업계, 수해 고객에 대금 청구유예 등 금융지원\n",
       "3               폭우로 가축 30만마리 폐사하고 농작물 6천㏊ 침수\n",
       "4               공공재건축 사례 발굴 착수…과열 개발예정지 기획조사\n",
       "                       ...                  \n",
       "440       中 기록적 홍수로 수재민 4천500만명…재산피해 20조원 육박\n",
       "441             강남권 토지거래허가제 한 달…주택 거래 93% 급감\n",
       "442              세입자 없는 집 임대등록 때 임대료 상한 명시해야\n",
       "443         7·10대책 이후 서울 아파트값 상승폭 둔화…전세난은 심화\n",
       "444    경실련 \"판교 개발이익 8조원\"…\"공공사업자가 국민 상대로 땅장사\"\n",
       "Name: 0, Length: 445, dtype: object"
      ]
     },
     "execution_count": 23,
     "metadata": {},
     "output_type": "execute_result"
    }
   ],
   "source": [
    "df.get('0')"
   ]
  },
  {
   "cell_type": "code",
   "execution_count": 75,
   "metadata": {},
   "outputs": [],
   "source": [
    "sentences=df.values\n",
    "#데이터만 추출 나중에 사용"
   ]
  },
  {
   "cell_type": "code",
   "execution_count": 149,
   "metadata": {},
   "outputs": [
    {
     "name": "stdout",
     "output_type": "stream",
     "text": [
      "{'코로나': 26, '주택': 21, '코스피': 19, '상승': 19, '아파트': 18, '공급': 18, '서울': 18, '경제': 18, '부동산': 16, '수도': 15, '스마트': 14, '최대': 14, '외국인': 13, '정부': 13, '층': 13, '투자': 13, '집': 13, '리빙': 12, '뉴스': 12, '법': 12, '개월': 12, '최고': 12, '분기': 12, '시행': 12, '증가': 11, '상반기': 11, '조사': 10, '시장': 10, '발표': 10, '대책': 10, '하락': 10, '금융': 9, '김현미': 9, '금값': 9, '사상': 9, '일': 9, '감소': 9, '주': 9, '뉴스터치': 9, '피해': 9, '집값': 9, '대출': 9, '통합': 8, '전월세': 8, '전환': 8, '돌파': 8, '우려': 8, '호': 8, '오늘': 8, '공공': 8, '기업': 8, '검토': 8, '임대': 8, '증시': 8, '배': 8, '국내': 8, '위': 8, '지원': 7, '것': 7, '거래': 7, '개인': 7, '허용': 7, '펀드': 7, '마감': 7, '이슈': 7, '완전': 7, '정복': 7, '인수': 7, '민주': 7, '통과': 7, '역대': 7, '트럼프': 7, '달': 7, '네이버': 7, '美': 7, '개': 7, '올해': 7, '검찰': 7, '수사': 7, '성장률': 7, '연속': 7, '수': 7, '합의': 7, '택지': 7, '소비자': 6, '국제': 6, '세계': 6, '매각': 6, '정책': 6, '경기': 6, '가능': 6, '전세': 6, '폭': 6, '경실련': 6, '갭': 6, '대통령': 6, '반발': 6, '작년': 6, '수출': 6, '계약': 6}\n"
     ]
    },
    {
     "data": {
      "text/plain": [
       "<matplotlib.image.AxesImage at 0x18d60d87888>"
      ]
     },
     "execution_count": 149,
     "metadata": {},
     "output_type": "execute_result"
    },
    {
     "data": {
      "image/png": "[encoded data removed]",
      "text/plain": [
       "<Figure size 720x720 with 1 Axes>"
      ]
     },
     "metadata": {
      "needs_background": "light"
     },
     "output_type": "display_data"
    }
   ],
   "source": [
    "galexy_posts = df.get('0')\n",
    "\n",
    "\n",
    "galexy_stop_words = r\"외 등 만 명 원 천 억 년 월 대 중 조 . ' 3\"\n",
    "galexy_stop_words = galexy_stop_words.split(' ')\n",
    "galexy_stop_words[0:10]\n",
    "\n",
    "# 불용어 제거\n",
    "galexy_nouns = []\n",
    "for post in galexy_posts:\n",
    "    for noun in mecab.nouns(post): #문장을 명사로 바꾼다.\n",
    "        if noun not in galexy_stop_words: #filter로 필요없는 명사만 걸러낸다.\n",
    "            galexy_nouns.append(noun)\n",
    "\n",
    "galexy_nouns[0:10]\n",
    "\n",
    "from collections import Counter\n",
    "num_top_nouns = 100\n",
    "galexy_nouns_counter = Counter(galexy_nouns)\n",
    "galexy_top_nouns = dict(galexy_nouns_counter.most_common(num_top_nouns))\n",
    "print(galexy_top_nouns)\n",
    "\n",
    "from wordcloud import WordCloud\n",
    "galexy_wc = WordCloud(background_color=\"white\", font_path='./Downloads/nlp_class_day2-master/nlp_class_day2-master/font/NanumBarunGothic.ttf')\n",
    "galexy_wc.generate_from_frequencies(galexy_top_nouns)\n",
    "\n",
    "import matplotlib.pyplot as plt\n",
    "figure = plt.figure()\n",
    "figure.set_size_inches(10, 10)\n",
    "ax = figure.add_subplot(1, 1, 1)\n",
    "ax.axis(\"off\")\n",
    "ax.imshow(galexy_wc)"
   ]
  },
  {
   "cell_type": "code",
   "execution_count": 150,
   "metadata": {},
   "outputs": [],
   "source": [
    "temp=df.values"
   ]
  },
  {
   "cell_type": "code",
   "execution_count": 151,
   "metadata": {},
   "outputs": [
    {
     "name": "stdout",
     "output_type": "stream",
     "text": [
      "['산후조리원·유치원 정보 한눈에…열린소비자포털로 통합 코스피·코스닥 모두 1% 가까이 상승 카드업계, 수해 고객에 대금 청구유예 등 금융지원 폭우로 가축 30만마리 폐사하고 농작물 6천㏊ 침수 공공재건축 사례 발굴 착수…과열 개발예정지 기획조사 김현미 \"전월세전환율 4.0% 너무 높아…개정할 것\" 법원, 옵티머스 김재현 대표에 6894억원 추징보전 명령 코스피·코스닥 강보합권 거래…개인 사자세 국토부 1차관 \"공공재건축 서울시와 이견 없어\" 외국인 아파트 취득 늘자…여당 \"실거주 않으면 중과세\" 입법 추진 정부 \"9억 이상 고가주택 매매 자금출처 의심거래 상시조사\" [스마트리빙] 여름철 양파, 망에 담아 놓으면 금방 상해요 [스마트리빙] 장마철 반려견 사료 어떻게 보관할까? 새 단장 끝낸 모란시장…특화거리 재도약 국제 금값, 사상 첫 온스당 2천 달러 돌파 \"휴가 가려 샀더니\"…캠핑 용품, 유해물질 검출 공급 충분하다더니…투기 자극 우려 없나? 국제금값, 사상 첫 온스당 2천달러 돌파 [이 시각 세계] 필리핀 코로나19 급증세…마닐라 등 준봉쇄령 [뉴스 열어보기] \"커피숍 입장부터 주문까지 마스크 착용\"...커피숍 방역수칙 강화 \"50층 줄게 50% 다오\"…시장 반응은 \\'글쎄\\' 수도권 \\'13만 호\\' 공급…50층 재건축도 허용 일본제철 \\'자산압류\\' 오늘부터…\"강제 매각 시 보복\" 홍콩 무역금융 사모펀드 610억 환매, 내년 5월까지 연기 \\'월세 전환\\' 커지는 우려…\\'전월세 전환율\\' 낮아질까? TV조선 \\'방정오 3백 억 몰아주기?\\'…공정위 조사 공급 충분하다더니…투기심리 자극 우려 없나? \"50층 줄게 50% 다오\"…강남 재건축 시장 \"글쎄\" 공공지·유휴지 긁어 모아…수도권 \\'13만 호\\' 정부 \"공공재건축 최대 50층 허용, 정부-서울시 이견 없다\" 금통위원들 \"완화적 통화정책 따른 자산 버블 우려\" 경기 회복 기대감에 코스피 오름세…양 시장 상승 마감 공공 재건축 50층 허용…수도권 13만 호 공급 서울시 \"공공재건축 방안에 찬성 안 해\"…\"높이도 35층까지\" 캠핑 의자·피크닉 매트서 기준 넘는 유해물질 검출 123 [이슈 완전정복] 채널 A기자와 한동훈 기소의 3가지 가능성, 부동산법 상세해설 [정치 맞수다] 추미애 \"인권\" vs 윤석열 \"독재\" 충돌, \"전세 없어질 것\" vs \"과거 경험으로 봐 그럴 일 없다\" KT \"재난지원금에 전통 시장 방문자 증가, 이후 다시 감소\" [이슈 완전정복] \"수도권에 13만2천호 공급\"…공공재건축 50층까지 허용 日정부, 강제징용 기업 자산 매각시 \"온갖 선택지 시야에\" 코스피, 1% 넘는 상승세…제일약품 상한가 기록 공공 재건축 50층 허용…수도권 13만호 공급 일본 언론 \"징용기업 자산 매각 땐 금융제재까지 검토\" 김종인 \"법으로 우격다짐해도 부동산 투기 못잡아\" 공공 재건축 50층까지 허용…태릉CC·서울조달청 부지 개발 김태년 \"부동산 폭등 뒤엔 경제위기 엄습…과열 조기 진압해야\" 경실련 \"의료계 전면파업 부적절…정부, 업무개시명령 발동하라\" 홍남기 \"주택부지 태릉골프장만 검토…그외 그린벨트 선정 안해\" 코스피, 2270선 회복…건설주 강세 당정 \"예상보다 더 많은 주택 공급\" 7월 소비자물가 0.3%↑…3개월 만에 상승 당정 \"예상보다 더 많은 주택 공급 물량 발표…공공분양·임대 비중 높아\" [스마트 리빙] 몰라서 못 받는 \\'전기료 할인\\' 놓치지 마세요 [스마트 리빙] 전기밥솥 내부 솥에 쌀 씻지 마세요 취업 대신 \\'창농\\'…\"열대작물도 내 손으로\" 외국인도 \\'갭투자\\'…불투명 자금 \\'세무조사\\' 3부 오늘의 주요뉴스 [이 시각 세계] 日 코로나19 누적 확진 4만 명 넘어 [뉴스터치] 세입자 \"계약서 다시\" vs 집주인 \"안 돼\" [뉴스터치] 열화상 카메라처럼 비접촉으로 \\'기침\\' 인식 [뉴스터치] \\'자차\\' 가입했다면 규정에 따라 보험금 청구 아시아나 인수 무산?…산은 \"현대산업개발 책임\" 2부 오늘의 주요뉴스 오늘 수도권 공급대책 발표…\"10만 호 계획\" \"2025년까지 공공임대 주택 240만 호 확보\" 1부 오늘의 주요뉴스 홍남기 \"전세 감소·전셋값 상승, 공급 확대로 돌파\" [정참시] 윤희숙 이어 윤준병 \"나도 월세\"에 시끌 / 또, 취소… 휴가 가기 어려운 대통령… 속도내는 민주·반발하는 통합…후속 법안 통과 [오늘 이 뉴스] \"곳곳에 폭우·홍수\"…이상기후 지구촌 \"42채 싹쓸이\"…외국인도 한국 아파트 \\'갭 투자\\' 7월 완성차 내수 작년比 10%↑…수출은 감소폭 줄어 [14F] 첫 우주왕복에 성공한 스페이스X! 6주 후 또다시 우주로 간다고? ㄹㅇ..? 산은 \"LCC 추가지원 협의중…대한항공, 기안기금 신청 준비\" 코스피, 개인 매수에 소폭 상승…코스닥은 급등 이동걸 \"아시아나 결단 시점…계약 무산 책임은 현산에\" 예탁원, 사모펀드 자산 확인하는 시스템 구축 나선다 추미애 \"검사는 인권 옹호의 보루…절제된 권한 행사해야\" [권순표의 작심마이크] 존리 \"금융문맹은 질병…사교육할 돈 주식투자하라\" 공정위, 가전·정유·의료기기업체 \\'대리점 갑질\\' 실태조사 방통위원장 \"수신료 등 미디어 재원 구조 근본적 재검토\" 코스피 소폭 조정…SK바이오팜↓, LG화학↑ 집중호우 피해 납세자, 최대 9개월 기한 연장 \\'아파트 42채\\' 미국인 등 다주택 외국인 탈세 혐의 조사 [알려줘! 경제] \\'아파트 42채\\' 갭투자 나선 미국인…중국인 유학생은 임대사업 7월 서울 아파트값 초강세…전국도 9년 3개월 만에 최대 상승 경실련 \"문정부 3년 서울 집값 상승률 34%…아파트값 52% 급등\" 이해찬 \"내일 본회의에서 남은 부동산 법안 반드시 처리\" 모바일 게임 상반기 매출 2조 8천억원 돌파…역대 최고 기록 집중호우 피해 납세자에 납기연장·징수유예…세무조사 연기 \"트럼프, 틱톡에 매각시한 통보\"…MS, 내달 15일까지 인수협상 코스피, 하락세 전환…아모레퍼시픽 3% 넘게 하락 \"서울시민 월급 한푼 안쓰고 모아도 아파트 사는데 12년 걸려\" 기업 72% \"코로나19로 경영 악화 겪었다\" [뉴스터치] 코로나19로 \\'보드게임\\' 매출 증가 [뉴스터치] 집값 오르자 서울 아파트 경매 취소 증가 [뉴스 열어보기] 한쪽은 폭염, 한쪽은 폭우…범인은 \\'시베리아 이상고온\\' 한 발 뺀 트럼프…백악관 \"대선 일정 변동 없어\" [스트레이트] 51억 벌고 세금은 0원? 다주택자들의 천국 \"5일까지 최대 500mm\"…피해 예방 어떻게? [스트레이트 예고] 집값 폭등의 또 다른 주범은 언론…\\'언론\\'은 정말 집값 안정을 바랄까? 주호영 \"부동산 정책과 입법, 헌법에서 벗어나\" [로드맨] 뜨는 제주, 닳는 제주 \"미리 올리자\" vs \"계약 다시\"…곳곳에서 신경전 \"여기는 비 안 왔는데?\"…옮겨 다니며 \\'물폭탄\\' 휘발윳값 두 달 만에 하락전환…리터당 1361원 트럼프 \"이르면 8월 1일부터 틱톡 사용 금지시킬 것\" 홍남기 경제부총리 \"3분기 확실한 경기반등 이뤄낼 것\" 게임장 경품 상한 1만 원으로 인상…경품에 생활용품 추가 네이버는 美, 카카오는 日…웹툰 종주국에서 플랫폼 석권으로 7월 수출 7%↓…넉 달 만에 한 자릿수대 감소 7월 수출 7.0%↓…넉 달 만에 처음 한 자릿수대 감소 고용지원금 만료 임박…티웨이 이어 제주항공도 무급휴직 큰물 막아라 돼지 안고 현금 묻고 극과극 남남북녀 손두부집 연 사연 권총주고 노병 챙기고 의도는? \"파괴적 재앙 우려\" 개성 완성 봉쇄 국제금값, 이틀만에 다시 최고가 경신…7월 10.3%↑ \"4명 팔고 8명 집 내놨다\"…후속 인사와 연계? \"4명 팔고 8명 집 내놨다\"…후속 인사와 연계? 트럼프 \"대선 미룰까?\"…비난 빗발치자 \\'취소!\\' \"이름만 같을 뿐인데\"…\\'묻지 마 투자\\'에 요동치는 주가 \\'불매 운동\\' 여파?…유니클로 \\'9개\\' 또 폐점 1,400명 쏟아졌는데 \\'두문불출\\'…\"아베 나와라\" 수도권에 \\'물폭탄\\' 쏟아진다…서울 최대 \\'250mm\\' \"4명 팔고 8명 집 내놨다\"…후속 인사에 영향? 외국인 매도 물량 부담에…코스피 약보합권 하락 \"전세대출 증액, 집주인 동의 필요한 건 아냐\" \\'계약 갱신·전월세 상한제\\' 오늘부터 시행 계약갱신청구권제·전월세상한제 공식 시행…관보로 공포 올해 상반기 담배 17억갑 팔려…2016년 이후 최고 은행 예금금리 사상 첫 0%대…가계대출금리도 사상 최저 [권순표의 작심마이크] 경실련 \"(부동산)관료가 국민과 대통령을 속였다\" , \"임대 (경기도)기본 주택 방안은 환영\" [이슈 완전정복] 검찰 육탄전 독직폭행?, \"한동훈은 떳떳하다면 왜 휴대폰 수사를 막나?\" 조양래 \"딸이 왜 이러는지…딸에게 경영권승계 생각 안 해 봤다\" \\'검찰개혁\\' 속도전…\"직접 수사 축소·권한 분산\" 정부 \"전세대출 증액시 집주인 동의 필요한 건 아냐\" 10명 중 7명 \"내년 상반기까지 주택 살 의사 있다\" 작년 북한 경제성장률 0.4%, 3년만에 증가…한은 추정 통일부 \"북측 수령 주체 비공개는 사업 성사 가능성 높이기 위해서\" 코스피, 선물 시장서 큰 매도 규모 보이며 소폭 하락 경찰, \\'송도 땅 특혜 매각 의혹\\' 인천시 전직 공무원 등 3명 입건 올해 2분기 승용차 수출 40.6% 감소…수입 17.7% 증가 신임 금통위원 3명, 총 100억 원대 부동산 보유 개인·외국인 매수세…네이버·카카오 강세 6월 산업생산 4.2%↑…생산·소비·투자 \\'트리플 증가\\' 오픈마켓 해외사업자 피해 증가…중국 관련 피해 절반 올해 상반기 손상으로 버려진 화폐 2조 7천억 원 \\'검찰개혁\\'도 속도전…\"직접 수사 축소·권한 분산\" 미국 2분기 성장률 -32.9%…73년만에 역대 최악 1부 오늘의 주요뉴스 국제유가 하락, WTI 40달러선 붕괴…금값도 10거래일 만에↓ 유럽증시, 코로나19발 경기지표 악화에 일제히 하락 미국 2분기 성장률 -32.9%…통계집계 이래 73년 만에 최악 日 코로나19 연일 신기록…고이케 \"독자적 긴급사태 선언 생각\" 미 신규 실업수당 청구 143만 건…2주연속 증가세 통일부, 코로나 방역물자 반출승인…북한 수령주체 비공개 \"배달비 떠넘기고 음식값 올려라\"…\\'배민\\'의 갑질 \\'검찰개혁\\'도 속도전…\"직접 수사 축소·권한 분산\" \"내일 당장 시행\"…전월세 시장 안정될까? 7월 하순 무더위 시작이라더니…기록적 폭우 왜? 통일부, 이인영 장관 취임 후 첫 대북 방역물자 반출 승인 연준 경기부양 의지·외국인 매수세에 코스피 상승 마감 \"국정원 → 대외안보정보원 개칭\"…대공수사권 삭제 중부발전, 사업비 과다지급·화력발전소 신고 않고 임의가동 금호산업 \"충분히 정보제공\" vs 현산 \"재실사\" \\'혁신기업 국가대표\\' 1천개에 금융지원…3년간 40조 여성 하루 가사노동 3시간10분…남성은 48분 100조 ELS 시장에 건전성 비율 강화…예상 손실률도 표기 잠자고 꾸미는 시간 늘고 일·학습시간 줄어 수돗물 유충 신고 2천 3백여 건…실제 확인 사례 26% 재활용 시장 수익성 개선…환경부 단가 조정 권고 [권순표의 작심마이크] 권익위원장 \"부동산 정책 맡은 다주택 공직자는 이해 충돌 가능성 있다\" [이슈 완전정복]  \\'전세 세입자 계약은 법시행 날짜 따라 어떻게 달라지나?\\' 상세 해설 임대차 3법 시행 초읽기…임대료 최대 5% 제한 전국 미분양 2만9천채…5년 1개월만에 최저 서울 아파트 전셋값 7개월만에 최대 상승 \"국정원→대외안보정보원, 檢수사 6대 범죄 한정\" [이슈 완전정복] \"9월부터 대량 생산\" 코로나 백신 \\'세계 최초\\'는 러시아?…\"임상 결과 \\'깜깜이\\' 효과도 \\'의문\\'\" 국정원→대외안보정보원…검찰 수사는 6대범죄 한정 네이버 역대 최대 분기 매출 기록…쇼핑·광고 등 호조 그린피스, \\'후쿠시마 오염수 방류 반대\\' 일본대사관에 서한 네이버 \"코로나 영향 현재 수준이면 하반기 목표 충족\" 무인 단말기로 휴대전화 개통…통신사 비대면 서비스 강화 중고 거래 앱 성장…이용자 1100만명 육박 코스피, 외국인 매수세 이어지면서 신고가 경신 정부, 8대 소비쿠폰 풀어 1조 원 소비 유도 정부, 대기업 CVC 허용…지분 100% 보유, 외부자금은 40% 이내로 8대 소비쿠폰 풀어 1조 소비 유도…지역사랑·온누리상품권 확대 내년부터 개인신용평가 등급→점수제…대출 문턱 해소 [알려줘! 경제] 전·월세 무조건 4년 된다? 세입자가 갑? 새 법 시행되면… 김종인 \"어느 나라가 코로나19에 세금 올리나\" 삼성전자 2분기 영업이익 8조1463억원…작년 대비 23.5% 증가 7월 기업심리, 3개월 연속 개선…한은 \"회복세 탔다\" 국내증시, 미 연준 통화 정책 완화로 상승세 출발 김현미 \"중저가 주택 재산세율 인하…10월 발표\" \\'임대차 3법\\' 오늘 본회의…\"이르면 다음 주 시행\" 김현미 \"이스타항공, 법정관리 신청할 듯…후속 조치 마련\" [스마트리빙] 가스레인지 점화 안 되면 \\'건전지\\' 확인하세요 [경제쏙] 전.월세 기간 4년 된다? 임대차 3법 통과되면.. 파월 연준의장 \"경제 앞길 매우 불확실…코로나 억제에 달렸다\" 600억弗 규모 한미 통화스와프 6개월 연장 김현미 \"중저가 주택 재산세율 인하…10월 발표\" [뉴스 열어보기] 올해 인구감소 \\'확실\\'...혼인은 21%나 감소 美 연준, 기준금리 동결…\\'제로금리\\' 유지 \"이르면 다음 주 시행\"…기존 전·월세도 적용 자율주행차 센서, 실리콘 소재로 개발해 비용 절감 \\'일본 수출규제\\' WTO 패널 설치 확정…\"차별적 무역제한 입증할 것\" 경찰, \\'직원 모욕 혐의\\' 정윤숙 여성경제인협회장 기소의견 송치 \\'장마·폭염·코로나19\\' 위험 속 쪽방촌 \"청각 장애인 기사님입니다\"…기술로 듣는다 \"밀가루·계란 \\'통행세\\' 챙겨\"…SPC그룹 회장 고발 이스타 노조 \\'불법증여\\' 고발…이상직 \\'나 몰라라\\' 주문전화 한 통 없는데…나도 모르게 \\'배달 불가\\'? \"땅 꺼지고 고립되고\"…\\'5천4백만 명\\' 날벼락 \"빠르면 다음 주 시행\"…기존 전월세도 적용 코스피 3거래일 연속 상승…2260선 회복 분양가 상한제 부활…서울·경기 322개 동 시행 은성수, 인수 무산시 아시아나항공에 기안기금 투입 시사 김현미 \"중저가 주택 재산세율 인하 대책 10월 발표\" 미국 코로나19 사망자 하루 1천600명…\\'레드존\\' 확대 이스타노조, 이상직 고발…조세포탈·허위사실공표 혐의 靑 \"대북송금 이면합의서, 존재하지 않는 문건\" [권순표의 작심마이크] 행정수도 여론 심층분석-이전은 찬성, 이유는 집값문제가 아니라 국토균형발전 민주 \"서울 글로벌 경제도시로\"…행정수도 여론전 박차 공정위, \\'통행세\\' 부당지원 혐의로 SPC그룹 총수 고발 개인·외국인 매수세…코스피·코스닥 상승 흐름, 셀트리온↓ \\'부동산 법\\' 상임위 통과…통합당, 강력 반발 과기정통부 장관 \"5G 기지국 적극 구축해 품질 문제 해소\" 전자통신연구원, 5G 사물인터넷으로 스마트 공장 제어 청각 장애인 기사 직접 고용 택시 다음 달 출시 전국 산사태 위기경보 \\'주의\\'로 상향 금융위 \"국책은행들, 코로나 대출 만기연장 전향적으로 검토 중\" 급증한 유동성 60%, 가계 아닌 기업대출…\"투자 않고 쌓기만\" 뉴욕증시 하락에 국내 증시 혼조 출발…개인·외국인 동반 매수세 소비자심리 3개월째 반등…주택가격 전망 ↑ \\'부동산 법\\' 상임위 통과…통합당, 강력 반발 서울에 서민들 살 집이 사라진다…소형아파트값 평균 4억 원 돌파 민간택지 분양가상한제 부활…서울·경기 322개동에서 시행 온라인으로 해외물품 산 소비자 10명중 1명 이상 \"피해 봤다\" 코로나 5개월…대기업 직원 1만 2천 명 줄었다 은행 5년간 사모펀드 70조 원어치 판매…수수료 3천억여 원 소비자심리지수 3개월째 반등…주택가격전망 지수는 역대 두 번째 [스마트 리빙] 시원한 여름철 오이, 씁쓸한 맛 없애고 먹으려면? [스마트 리빙] 선크림 바를 때 눈 시리면 성분 살펴보세요 [경제쏙] 금리인하요구권 활용 뜨거워진 \\'한반도\\'…아열대 외래종도 창궐 [뉴스 열어보기] 임대차 3법 결국 \\'삐걱\\' 美 \\'부양책 협상\\' 우려…금값 3일 연속 최고가 \\'부동산 법\\' 상임위 통과…통합당, 강력 반발 [팩트의 무게] 한국 소득세 어떻게 봐야 할까? \"아빠한테 전세 줬어요\"…20·30대 대거 세무조사 부동산 입법 \\'속도전\\'…야당 반발 속 상임위 통과 정부, 미중갈등 대응 원칙제시…\"안보는 한미동맹·경제는 포용\" 네이버, 미래에셋과 손잡고 중소 판매자 대출 상품 출시 민간택지 분양가상한제 내일 시행…입주자공고 신청 속출 전월세신고법 등 국회 국토교통위 통과 변호사 단체 반발에 \\'네이버 엑스퍼트\\' 수수료 인하 국제공동 인공태양 프로젝트 \\'ITER 핵융합 반응장치\\' 조립 시작 홍남기 \"주택공급대책, 부동산 세제 입법 확정되는 내주초 발표\" 김현미 \"공급대책, 투기 불쏘시개 되지 않게 고심\" \\'외국인 순매수\\' 코스피 상승 견인…2250 상회 \"미래통합당 의원 부동산 평균 21억‥국민 7배\" 행안위, 野 불참 속 \\'복수 차관, 질병관리청 승격안\\' 처리 청년·신혼부부 매입임대 5천392가구 입주자 모집 서울 아파트 \\'35층\\' 뚫나…\"잘못된 신호\" 우려도 문 대통령 \"고통 분담하는 사회적 합의 절실\" \\'파죽지세\\' 금값 역대 최고가 경신…8만 원 돌파 산업장관 \"월성원전 맥스터 공론화, 공정하게 했다\" 김현미 \"등록임대 전수조사…의무 불이행 사업자 바로 등록말소\" 코로나19 위기 극복 위한 노사정 협약 의결 6월 수출량 1.4%↓·수출액 10.5%↓…반도체는 2개월 연속 증가 금융위 부위원장 \"아시아나 모든 가능성 감안해 협의중\" [권순표의 작심마이크] 유현준 \"도시는 밀집해야 발전…행정수도는 도시적 관점에서는 성장 억제할 수도\" [이슈 완전정복] \\'사상최고\\' 금값·회복된 주가…실물경제는 제자리인데 55~79세 3명 중 2명 \"73세까지 일하고 싶다\" 30대 직장인, 법인 세워 10여채 \\'갭투자\\'…현금증여 탈루 덜미 \\'옵티머스 사기\\' 막는다…판매사·수탁사, 감시·견제 강화 \"장특공제 혜택 \\'1주택 보유기간\\'만 인정\"…여당서 법안 발의 생업 때문에 혼자 해외근무했다면 1순위 청약 가능 청년·신혼부부 매입임대 5천392가구 입주자 모집 공정위, 선수금 무단 인출 아산상조 등록취소 경실련 \"미래통합당 의원 부동산 평균 21억…국민 7배\" 미중 갈등 반사 이익 기대감에 삼성전자↑…폭등세 꺾인 신풍제약↓ 서울 아파트 \\'35층\\' 뚫나…\"잘못된 신호\" 우려도 대리점 단체 구성 가능…본사가 보복하면 최대 3배 배상 대형마트·온라인 농축산물 20% 할인…농식품부, 7백억원 쿠폰 발행 문 대통령, 노사정 협약식 참석…\"고통 분담하는 사회적 합의 절실\" 티웨이항공 무급휴직 전환…LCC 고용지원금 연장 여부에 촉각 \\'검사장과 유착 의혹\\' 이동재 채널A 전 기자·사건 제보자 잇따라 조사 전국 일반 정수장 435곳 중 3곳 여과지에 유충 발견…수돗물엔 없다 도로공사 기간제 채용 과정 부적절…최종 합격자 뒤바뀌어 美 추가 부양책 기대감, 국내 증시도 오름세 출발 쓰레기 소각시설 공사 5년간 담합한 2개사에 과징금 9.8억 원 [스마트 리빙] 집에서 만드는 \\'복숭아 병조림\\' [스마트 리빙] \\'광역알뜰교통카드\\'로 대중교통 요금 최대 30% 줄여요 \"한 달 새 1억\"…전셋값 \\'고공행진\\' 언제까지 서울 아파트 \\'35층\\' 뚫나…용적률 카드 만지작 [뉴스터치] 올해 상반기 은행 수신 \\'역대 최대 증가\\' [뉴스터치] 날개 단 \\'구독 경제\\'…렌털 거래액 6배↑ 민주 \"시간 끌지 않겠다\"…통합 \\'오락가락\\' [뉴스 열어보기] 가습기살균제 피해 \\'67만 명\\' 추산…\"사망자도 약 10배\" 外 \"대북 거액 송금 논의했다\"…\"논의·합의 없었다\" \\'표적\\'된 \\'저격수\\'…청문회 내내 거센 충돌 野 \"北 30억불 별도 논의 있어\"…박지원 \"논의도 합의도 없다\" 1985 구로공단의 꿈…\"여전히 사람답게 살기 힘들어요\" 높은 계단도 \\'척척\\' 로봇…\"승강기도 골라 타요\" \\'논문 조작·성범죄\\' 저질러도…\\'대한민국 최고 과학자?\\' \\'표적\\'된 \\'저격수\\'…청문회 내내 거센 충돌 \"한 달 새 1억\"…전셋값 \\'고공행진\\' 언제까지 서울 아파트 \\'35층\\' 뚫나…\"집값 부채질\" 우려도 코스피, 외국인·기관 매수에 상승 마감 2,210 상회 외국인·기관 매수에 국내 증시 반등 구미·홍릉·울주·나주·군산·천안아산 신규 강소특구 지정 택지 용적률도 상향 검토…공급대책 발표 임박 문 대통령 \"3분기 경제 반등 성공할 수 있을 것\" KT, 현대HCN 품었다…유료방송 1위 굳히기 박지원 청문회 \\'학력 위조·대북관\\' 공방 금 1g당 7만7천원대…4거래일 연속 최고가 행진 \\'성희롱·폭언 의혹\\' 피아트크라이슬러 코리아 사장 직무정지 코로나19 극복 노사정 합의안 내일 의결…민주노총 빼고 서명 문 대통령 \"성장 반등에 총력…3분기부터 반등할 것\" 재정적 도움 안준다며 어머니 때려 숨지게 한 40대 [권순표의 작심마이크] 원희룡 \"진중권도 금태섭도 같이 갈 수 있다\" 홍준표 \"\\'강성 귀족노조 방지 3법\\' 발의\" 미중갈등에 뉴욕증시 하락 마감…빌 게이츠 서한에 코로나 백신 관련주↑ 상반기 은행권 수신 108조 원 급증…\\'사상 최대\\' 택지 용적률도 상향 검토…공급대책 발표 임박 싼샤댐에 또 홍수 밀려온다…하류로 대량 방류 김현수 농식품 장관 \"청년, 땅 없이도 농업에 진입하도록 지원\" 금 1g당 7만 6천원대…장중 최고가 경신 안철수 \"與, 부동산 망국론 불러…입 다물면 안 되겠나\" 양 시장 상승 출발…뉴욕 3대 지수 모두 내림세 마감 민주, 오늘 행정수도TF 첫 회의…공론화 시동 택지 용적률도 상향 검토…공급대책 발표 임박 방송사 가수 영상 재판매 제한…공정위, 표준계약서 추진 상반기 은행권 수신 108조원 급증…사상 최대 규모 [스마트 리빙] 장마철이 두려운 부스스 \\'곱슬머리\\' 차분하게 만들려면? [스마트 리빙] 비슷한 듯 다른 \\'선풍기·서큘레이터\\' 차이점은? [뉴스터치] \"자동차 필요 없어\"…신규 면허 3년 새 101만 명→66만 명으로 현대중공업, 하도급 업체 기술 유용 과징금 아시아나항공에 재실사 요구…인수 포기 수순? \"2,200선 지켜낼까?\" vs \"중국 주식 관심\" 트럼프 \"한미 철통동맹은 세계 평화·안정에 필수\" 민주, 오늘 행정수도TF 첫 회의…공론화 시동 택지 용적률도 상향 검토…공급대책 발표 임박 민주, 오늘 행정수도TF 첫 회의…공론화 시동 트럼프 \"한미 철통동맹은 아시아·세계의 평화·안정에 필수\" 정윤숙 여성경제인협회장, 직원 모욕 혐의로 경찰 수사중 정부 \"집주인 실거주시엔 전월세 계약갱신청구 거부할 수 있다\" 코로나19 탓 국민 10명 중 6명은 여름휴가 안가거나 계획 못세워 현대중공업, 하도급업체 기술 뺏고 거래 끊어…과징금 9.7억원 3기 신도시 외 택지도 용적률 상향…1만가구 추가공급 추진 네이버·카카오페이, 신용카드식 후불결제 30만원까지 된다 테슬라, 올해 상반기 7천여 대 판매…점유율 43% 작년 주택 시가총액 사상 처음 5천조 원 돌파 HDC현산, 아시아나에 인수상황 재점검 위한 \\'재실사\\' 요구 테슬라, 국내 전기 승용차 판매 급증…보조금 43% \\'독식\\' 개인형 퇴직연금, 5월 말 535억 손해, 작년 말 6배 수준 한국 고소득층 1인가구 세부담 26%…상승속도 OECD 1위 \\'옵티머스 펀드 이관\\' 공 넘겨받은 NH투자…금감원과 협의 착수 작년 집값 시총 5천조원 돌파…GDP 대비 집값 사상 최고 올해 상반기 국내 자동차 생산 20% 감소…11년 만에 최소 [스트레이트 예고] 집값 폭등 주범…2014년 \\'분양가상한제\\' 폐지 내막 추적 애플·아마존·구글·페이스북 CEO, 미 의회 첫 \\'동반 출석\\' \"북, 코로나19 휴지기 거쳐 중국 묵인 속 대규모 밀수작전 재개\" 취향을 배달합니다…AI가 고른 속옷·술이 집으로 \"이곳이 위험\"…산사태 \\'하루 전날\\' 알려준다 \\'오지 말라는데\\' 몰래 온 도쿄 시민들…\\'관광객 거절\\' 속출 인국공, \\'업무상 부상\\' 소방대원에게 재시험 기회…특혜 논란? 보잉737 항공기 엔진결함…국토부도 긴급 점검 북한에도 \\'물폭탄\\'…홍수 피해 긴장감 높아져 정진석 \"청와대·국회 등 세종시 주변 확대 배치해야\" 한국 NGO, 북에 아프리카돼지열병 진단장비 보낸다 휘발유 가격 \\'제자리걸음\\'…이번주 상승폭 0원대 국제금값, 9년만에 역대 최고가 경신…장중 1,900달러 넘기도 경실련 \"정부, 근거 없는 통계로 정책실패 은폐‥국토장관 교체하라\" 금값 사흘 연속 최고가 행진…2% 가까이 상승 美·中 갈등 고조에 코스피·코스닥 모두 하락 마감 소비자정책위 \"산후도우미 결격사유에 아동학대 전력 추가\" 권고 \"맛술은 술 아냐\"…주세 없어져 가격 내려갈 듯 \\'울산 선거개입\\' 재판 6개월 공전…검찰 \"송철호 등 소환 불응\" 범여권 시대전환 조정훈, 한국판뉴딜 저격…\"쓰레기 일자리\" 김종인 \"6·25 참전 소년병 3만명 국가가 예우해야\" 집 근처 시설에서 스마트 기기 사용법 교육하는 사업자 모집 오늘의 뉴스테마 코스피, 외국인 매수세 유입되며 상승전환 시도 장애인 세 명 중 한 명 꼴 취업 성공…고용률 전체 인구 절반 못 미쳐 정부, 부총리 주재 녹실회의…수도권 주택공급대책 논의 라임 사태 여파…상반기 펀드 신규 설정액 41.8%↓ 김창룡 신임 경찰청장 취임…\"가장 안전한 나라 만들자\" 캠코, 서울·부산 아파트 등 압류재산 1천270건 공매 카카오T 블루 \\'앱 미터기\\' 도입…중형 택시로는 국내 최초 이해찬 2분기 성장률 하락에 \"그나마 선방\" 기재차관 \"이달말 농수산물 쿠폰부터 8대 쿠폰 순차 지급\" 대정부질문 이틀째…여야, 고성·야유 반복하며 내내 소란 다이소에서 판매된 체스 완구 2종 안전성 미흡…회수·환불 조치 국내 증시 하락세 출발…기관 팔자세 MLB 노사, 포스트시즌 참가팀 10개→16개로 확대 합의 [스마트리빙] \\'해수욕장 혼잡도\\' 신호등 색깔로 확인하세요 \\'환매 중단\\' 옵티머스 대표, 고객 돈 수백억 원 횡령 \\'갭투자 원정대\\' 쓸고 간 자리…급매에도 \\'싸늘\\' 머리 숙인 경제팀…김현미 \"자리 연연 안 해\" [이 시각 세계] 美 코로나19 누적 환자 400만 명 넘어 [뉴스터치] 재테크·투자 도서 판매량 2배 증가 [뉴스 열어보기] 추미애 경고 하루 만에…이지스 \\'강남 아파트\\' 다시 판다 트럼프에 등 돌린 지지자들…\\'바이든\\' 고공행진 이유? 코로나에 무너진 성장률…\"22년 만에 최악\" 시연회에선 잘 터진 \\'5G\\'…다시 가 봤더니 이틀 만에 인양했지만…온 바다가 \\'기름 범벅\\' \\'수십 톤 굴삭기\\'도 삼킨 폭우…4,500만 명 피해 제주항공 \\'이스타 인수\\' 포기…직원 1,600명은? 불똥 맞은 \\'LG유플러스\\'…콕 집어 \"화웨이 쓰지마라\" 빚 짊어진 동학개미 행렬…증권사들 \"대출 중단\" \\'갭투자 원정대\\'가 쓸고 간 자리…급매에도 \\'싸늘\\' 머리 숙인 경제팀…김현미 \"자리 연연 안 해\" KB증권, 라임펀드 고객에 가입금액 40% 선지급 결정 하나금융, 상반기 순익 1조3천446억원…2012년 이후 최대 강남아파트 통째 산 운용사 \"사업철회…이익없이 매각\" 은성수 \"코로나 지원대출 만기 연장 쪽으로 의견 모아\" 홍남기 \"기본소득은 장기적 검토 과제…경제 회복이 우선\" 공공기관 정보 시스템, 2025년까지 클라우드로 전환 이동통신유통협회 \"통신 3가, 고가 요금제 강요\" [14F] “죽으면 책임진다”며 구급차 막아선 택시 기사, 고의적 접촉사고 정황으로 ‘구속 영장 신청’ 美·中 갈등 고조에 부담…코스피 하락세 마감 버려진 고사목…휴식처로 새 생명 \\'코로나 충격\\' 2분기 성장률 -3.3%…22년 만에 최저 제주항공, 인수 포기…이스타항공 파산 수순 현대차 2분기 영업이익 코로나19 여파로 반토박 법무부 \\'수형자 자녀보호 T\\'F\\' 가동…지원법률 제정 등 논의 검찰, \\'라임 펀드\\' 투자받은 \\'리드\\' 김정수 회장 구속 기소 \\'캐릭터 사고팔아 고수익\\'…다단계 금융사기 성행 발암물질 다량 포함된 생활화학제품 134개 회수 조치 LG유플러스, 주 3일 재택 근무 실험 \\'무더기 비리\\' 과학창의재단, 비상 경영 체제 선포 지하철 5G 망 구축…서울 2·9호선과 비수도권 노선 과기부, 하반기 중형 위성 발사·누리호 전문 점검 실시 [이슈 완전정복] 연봉 10억이상 월급쟁이는 몇 명? 세금은?…이재명의 역세권 \\'기본주택\\' 해부 \\'코로나 충격\\' 2분기 성장률 -3.3%…22년 만에 최저 中 기록적 홍수로 수재민 4천500만명…재산피해 20조원 육박 강남권 토지거래허가제 한 달…주택 거래 93% 급감 세입자 없는 집 임대등록 때 임대료 상한 명시해야 7·10대책 이후 서울 아파트값 상승폭 둔화…전세난은 심화 경실련 \"판교 개발이익 8조원\"…\"공공사업자가 국민 상대로 땅장사\" ']\n"
     ]
    }
   ],
   "source": [
    "tokens=\"\"\n",
    "for s in temp:\n",
    "    tokens+=s+\" \"\n",
    "print(tokens)"
   ]
  },
  {
   "cell_type": "code",
   "execution_count": 152,
   "metadata": {
    "scrolled": true
   },
   "outputs": [],
   "source": [
    "from konlpy.tag import Okt\n",
    "tokenizer = Okt()  \n",
    "tokens = tokenizer.morphs(tokens[0])\n",
    "#전체 단어에 대한 말뭉치를 만들기 위해 리스트를 돌며 합친다."
   ]
  },
  {
   "cell_type": "code",
   "execution_count": 153,
   "metadata": {},
   "outputs": [],
   "source": [
    "# 토큰을 문자열로 변환\n",
    "sentence = \" \".join(tokens)\n",
    "\n",
    "# CountVectorizer의 입력에 맞게 배열로 변경\n",
    "sentences = []\n",
    "sentences.append(sentence)\n",
    "\n",
    "from sklearn.feature_extraction.text import CountVectorizer\n",
    "\n",
    "\n",
    "# 1글자도 인식이 되도록 토큰 패턴 변경\n",
    "cv = CountVectorizer(token_pattern = r\"(?u)\\b\\w+\\b\")\n",
    "cv.fit(sentences)\n",
    "\n",
    "def convert_cv(sentence, cv):\n",
    "    \n",
    "    # 문장을 토큰으로 분리\n",
    "    tokenizer = Okt()\n",
    "    tokens = tokenizer.morphs(sentence)\n",
    "    \n",
    "    # 토큰을 문자열로 변환\n",
    "    sentence = \" \".join(tokens)\n",
    "    \n",
    "    # CountVectorizer의 입력에 맞게 배열로 변경\n",
    "    sentences = []\n",
    "    sentences.append(sentence)\n",
    "    \n",
    "    # 벡터 변환\n",
    "    vector = cv.transform(sentences).toarray()    \n",
    "    \n",
    "    return vector\n"
   ]
  },
  {
   "cell_type": "code",
   "execution_count": 188,
   "metadata": {
    "scrolled": true
   },
   "outputs": [
    {
     "name": "stdout",
     "output_type": "stream",
     "text": [
      "코스피·코스닥 모두 1% 가까이 상승\n",
      "0.4082482904638631\n"
     ]
    }
   ],
   "source": [
    "from numpy import dot\n",
    "from numpy.linalg import norm\n",
    "import numpy as np\n",
    "from konlpy.tag import Okt\n",
    "tokenizer = Okt()  \n",
    "def cos_sim(A, B):\n",
    "    return dot(A, B)/(norm(A)*norm(B))\n",
    "bigNum=0\n",
    "temp_string=\"\"\n",
    "pos=[]\n",
    "strings=[]\n",
    "def comParedTo(sbsString):\n",
    "    bigNum=0\n",
    "    for post in galexy_posts:\n",
    "        temp_num=cos_sim(convert_cv(sbsString,cv)[0],convert_cv(post,cv)[0])\n",
    "        if(temp_num>bigNum):\n",
    "            bigNum=temp_num\n",
    "            temp_string=post\n",
    "    print(temp_string)\n",
    "    print(bigNum)\n",
    "ass='상승'\n",
    "comParedTo(ass)"
   ]
  },
  {
   "cell_type": "code",
   "execution_count": null,
   "metadata": {},
   "outputs": [],
   "source": [
    "ass='상승'\n",
    "comParedTo(ass)"
   ]
  },
  {
   "cell_type": "code",
   "execution_count": 155,
   "metadata": {},
   "outputs": [],
   "source": [
    "#언론사 데이터를 크롤링해서 좋다, 실망, 대박 등의 단어가 존재하지 않습니다.\n",
    "#Bow의 특성상 없는 단어만으로는 계산이 불가능하여 상승, 하락 같은 단어로 바꾸었습니다."
   ]
  },
  {
   "cell_type": "code",
   "execution_count": 156,
   "metadata": {},
   "outputs": [
    {
     "data": {
      "text/plain": [
       "[['산후조리원·유치원 정보 한눈에…열린소비자포털로 통합'],\n",
       " ['코스피·코스닥 모두 1% 가까이 상승'],\n",
       " ['카드업계, 수해 고객에 대금 청구유예 등 금융지원'],\n",
       " ['폭우로 가축 30만마리 폐사하고 농작물 6천㏊ 침수'],\n",
       " ['공공재건축 사례 발굴 착수…과열 개발예정지 기획조사'],\n",
       " ['김현미 \"전월세전환율 4.0% 너무 높아…개정할 것\"'],\n",
       " ['법원, 옵티머스 김재현 대표에 6894억원 추징보전 명령'],\n",
       " ['코스피·코스닥 강보합권 거래…개인 사자세'],\n",
       " ['국토부 1차관 \"공공재건축 서울시와 이견 없어\"'],\n",
       " ['외국인 아파트 취득 늘자…여당 \"실거주 않으면 중과세\" 입법 추진'],\n",
       " ['정부 \"9억 이상 고가주택 매매 자금출처 의심거래 상시조사\"'],\n",
       " ['[스마트리빙] 여름철 양파, 망에 담아 놓으면 금방 상해요'],\n",
       " ['[스마트리빙] 장마철 반려견 사료 어떻게 보관할까?'],\n",
       " ['새 단장 끝낸 모란시장…특화거리 재도약'],\n",
       " ['국제 금값, 사상 첫 온스당 2천 달러 돌파'],\n",
       " ['\"휴가 가려 샀더니\"…캠핑 용품, 유해물질 검출'],\n",
       " ['공급 충분하다더니…투기 자극 우려 없나?'],\n",
       " ['국제금값, 사상 첫 온스당 2천달러 돌파'],\n",
       " ['[이 시각 세계] 필리핀 코로나19 급증세…마닐라 등 준봉쇄령'],\n",
       " ['[뉴스 열어보기] \"커피숍 입장부터 주문까지 마스크 착용\"...커피숍 방역수칙 강화'],\n",
       " ['\"50층 줄게 50% 다오\"…시장 반응은 \\'글쎄\\''],\n",
       " [\"수도권 '13만 호' 공급…50층 재건축도 허용\"],\n",
       " ['일본제철 \\'자산압류\\' 오늘부터…\"강제 매각 시 보복\"'],\n",
       " ['홍콩 무역금융 사모펀드 610억 환매, 내년 5월까지 연기'],\n",
       " [\"'월세 전환' 커지는 우려…'전월세 전환율' 낮아질까?\"],\n",
       " [\"TV조선 '방정오 3백 억 몰아주기?'…공정위 조사\"],\n",
       " ['공급 충분하다더니…투기심리 자극 우려 없나?'],\n",
       " ['\"50층 줄게 50% 다오\"…강남 재건축 시장 \"글쎄\"'],\n",
       " [\"공공지·유휴지 긁어 모아…수도권 '13만 호'\"],\n",
       " ['정부 \"공공재건축 최대 50층 허용, 정부-서울시 이견 없다\"'],\n",
       " ['금통위원들 \"완화적 통화정책 따른 자산 버블 우려\"'],\n",
       " ['경기 회복 기대감에 코스피 오름세…양 시장 상승 마감'],\n",
       " ['공공 재건축 50층 허용…수도권 13만 호 공급'],\n",
       " ['서울시 \"공공재건축 방안에 찬성 안 해\"…\"높이도 35층까지\"'],\n",
       " ['캠핑 의자·피크닉 매트서 기준 넘는 유해물질 검출'],\n",
       " ['123'],\n",
       " ['[이슈 완전정복] 채널 A기자와 한동훈 기소의 3가지 가능성, 부동산법 상세해설'],\n",
       " ['[정치 맞수다] 추미애 \"인권\" vs 윤석열 \"독재\" 충돌, \"전세 없어질 것\" vs \"과거 경험으로 봐 그럴 일 없다\"'],\n",
       " ['KT \"재난지원금에 전통 시장 방문자 증가, 이후 다시 감소\"'],\n",
       " ['[이슈 완전정복] \"수도권에 13만2천호 공급\"…공공재건축 50층까지 허용'],\n",
       " ['日정부, 강제징용 기업 자산 매각시 \"온갖 선택지 시야에\"'],\n",
       " ['코스피, 1% 넘는 상승세…제일약품 상한가 기록'],\n",
       " ['공공 재건축 50층 허용…수도권 13만호 공급'],\n",
       " ['일본 언론 \"징용기업 자산 매각 땐 금융제재까지 검토\"'],\n",
       " ['김종인 \"법으로 우격다짐해도 부동산 투기 못잡아\"'],\n",
       " ['공공 재건축 50층까지 허용…태릉CC·서울조달청 부지 개발'],\n",
       " ['김태년 \"부동산 폭등 뒤엔 경제위기 엄습…과열 조기 진압해야\"'],\n",
       " ['경실련 \"의료계 전면파업 부적절…정부, 업무개시명령 발동하라\"'],\n",
       " ['홍남기 \"주택부지 태릉골프장만 검토…그외 그린벨트 선정 안해\"'],\n",
       " ['코스피, 2270선 회복…건설주 강세'],\n",
       " ['당정 \"예상보다 더 많은 주택 공급\"'],\n",
       " ['7월 소비자물가 0.3%↑…3개월 만에 상승'],\n",
       " ['당정 \"예상보다 더 많은 주택 공급 물량 발표…공공분양·임대 비중 높아\"'],\n",
       " [\"[스마트 리빙] 몰라서 못 받는 '전기료 할인' 놓치지 마세요\"],\n",
       " ['[스마트 리빙] 전기밥솥 내부 솥에 쌀 씻지 마세요'],\n",
       " ['취업 대신 \\'창농\\'…\"열대작물도 내 손으로\"'],\n",
       " [\"외국인도 '갭투자'…불투명 자금 '세무조사'\"],\n",
       " ['3부 오늘의 주요뉴스'],\n",
       " ['[이 시각 세계] 日 코로나19 누적 확진 4만 명 넘어'],\n",
       " ['[뉴스터치] 세입자 \"계약서 다시\" vs 집주인 \"안 돼\"'],\n",
       " [\"[뉴스터치] 열화상 카메라처럼 비접촉으로 '기침' 인식\"],\n",
       " [\"[뉴스터치] '자차' 가입했다면 규정에 따라 보험금 청구\"],\n",
       " ['아시아나 인수 무산?…산은 \"현대산업개발 책임\"'],\n",
       " ['2부 오늘의 주요뉴스'],\n",
       " ['오늘 수도권 공급대책 발표…\"10만 호 계획\"'],\n",
       " ['\"2025년까지 공공임대 주택 240만 호 확보\"'],\n",
       " ['1부 오늘의 주요뉴스'],\n",
       " ['홍남기 \"전세 감소·전셋값 상승, 공급 확대로 돌파\"'],\n",
       " ['[정참시] 윤희숙 이어 윤준병 \"나도 월세\"에 시끌 / 또, 취소… 휴가 가기 어려운 대통령…'],\n",
       " ['속도내는 민주·반발하는 통합…후속 법안 통과'],\n",
       " ['[오늘 이 뉴스] \"곳곳에 폭우·홍수\"…이상기후 지구촌'],\n",
       " ['\"42채 싹쓸이\"…외국인도 한국 아파트 \\'갭 투자\\''],\n",
       " ['7월 완성차 내수 작년比 10%↑…수출은 감소폭 줄어'],\n",
       " ['[14F] 첫 우주왕복에 성공한 스페이스X! 6주 후 또다시 우주로 간다고? ㄹㅇ..?'],\n",
       " ['산은 \"LCC 추가지원 협의중…대한항공, 기안기금 신청 준비\"'],\n",
       " ['코스피, 개인 매수에 소폭 상승…코스닥은 급등'],\n",
       " ['이동걸 \"아시아나 결단 시점…계약 무산 책임은 현산에\"'],\n",
       " ['예탁원, 사모펀드 자산 확인하는 시스템 구축 나선다'],\n",
       " ['추미애 \"검사는 인권 옹호의 보루…절제된 권한 행사해야\"'],\n",
       " ['[권순표의 작심마이크] 존리 \"금융문맹은 질병…사교육할 돈 주식투자하라\"'],\n",
       " [\"공정위, 가전·정유·의료기기업체 '대리점 갑질' 실태조사\"],\n",
       " ['방통위원장 \"수신료 등 미디어 재원 구조 근본적 재검토\"'],\n",
       " ['코스피 소폭 조정…SK바이오팜↓, LG화학↑'],\n",
       " ['집중호우 피해 납세자, 최대 9개월 기한 연장'],\n",
       " [\"'아파트 42채' 미국인 등 다주택 외국인 탈세 혐의 조사\"],\n",
       " [\"[알려줘! 경제] '아파트 42채' 갭투자 나선 미국인…중국인 유학생은 임대사업\"],\n",
       " ['7월 서울 아파트값 초강세…전국도 9년 3개월 만에 최대 상승'],\n",
       " ['경실련 \"문정부 3년 서울 집값 상승률 34%…아파트값 52% 급등\"'],\n",
       " ['이해찬 \"내일 본회의에서 남은 부동산 법안 반드시 처리\"'],\n",
       " ['모바일 게임 상반기 매출 2조 8천억원 돌파…역대 최고 기록'],\n",
       " ['집중호우 피해 납세자에 납기연장·징수유예…세무조사 연기'],\n",
       " ['\"트럼프, 틱톡에 매각시한 통보\"…MS, 내달 15일까지 인수협상'],\n",
       " ['코스피, 하락세 전환…아모레퍼시픽 3% 넘게 하락'],\n",
       " ['\"서울시민 월급 한푼 안쓰고 모아도 아파트 사는데 12년 걸려\"'],\n",
       " ['기업 72% \"코로나19로 경영 악화 겪었다\"'],\n",
       " [\"[뉴스터치] 코로나19로 '보드게임' 매출 증가\"],\n",
       " ['[뉴스터치] 집값 오르자 서울 아파트 경매 취소 증가'],\n",
       " [\"[뉴스 열어보기] 한쪽은 폭염, 한쪽은 폭우…범인은 '시베리아 이상고온'\"],\n",
       " ['한 발 뺀 트럼프…백악관 \"대선 일정 변동 없어\"'],\n",
       " ['[스트레이트] 51억 벌고 세금은 0원? 다주택자들의 천국'],\n",
       " ['\"5일까지 최대 500mm\"…피해 예방 어떻게?'],\n",
       " [\"[스트레이트 예고] 집값 폭등의 또 다른 주범은 언론…'언론'은 정말 집값 안정을 바랄까?\"],\n",
       " ['주호영 \"부동산 정책과 입법, 헌법에서 벗어나\"'],\n",
       " ['[로드맨] 뜨는 제주, 닳는 제주'],\n",
       " ['\"미리 올리자\" vs \"계약 다시\"…곳곳에서 신경전'],\n",
       " ['\"여기는 비 안 왔는데?\"…옮겨 다니며 \\'물폭탄\\''],\n",
       " ['휘발윳값 두 달 만에 하락전환…리터당 1361원'],\n",
       " ['트럼프 \"이르면 8월 1일부터 틱톡 사용 금지시킬 것\"'],\n",
       " ['홍남기 경제부총리 \"3분기 확실한 경기반등 이뤄낼 것\"'],\n",
       " ['게임장 경품 상한 1만 원으로 인상…경품에 생활용품 추가'],\n",
       " ['네이버는 美, 카카오는 日…웹툰 종주국에서 플랫폼 석권으로'],\n",
       " ['7월 수출 7%↓…넉 달 만에 한 자릿수대 감소'],\n",
       " ['7월 수출 7.0%↓…넉 달 만에 처음 한 자릿수대 감소'],\n",
       " ['고용지원금 만료 임박…티웨이 이어 제주항공도 무급휴직'],\n",
       " ['큰물 막아라 돼지 안고 현금 묻고'],\n",
       " ['극과극 남남북녀 손두부집 연 사연'],\n",
       " ['권총주고 노병 챙기고 의도는?'],\n",
       " ['\"파괴적 재앙 우려\" 개성 완성 봉쇄'],\n",
       " ['국제금값, 이틀만에 다시 최고가 경신…7월 10.3%↑'],\n",
       " ['\"4명 팔고 8명 집 내놨다\"…후속 인사와 연계?'],\n",
       " ['\"4명 팔고 8명 집 내놨다\"…후속 인사와 연계?'],\n",
       " ['트럼프 \"대선 미룰까?\"…비난 빗발치자 \\'취소!\\''],\n",
       " ['\"이름만 같을 뿐인데\"…\\'묻지 마 투자\\'에 요동치는 주가'],\n",
       " [\"'불매 운동' 여파?…유니클로 '9개' 또 폐점\"],\n",
       " ['1,400명 쏟아졌는데 \\'두문불출\\'…\"아베 나와라\"'],\n",
       " [\"수도권에 '물폭탄' 쏟아진다…서울 최대 '250mm'\"],\n",
       " ['\"4명 팔고 8명 집 내놨다\"…후속 인사에 영향?'],\n",
       " ['외국인 매도 물량 부담에…코스피 약보합권 하락'],\n",
       " ['\"전세대출 증액, 집주인 동의 필요한 건 아냐\"'],\n",
       " [\"'계약 갱신·전월세 상한제' 오늘부터 시행\"],\n",
       " ['계약갱신청구권제·전월세상한제 공식 시행…관보로 공포'],\n",
       " ['올해 상반기 담배 17억갑 팔려…2016년 이후 최고'],\n",
       " ['은행 예금금리 사상 첫 0%대…가계대출금리도 사상 최저'],\n",
       " ['[권순표의 작심마이크] 경실련 \"(부동산)관료가 국민과 대통령을 속였다\" , \"임대 (경기도)기본 주택 방안은 환영\"'],\n",
       " ['[이슈 완전정복] 검찰 육탄전 독직폭행?, \"한동훈은 떳떳하다면 왜 휴대폰 수사를 막나?\"'],\n",
       " ['조양래 \"딸이 왜 이러는지…딸에게 경영권승계 생각 안 해 봤다\"'],\n",
       " ['\\'검찰개혁\\' 속도전…\"직접 수사 축소·권한 분산\"'],\n",
       " ['정부 \"전세대출 증액시 집주인 동의 필요한 건 아냐\"'],\n",
       " ['10명 중 7명 \"내년 상반기까지 주택 살 의사 있다\"'],\n",
       " ['작년 북한 경제성장률 0.4%, 3년만에 증가…한은 추정'],\n",
       " ['통일부 \"북측 수령 주체 비공개는 사업 성사 가능성 높이기 위해서\"'],\n",
       " ['코스피, 선물 시장서 큰 매도 규모 보이며 소폭 하락'],\n",
       " [\"경찰, '송도 땅 특혜 매각 의혹' 인천시 전직 공무원 등 3명 입건\"],\n",
       " ['올해 2분기 승용차 수출 40.6% 감소…수입 17.7% 증가'],\n",
       " ['신임 금통위원 3명, 총 100억 원대 부동산 보유'],\n",
       " ['개인·외국인 매수세…네이버·카카오 강세'],\n",
       " [\"6월 산업생산 4.2%↑…생산·소비·투자 '트리플 증가'\"],\n",
       " ['오픈마켓 해외사업자 피해 증가…중국 관련 피해 절반'],\n",
       " ['올해 상반기 손상으로 버려진 화폐 2조 7천억 원'],\n",
       " ['\\'검찰개혁\\'도 속도전…\"직접 수사 축소·권한 분산\"'],\n",
       " ['미국 2분기 성장률 -32.9%…73년만에 역대 최악'],\n",
       " ['1부 오늘의 주요뉴스'],\n",
       " ['국제유가 하락, WTI 40달러선 붕괴…금값도 10거래일 만에↓'],\n",
       " ['유럽증시, 코로나19발 경기지표 악화에 일제히 하락'],\n",
       " ['미국 2분기 성장률 -32.9%…통계집계 이래 73년 만에 최악'],\n",
       " ['日 코로나19 연일 신기록…고이케 \"독자적 긴급사태 선언 생각\"'],\n",
       " ['미 신규 실업수당 청구 143만 건…2주연속 증가세'],\n",
       " ['통일부, 코로나 방역물자 반출승인…북한 수령주체 비공개'],\n",
       " ['\"배달비 떠넘기고 음식값 올려라\"…\\'배민\\'의 갑질'],\n",
       " ['\\'검찰개혁\\'도 속도전…\"직접 수사 축소·권한 분산\"'],\n",
       " ['\"내일 당장 시행\"…전월세 시장 안정될까?'],\n",
       " ['7월 하순 무더위 시작이라더니…기록적 폭우 왜?'],\n",
       " ['통일부, 이인영 장관 취임 후 첫 대북 방역물자 반출 승인'],\n",
       " ['연준 경기부양 의지·외국인 매수세에 코스피 상승 마감'],\n",
       " ['\"국정원 → 대외안보정보원 개칭\"…대공수사권 삭제'],\n",
       " ['중부발전, 사업비 과다지급·화력발전소 신고 않고 임의가동'],\n",
       " ['금호산업 \"충분히 정보제공\" vs 현산 \"재실사\"'],\n",
       " [\"'혁신기업 국가대표' 1천개에 금융지원…3년간 40조\"],\n",
       " ['여성 하루 가사노동 3시간10분…남성은 48분'],\n",
       " ['100조 ELS 시장에 건전성 비율 강화…예상 손실률도 표기'],\n",
       " ['잠자고 꾸미는 시간 늘고 일·학습시간 줄어'],\n",
       " ['수돗물 유충 신고 2천 3백여 건…실제 확인 사례 26%'],\n",
       " ['재활용 시장 수익성 개선…환경부 단가 조정 권고'],\n",
       " ['[권순표의 작심마이크] 권익위원장 \"부동산 정책 맡은 다주택 공직자는 이해 충돌 가능성 있다\"'],\n",
       " [\"[이슈 완전정복]  '전세 세입자 계약은 법시행 날짜 따라 어떻게 달라지나?' 상세 해설\"],\n",
       " ['임대차 3법 시행 초읽기…임대료 최대 5% 제한'],\n",
       " ['전국 미분양 2만9천채…5년 1개월만에 최저'],\n",
       " ['서울 아파트 전셋값 7개월만에 최대 상승'],\n",
       " ['\"국정원→대외안보정보원, 檢수사 6대 범죄 한정\"'],\n",
       " ['[이슈 완전정복] \"9월부터 대량 생산\" 코로나 백신 \\'세계 최초\\'는 러시아?…\"임상 결과 \\'깜깜이\\' 효과도 \\'의문\\'\"'],\n",
       " ['국정원→대외안보정보원…검찰 수사는 6대범죄 한정'],\n",
       " ['네이버 역대 최대 분기 매출 기록…쇼핑·광고 등 호조'],\n",
       " [\"그린피스, '후쿠시마 오염수 방류 반대' 일본대사관에 서한\"],\n",
       " ['네이버 \"코로나 영향 현재 수준이면 하반기 목표 충족\"'],\n",
       " ['무인 단말기로 휴대전화 개통…통신사 비대면 서비스 강화'],\n",
       " ['중고 거래 앱 성장…이용자 1100만명 육박'],\n",
       " ['코스피, 외국인 매수세 이어지면서 신고가 경신'],\n",
       " ['정부, 8대 소비쿠폰 풀어 1조 원 소비 유도'],\n",
       " ['정부, 대기업 CVC 허용…지분 100% 보유, 외부자금은 40% 이내로'],\n",
       " ['8대 소비쿠폰 풀어 1조 소비 유도…지역사랑·온누리상품권 확대'],\n",
       " ['내년부터 개인신용평가 등급→점수제…대출 문턱 해소'],\n",
       " ['[알려줘! 경제] 전·월세 무조건 4년 된다? 세입자가 갑? 새 법 시행되면…'],\n",
       " ['김종인 \"어느 나라가 코로나19에 세금 올리나\"'],\n",
       " ['삼성전자 2분기 영업이익 8조1463억원…작년 대비 23.5% 증가'],\n",
       " ['7월 기업심리, 3개월 연속 개선…한은 \"회복세 탔다\"'],\n",
       " ['국내증시, 미 연준 통화 정책 완화로 상승세 출발'],\n",
       " ['김현미 \"중저가 주택 재산세율 인하…10월 발표\"'],\n",
       " ['\\'임대차 3법\\' 오늘 본회의…\"이르면 다음 주 시행\"'],\n",
       " ['김현미 \"이스타항공, 법정관리 신청할 듯…후속 조치 마련\"'],\n",
       " [\"[스마트리빙] 가스레인지 점화 안 되면 '건전지' 확인하세요\"],\n",
       " ['[경제쏙] 전.월세 기간 4년 된다? 임대차 3법 통과되면..'],\n",
       " ['파월 연준의장 \"경제 앞길 매우 불확실…코로나 억제에 달렸다\"'],\n",
       " ['600억弗 규모 한미 통화스와프 6개월 연장'],\n",
       " ['김현미 \"중저가 주택 재산세율 인하…10월 발표\"'],\n",
       " [\"[뉴스 열어보기] 올해 인구감소 '확실'...혼인은 21%나 감소\"],\n",
       " [\"美 연준, 기준금리 동결…'제로금리' 유지\"],\n",
       " ['\"이르면 다음 주 시행\"…기존 전·월세도 적용'],\n",
       " ['자율주행차 센서, 실리콘 소재로 개발해 비용 절감'],\n",
       " ['\\'일본 수출규제\\' WTO 패널 설치 확정…\"차별적 무역제한 입증할 것\"'],\n",
       " [\"경찰, '직원 모욕 혐의' 정윤숙 여성경제인협회장 기소의견 송치\"],\n",
       " [\"'장마·폭염·코로나19' 위험 속 쪽방촌\"],\n",
       " ['\"청각 장애인 기사님입니다\"…기술로 듣는다'],\n",
       " ['\"밀가루·계란 \\'통행세\\' 챙겨\"…SPC그룹 회장 고발'],\n",
       " [\"이스타 노조 '불법증여' 고발…이상직 '나 몰라라'\"],\n",
       " [\"주문전화 한 통 없는데…나도 모르게 '배달 불가'?\"],\n",
       " ['\"땅 꺼지고 고립되고\"…\\'5천4백만 명\\' 날벼락'],\n",
       " ['\"빠르면 다음 주 시행\"…기존 전월세도 적용'],\n",
       " ['코스피 3거래일 연속 상승…2260선 회복'],\n",
       " ['분양가 상한제 부활…서울·경기 322개 동 시행'],\n",
       " ['은성수, 인수 무산시 아시아나항공에 기안기금 투입 시사'],\n",
       " ['김현미 \"중저가 주택 재산세율 인하 대책 10월 발표\"'],\n",
       " [\"미국 코로나19 사망자 하루 1천600명…'레드존' 확대\"],\n",
       " ['이스타노조, 이상직 고발…조세포탈·허위사실공표 혐의'],\n",
       " ['靑 \"대북송금 이면합의서, 존재하지 않는 문건\"'],\n",
       " ['[권순표의 작심마이크] 행정수도 여론 심층분석-이전은 찬성, 이유는 집값문제가 아니라 국토균형발전'],\n",
       " ['민주 \"서울 글로벌 경제도시로\"…행정수도 여론전 박차'],\n",
       " [\"공정위, '통행세' 부당지원 혐의로 SPC그룹 총수 고발\"],\n",
       " ['개인·외국인 매수세…코스피·코스닥 상승 흐름, 셀트리온↓'],\n",
       " [\"'부동산 법' 상임위 통과…통합당, 강력 반발\"],\n",
       " ['과기정통부 장관 \"5G 기지국 적극 구축해 품질 문제 해소\"'],\n",
       " ['전자통신연구원, 5G 사물인터넷으로 스마트 공장 제어'],\n",
       " ['청각 장애인 기사 직접 고용 택시 다음 달 출시'],\n",
       " [\"전국 산사태 위기경보 '주의'로 상향\"],\n",
       " ['금융위 \"국책은행들, 코로나 대출 만기연장 전향적으로 검토 중\"'],\n",
       " ['급증한 유동성 60%, 가계 아닌 기업대출…\"투자 않고 쌓기만\"'],\n",
       " ['뉴욕증시 하락에 국내 증시 혼조 출발…개인·외국인 동반 매수세'],\n",
       " ['소비자심리 3개월째 반등…주택가격 전망 ↑'],\n",
       " [\"'부동산 법' 상임위 통과…통합당, 강력 반발\"],\n",
       " ['서울에 서민들 살 집이 사라진다…소형아파트값 평균 4억 원 돌파'],\n",
       " ['민간택지 분양가상한제 부활…서울·경기 322개동에서 시행'],\n",
       " ['온라인으로 해외물품 산 소비자 10명중 1명 이상 \"피해 봤다\"'],\n",
       " ['코로나 5개월…대기업 직원 1만 2천 명 줄었다'],\n",
       " ['은행 5년간 사모펀드 70조 원어치 판매…수수료 3천억여 원'],\n",
       " ['소비자심리지수 3개월째 반등…주택가격전망 지수는 역대 두 번째'],\n",
       " ['[스마트 리빙] 시원한 여름철 오이, 씁쓸한 맛 없애고 먹으려면?'],\n",
       " ['[스마트 리빙] 선크림 바를 때 눈 시리면 성분 살펴보세요'],\n",
       " ['[경제쏙] 금리인하요구권 활용'],\n",
       " [\"뜨거워진 '한반도'…아열대 외래종도 창궐\"],\n",
       " [\"[뉴스 열어보기] 임대차 3법 결국 '삐걱'\"],\n",
       " [\"美 '부양책 협상' 우려…금값 3일 연속 최고가\"],\n",
       " [\"'부동산 법' 상임위 통과…통합당, 강력 반발\"],\n",
       " ['[팩트의 무게] 한국 소득세 어떻게 봐야 할까?'],\n",
       " ['\"아빠한테 전세 줬어요\"…20·30대 대거 세무조사'],\n",
       " [\"부동산 입법 '속도전'…야당 반발 속 상임위 통과\"],\n",
       " ['정부, 미중갈등 대응 원칙제시…\"안보는 한미동맹·경제는 포용\"'],\n",
       " ['네이버, 미래에셋과 손잡고 중소 판매자 대출 상품 출시'],\n",
       " ['민간택지 분양가상한제 내일 시행…입주자공고 신청 속출'],\n",
       " ['전월세신고법 등 국회 국토교통위 통과'],\n",
       " [\"변호사 단체 반발에 '네이버 엑스퍼트' 수수료 인하\"],\n",
       " [\"국제공동 인공태양 프로젝트 'ITER 핵융합 반응장치' 조립 시작\"],\n",
       " ['홍남기 \"주택공급대책, 부동산 세제 입법 확정되는 내주초 발표\"'],\n",
       " ['김현미 \"공급대책, 투기 불쏘시개 되지 않게 고심\"'],\n",
       " [\"'외국인 순매수' 코스피 상승 견인…2250 상회\"],\n",
       " ['\"미래통합당 의원 부동산 평균 21억‥국민 7배\"'],\n",
       " [\"행안위, 野 불참 속 '복수 차관, 질병관리청 승격안' 처리\"],\n",
       " ['청년·신혼부부 매입임대 5천392가구 입주자 모집'],\n",
       " ['서울 아파트 \\'35층\\' 뚫나…\"잘못된 신호\" 우려도'],\n",
       " ['문 대통령 \"고통 분담하는 사회적 합의 절실\"'],\n",
       " [\"'파죽지세' 금값 역대 최고가 경신…8만 원 돌파\"],\n",
       " ['산업장관 \"월성원전 맥스터 공론화, 공정하게 했다\"'],\n",
       " ['김현미 \"등록임대 전수조사…의무 불이행 사업자 바로 등록말소\"'],\n",
       " ['코로나19 위기 극복 위한 노사정 협약 의결'],\n",
       " ['6월 수출량 1.4%↓·수출액 10.5%↓…반도체는 2개월 연속 증가'],\n",
       " ['금융위 부위원장 \"아시아나 모든 가능성 감안해 협의중\"'],\n",
       " ['[권순표의 작심마이크] 유현준 \"도시는 밀집해야 발전…행정수도는 도시적 관점에서는 성장 억제할 수도\"'],\n",
       " [\"[이슈 완전정복] '사상최고' 금값·회복된 주가…실물경제는 제자리인데\"],\n",
       " ['55~79세 3명 중 2명 \"73세까지 일하고 싶다\"'],\n",
       " [\"30대 직장인, 법인 세워 10여채 '갭투자'…현금증여 탈루 덜미\"],\n",
       " [\"'옵티머스 사기' 막는다…판매사·수탁사, 감시·견제 강화\"],\n",
       " ['\"장특공제 혜택 \\'1주택 보유기간\\'만 인정\"…여당서 법안 발의'],\n",
       " ['생업 때문에 혼자 해외근무했다면 1순위 청약 가능'],\n",
       " ['청년·신혼부부 매입임대 5천392가구 입주자 모집'],\n",
       " ['공정위, 선수금 무단 인출 아산상조 등록취소'],\n",
       " ['경실련 \"미래통합당 의원 부동산 평균 21억…국민 7배\"'],\n",
       " ['미중 갈등 반사 이익 기대감에 삼성전자↑…폭등세 꺾인 신풍제약↓'],\n",
       " ['서울 아파트 \\'35층\\' 뚫나…\"잘못된 신호\" 우려도'],\n",
       " ['대리점 단체 구성 가능…본사가 보복하면 최대 3배 배상'],\n",
       " ['대형마트·온라인 농축산물 20% 할인…농식품부, 7백억원 쿠폰 발행'],\n",
       " ['문 대통령, 노사정 협약식 참석…\"고통 분담하는 사회적 합의 절실\"'],\n",
       " ['티웨이항공 무급휴직 전환…LCC 고용지원금 연장 여부에 촉각'],\n",
       " [\"'검사장과 유착 의혹' 이동재 채널A 전 기자·사건 제보자 잇따라 조사\"],\n",
       " ['전국 일반 정수장 435곳 중 3곳 여과지에 유충 발견…수돗물엔 없다'],\n",
       " ['도로공사 기간제 채용 과정 부적절…최종 합격자 뒤바뀌어'],\n",
       " ['美 추가 부양책 기대감, 국내 증시도 오름세 출발'],\n",
       " ['쓰레기 소각시설 공사 5년간 담합한 2개사에 과징금 9.8억 원'],\n",
       " [\"[스마트 리빙] 집에서 만드는 '복숭아 병조림'\"],\n",
       " [\"[스마트 리빙] '광역알뜰교통카드'로 대중교통 요금 최대 30% 줄여요\"],\n",
       " ['\"한 달 새 1억\"…전셋값 \\'고공행진\\' 언제까지'],\n",
       " [\"서울 아파트 '35층' 뚫나…용적률 카드 만지작\"],\n",
       " [\"[뉴스터치] 올해 상반기 은행 수신 '역대 최대 증가'\"],\n",
       " [\"[뉴스터치] 날개 단 '구독 경제'…렌털 거래액 6배↑\"],\n",
       " ['민주 \"시간 끌지 않겠다\"…통합 \\'오락가락\\''],\n",
       " ['[뉴스 열어보기] 가습기살균제 피해 \\'67만 명\\' 추산…\"사망자도 약 10배\" 外'],\n",
       " ['\"대북 거액 송금 논의했다\"…\"논의·합의 없었다\"'],\n",
       " [\"'표적'된 '저격수'…청문회 내내 거센 충돌\"],\n",
       " ['野 \"北 30억불 별도 논의 있어\"…박지원 \"논의도 합의도 없다\"'],\n",
       " ['1985 구로공단의 꿈…\"여전히 사람답게 살기 힘들어요\"'],\n",
       " ['높은 계단도 \\'척척\\' 로봇…\"승강기도 골라 타요\"'],\n",
       " [\"'논문 조작·성범죄' 저질러도…'대한민국 최고 과학자?'\"],\n",
       " [\"'표적'된 '저격수'…청문회 내내 거센 충돌\"],\n",
       " ['\"한 달 새 1억\"…전셋값 \\'고공행진\\' 언제까지'],\n",
       " ['서울 아파트 \\'35층\\' 뚫나…\"집값 부채질\" 우려도'],\n",
       " ['코스피, 외국인·기관 매수에 상승 마감 2,210 상회'],\n",
       " ['외국인·기관 매수에 국내 증시 반등'],\n",
       " ['구미·홍릉·울주·나주·군산·천안아산 신규 강소특구 지정'],\n",
       " ['택지 용적률도 상향 검토…공급대책 발표 임박'],\n",
       " ['문 대통령 \"3분기 경제 반등 성공할 수 있을 것\"'],\n",
       " ['KT, 현대HCN 품었다…유료방송 1위 굳히기'],\n",
       " [\"박지원 청문회 '학력 위조·대북관' 공방\"],\n",
       " ['금 1g당 7만7천원대…4거래일 연속 최고가 행진'],\n",
       " [\"'성희롱·폭언 의혹' 피아트크라이슬러 코리아 사장 직무정지\"],\n",
       " ['코로나19 극복 노사정 합의안 내일 의결…민주노총 빼고 서명'],\n",
       " ['문 대통령 \"성장 반등에 총력…3분기부터 반등할 것\"'],\n",
       " ['재정적 도움 안준다며 어머니 때려 숨지게 한 40대'],\n",
       " ['[권순표의 작심마이크] 원희룡 \"진중권도 금태섭도 같이 갈 수 있다\"'],\n",
       " ['홍준표 \"\\'강성 귀족노조 방지 3법\\' 발의\"'],\n",
       " ['미중갈등에 뉴욕증시 하락 마감…빌 게이츠 서한에 코로나 백신 관련주↑'],\n",
       " [\"상반기 은행권 수신 108조 원 급증…'사상 최대'\"],\n",
       " ['택지 용적률도 상향 검토…공급대책 발표 임박'],\n",
       " ['싼샤댐에 또 홍수 밀려온다…하류로 대량 방류'],\n",
       " ['김현수 농식품 장관 \"청년, 땅 없이도 농업에 진입하도록 지원\"'],\n",
       " ['금 1g당 7만 6천원대…장중 최고가 경신'],\n",
       " ['안철수 \"與, 부동산 망국론 불러…입 다물면 안 되겠나\"'],\n",
       " ['양 시장 상승 출발…뉴욕 3대 지수 모두 내림세 마감'],\n",
       " ['민주, 오늘 행정수도TF 첫 회의…공론화 시동'],\n",
       " ['택지 용적률도 상향 검토…공급대책 발표 임박'],\n",
       " ['방송사 가수 영상 재판매 제한…공정위, 표준계약서 추진'],\n",
       " ['상반기 은행권 수신 108조원 급증…사상 최대 규모'],\n",
       " [\"[스마트 리빙] 장마철이 두려운 부스스 '곱슬머리' 차분하게 만들려면?\"],\n",
       " [\"[스마트 리빙] 비슷한 듯 다른 '선풍기·서큘레이터' 차이점은?\"],\n",
       " ['[뉴스터치] \"자동차 필요 없어\"…신규 면허 3년 새 101만 명→66만 명으로'],\n",
       " ['현대중공업, 하도급 업체 기술 유용 과징금'],\n",
       " ['아시아나항공에 재실사 요구…인수 포기 수순?'],\n",
       " ['\"2,200선 지켜낼까?\" vs \"중국 주식 관심\"'],\n",
       " ['트럼프 \"한미 철통동맹은 세계 평화·안정에 필수\"'],\n",
       " ['민주, 오늘 행정수도TF 첫 회의…공론화 시동'],\n",
       " ['택지 용적률도 상향 검토…공급대책 발표 임박'],\n",
       " ['민주, 오늘 행정수도TF 첫 회의…공론화 시동'],\n",
       " ['트럼프 \"한미 철통동맹은 아시아·세계의 평화·안정에 필수\"'],\n",
       " ['정윤숙 여성경제인협회장, 직원 모욕 혐의로 경찰 수사중'],\n",
       " ['정부 \"집주인 실거주시엔 전월세 계약갱신청구 거부할 수 있다\"'],\n",
       " ['코로나19 탓 국민 10명 중 6명은 여름휴가 안가거나 계획 못세워'],\n",
       " ['현대중공업, 하도급업체 기술 뺏고 거래 끊어…과징금 9.7억원'],\n",
       " ['3기 신도시 외 택지도 용적률 상향…1만가구 추가공급 추진'],\n",
       " ['네이버·카카오페이, 신용카드식 후불결제 30만원까지 된다'],\n",
       " ['테슬라, 올해 상반기 7천여 대 판매…점유율 43%'],\n",
       " ['작년 주택 시가총액 사상 처음 5천조 원 돌파'],\n",
       " [\"HDC현산, 아시아나에 인수상황 재점검 위한 '재실사' 요구\"],\n",
       " [\"테슬라, 국내 전기 승용차 판매 급증…보조금 43% '독식'\"],\n",
       " ['개인형 퇴직연금, 5월 말 535억 손해, 작년 말 6배 수준'],\n",
       " ['한국 고소득층 1인가구 세부담 26%…상승속도 OECD 1위'],\n",
       " [\"'옵티머스 펀드 이관' 공 넘겨받은 NH투자…금감원과 협의 착수\"],\n",
       " ['작년 집값 시총 5천조원 돌파…GDP 대비 집값 사상 최고'],\n",
       " ['올해 상반기 국내 자동차 생산 20% 감소…11년 만에 최소'],\n",
       " [\"[스트레이트 예고] 집값 폭등 주범…2014년 '분양가상한제' 폐지 내막 추적\"],\n",
       " [\"애플·아마존·구글·페이스북 CEO, 미 의회 첫 '동반 출석'\"],\n",
       " ['\"북, 코로나19 휴지기 거쳐 중국 묵인 속 대규모 밀수작전 재개\"'],\n",
       " ['취향을 배달합니다…AI가 고른 속옷·술이 집으로'],\n",
       " ['\"이곳이 위험\"…산사태 \\'하루 전날\\' 알려준다'],\n",
       " [\"'오지 말라는데' 몰래 온 도쿄 시민들…'관광객 거절' 속출\"],\n",
       " [\"인국공, '업무상 부상' 소방대원에게 재시험 기회…특혜 논란?\"],\n",
       " ['보잉737 항공기 엔진결함…국토부도 긴급 점검'],\n",
       " [\"북한에도 '물폭탄'…홍수 피해 긴장감 높아져\"],\n",
       " ['정진석 \"청와대·국회 등 세종시 주변 확대 배치해야\"'],\n",
       " ['한국 NGO, 북에 아프리카돼지열병 진단장비 보낸다'],\n",
       " [\"휘발유 가격 '제자리걸음'…이번주 상승폭 0원대\"],\n",
       " ['국제금값, 9년만에 역대 최고가 경신…장중 1,900달러 넘기도'],\n",
       " ['경실련 \"정부, 근거 없는 통계로 정책실패 은폐‥국토장관 교체하라\"'],\n",
       " ['금값 사흘 연속 최고가 행진…2% 가까이 상승'],\n",
       " ['美·中 갈등 고조에 코스피·코스닥 모두 하락 마감'],\n",
       " ['소비자정책위 \"산후도우미 결격사유에 아동학대 전력 추가\" 권고'],\n",
       " ['\"맛술은 술 아냐\"…주세 없어져 가격 내려갈 듯'],\n",
       " ['\\'울산 선거개입\\' 재판 6개월 공전…검찰 \"송철호 등 소환 불응\"'],\n",
       " ['범여권 시대전환 조정훈, 한국판뉴딜 저격…\"쓰레기 일자리\"'],\n",
       " ['김종인 \"6·25 참전 소년병 3만명 국가가 예우해야\"'],\n",
       " ['집 근처 시설에서 스마트 기기 사용법 교육하는 사업자 모집'],\n",
       " ['오늘의 뉴스테마'],\n",
       " ['코스피, 외국인 매수세 유입되며 상승전환 시도'],\n",
       " ['장애인 세 명 중 한 명 꼴 취업 성공…고용률 전체 인구 절반 못 미쳐'],\n",
       " ['정부, 부총리 주재 녹실회의…수도권 주택공급대책 논의'],\n",
       " ['라임 사태 여파…상반기 펀드 신규 설정액 41.8%↓'],\n",
       " ['김창룡 신임 경찰청장 취임…\"가장 안전한 나라 만들자\"'],\n",
       " ['캠코, 서울·부산 아파트 등 압류재산 1천270건 공매'],\n",
       " [\"카카오T 블루 '앱 미터기' 도입…중형 택시로는 국내 최초\"],\n",
       " ['이해찬 2분기 성장률 하락에 \"그나마 선방\"'],\n",
       " ['기재차관 \"이달말 농수산물 쿠폰부터 8대 쿠폰 순차 지급\"'],\n",
       " ['대정부질문 이틀째…여야, 고성·야유 반복하며 내내 소란'],\n",
       " ['다이소에서 판매된 체스 완구 2종 안전성 미흡…회수·환불 조치'],\n",
       " ['국내 증시 하락세 출발…기관 팔자세'],\n",
       " ['MLB 노사, 포스트시즌 참가팀 10개→16개로 확대 합의'],\n",
       " [\"[스마트리빙] '해수욕장 혼잡도' 신호등 색깔로 확인하세요\"],\n",
       " [\"'환매 중단' 옵티머스 대표, 고객 돈 수백억 원 횡령\"],\n",
       " [\"'갭투자 원정대' 쓸고 간 자리…급매에도 '싸늘'\"],\n",
       " ['머리 숙인 경제팀…김현미 \"자리 연연 안 해\"'],\n",
       " ['[이 시각 세계] 美 코로나19 누적 환자 400만 명 넘어'],\n",
       " ['[뉴스터치] 재테크·투자 도서 판매량 2배 증가'],\n",
       " [\"[뉴스 열어보기] 추미애 경고 하루 만에…이지스 '강남 아파트' 다시 판다\"],\n",
       " [\"트럼프에 등 돌린 지지자들…'바이든' 고공행진 이유?\"],\n",
       " ['코로나에 무너진 성장률…\"22년 만에 최악\"'],\n",
       " [\"시연회에선 잘 터진 '5G'…다시 가 봤더니\"],\n",
       " [\"이틀 만에 인양했지만…온 바다가 '기름 범벅'\"],\n",
       " [\"'수십 톤 굴삭기'도 삼킨 폭우…4,500만 명 피해\"],\n",
       " [\"제주항공 '이스타 인수' 포기…직원 1,600명은?\"],\n",
       " ['불똥 맞은 \\'LG유플러스\\'…콕 집어 \"화웨이 쓰지마라\"'],\n",
       " ['빚 짊어진 동학개미 행렬…증권사들 \"대출 중단\"'],\n",
       " [\"'갭투자 원정대'가 쓸고 간 자리…급매에도 '싸늘'\"],\n",
       " ['머리 숙인 경제팀…김현미 \"자리 연연 안 해\"'],\n",
       " ['KB증권, 라임펀드 고객에 가입금액 40% 선지급 결정'],\n",
       " ['하나금융, 상반기 순익 1조3천446억원…2012년 이후 최대'],\n",
       " ['강남아파트 통째 산 운용사 \"사업철회…이익없이 매각\"'],\n",
       " ['은성수 \"코로나 지원대출 만기 연장 쪽으로 의견 모아\"'],\n",
       " ['홍남기 \"기본소득은 장기적 검토 과제…경제 회복이 우선\"'],\n",
       " ['공공기관 정보 시스템, 2025년까지 클라우드로 전환'],\n",
       " ['이동통신유통협회 \"통신 3가, 고가 요금제 강요\"'],\n",
       " ['[14F] “죽으면 책임진다”며 구급차 막아선 택시 기사, 고의적 접촉사고 정황으로 ‘구속 영장 신청’'],\n",
       " ['美·中 갈등 고조에 부담…코스피 하락세 마감'],\n",
       " ['버려진 고사목…휴식처로 새 생명'],\n",
       " [\"'코로나 충격' 2분기 성장률 -3.3%…22년 만에 최저\"],\n",
       " ['제주항공, 인수 포기…이스타항공 파산 수순'],\n",
       " ['현대차 2분기 영업이익 코로나19 여파로 반토박'],\n",
       " [\"법무부 '수형자 자녀보호 T'F' 가동…지원법률 제정 등 논의\"],\n",
       " [\"검찰, '라임 펀드' 투자받은 '리드' 김정수 회장 구속 기소\"],\n",
       " [\"'캐릭터 사고팔아 고수익'…다단계 금융사기 성행\"],\n",
       " ['발암물질 다량 포함된 생활화학제품 134개 회수 조치'],\n",
       " ['LG유플러스, 주 3일 재택 근무 실험'],\n",
       " [\"'무더기 비리' 과학창의재단, 비상 경영 체제 선포\"],\n",
       " ['지하철 5G 망 구축…서울 2·9호선과 비수도권 노선'],\n",
       " ['과기부, 하반기 중형 위성 발사·누리호 전문 점검 실시'],\n",
       " [\"[이슈 완전정복] 연봉 10억이상 월급쟁이는 몇 명? 세금은?…이재명의 역세권 '기본주택' 해부\"],\n",
       " [\"'코로나 충격' 2분기 성장률 -3.3%…22년 만에 최저\"],\n",
       " ['中 기록적 홍수로 수재민 4천500만명…재산피해 20조원 육박'],\n",
       " ['강남권 토지거래허가제 한 달…주택 거래 93% 급감'],\n",
       " ['세입자 없는 집 임대등록 때 임대료 상한 명시해야'],\n",
       " ['7·10대책 이후 서울 아파트값 상승폭 둔화…전세난은 심화'],\n",
       " ['경실련 \"판교 개발이익 8조원\"…\"공공사업자가 국민 상대로 땅장사\"']]"
      ]
     },
     "execution_count": 156,
     "metadata": {},
     "output_type": "execute_result"
    }
   ],
   "source": [
    "temp.tolist()"
   ]
  },
  {
   "cell_type": "code",
   "execution_count": 157,
   "metadata": {},
   "outputs": [
    {
     "name": "stdout",
     "output_type": "stream",
     "text": [
      "{'산후조리원': 996, '유치원': 1402, '정보': 1593, '한눈': 1930, '에': 1277, '열린': 1310, '소비자': 1080, '포털': 1885, '로': 679, '통합': 1840, '코스피': 1806, '코스닥': 1805, '모두': 746, '1': 2, '가까이': 194, '상승': 1008, '카드': 1794, '업계': 1263, '수해': 1120, '고객': 307, '대금': 588, '청구': 1745, '유예': 1396, '등': 652, '금융': 425, '지원': 1684, '폭우': 1891, '가축': 208, '30만': 63, '마리': 695, '폐': 1878, '사하고': 988, '농작물': 536, '6천': 117, '침수': 1793, '공공': 326, '재건축': 1541, '사례': 972, '발굴': 828, '착수': 1716, '과열': 348, '개발': 234, '예정': 1322, '지': 1679, '기획': 461, '조사': 1626, '김현미': 469, '전월세': 1572, '전환율': 1581, '4': 78, '0': 0, '너무': 513, '높아': 537, '개정': 244, '할': 1937, '것': 267, '법원': 871, '옵티머스': 1341, '김재현': 464, '대표': 603, '6894억원': 115, '추징': 1771, '보전': 890, '명령': 742, '강': 220, '보합': 892, '권': 391, '거래': 251, '개인': 242, '사': 962, '자세': 1520, '국토부': 386, '차관': 1712, '서울시': 1031, '와': 1343, '이견': 1440, '없어': 1271, '외국인': 1352, '아파트': 1219, '취득': 1784, '늘자': 554, '여당': 1288, '실': 1179, '거주': 256, '않으면': 1236, '중과세': 1665, '입법': 1502, '추진': 1770, '정부': 1596, '9억': 143, '이상': 1453, '고가': 306, '주택': 1651, '매매': 726, '자금': 1514, '출처': 1778, '의심': 1431, '상': 1004, '시조사': 1160, '스마트리빙': 1130, '여름철': 1291, '양파': 1251, '망': 718, '담아': 578, '놓으면': 542, '금방': 423, '상해': 1014, '요': 1355, '장마철': 1533, '반려견': 818, '사료': 973, '어떻게': 1253, '보관': 880, '할까': 1938, '새': 1018, '단장': 569, '끝낸': 480, '모란시장': 748, '특': 1849, '화': 1993, '거리': 252, '재': 1539, '도약': 614, '국제': 383, '금값': 420, '사상': 978, '첫': 1742, '온스': 1335, '당': 581, '2천': 59, '달러': 573, '돌파': 626, '휴가': 2024, '가려': 198, '샀더니': 1003, '캠핑': 1799, '용품': 1361, '유해': 1406, '물질': 783, '검': 263, '출': 1774, '공급': 328, '충분하다더니': 1781, '투기': 1844, '자극': 1513, '우려': 1363, '없나': 1266, '2천달러': 60, '이': 1439, '시각': 1143, '세계': 1061, '필리핀': 1906, '코로나': 1803, '19': 28, '급증': 436, '세': 1060, '마닐라': 693, '준': 1654, '봉쇄': 899, '령': 678, '뉴스': 548, '열어': 1312, '보기': 881, '커피숍': 1801, '입장': 1504, '부터': 919, '주문': 1641, '까지': 471, '마스크': 697, '착용': 1717, '방역': 842, '수': 1100, '칙': 1792, '강화': 228, '50': 95, '층': 1790, '줄': 1658, '게': 268, '다오': 563, '시장': 1158, '반응': 822, '은': 1416, '글쎄': 416, '수도권': 1103, '13만': 20, '호': 1981, '도': 610, '허용': 1964, '일본': 1489, '제철': 1619, '자산': 1519, '압류': 1240, '오늘': 1323, '강제': 227, '매각': 724, '시': 1141, '보복': 886, '홍콩': 1992, '무역': 769, '사모펀드': 975, '610억': 112, '환매': 2007, '내년': 502, '5월': 103, '연기': 1302, '월세': 1381, '전환': 1580, '커지는': 1800, '낮아질까': 499, 'tv': 172, '조선': 1627, '방정오': 843, '3': 61, '백': 852, '억': 1258, '몰아주기': 759, '공정위': 338, '심리': 1188, '강남': 221, '유': 1389, '휴지': 2028, '긁어': 417, '모아': 751, '최대': 1759, '없다': 1269, '금통위': 430, '원': 1371, '들': 650, '완화': 1347, '적': 1558, '통화정책': 1842, '따른': 656, '버블': 859, '경기': 283, '회복': 2012, '기': 437, '대감': 584, '오름세': 1326, '양': 1250, '마감': 692, '방안': 841, '찬성': 1718, '안': 1222, '해': 1945, '높이': 540, '35': 69, '의자': 1433, '피크닉': 1904, '매트': 733, '서': 1026, '기준': 455, '넘는': 519, '123': 16, '이슈': 1456, '완전': 1346, '정복': 1595, '채널': 1727, 'a': 146, '기자': 452, '한동훈': 1931, '기소': 448, '의': 1422, '가지': 207, '가능성': 196, '부동산': 907, '법': 867, '상세': 1007, '해설': 1948, '정치': 1603, '맞수다': 720, '추미애': 1766, '인권': 1477, 'vs': 173, '윤석열': 1410, '독재': 622, '충돌': 1780, '전세': 1570, '없어질': 1273, '과거': 345, '경험': 298, '으로': 1415, '봐': 900, '그럴': 405, '일': 1487, 'kt': 159, '재난': 1542, '원금': 1372, '전통': 1577, '방문자': 838, '증가': 1673, '이후': 1471, '다시': 562, '감소': 214, '日': 182, '징용': 1708, '기업': 451, '매': 723, '각시': 209, '온갖': 1332, '선택': 1043, '시야': 1154, '상승세': 1009, '제': 1606, '약품': 1249, '상한': 1013, '가': 189, '기록': 442, '언론': 1260, '땐': 662, '제재': 1615, '검토': 266, '김종인': 466, '우격다짐': 1362, '해도': 1946, '못잡아': 761, '태릉': 1821, 'cc': 148, '서울': 1030, '조달청': 1624, '부지': 915, '김태년': 468, '폭등': 1888, '뒤': 648, '엔': 1284, '경제위기': 294, '엄습': 1262, '조기': 1623, '진압해': 1695, '야': 1245, '경실련': 288, '의료': 1426, '계': 299, '전면': 1568, '파업': 1858, '부적절': 914, '업무': 1264, '개시': 239, '발동': 829, '하': 1910, '라': 670, '홍': 1988, '남기': 493, '골프장': 321, '만': 704, '그': 403, '외': 1351, '그린벨트': 407, '선정': 1040, '안해': 1231, '2270': 48, '선': 1034, '건설': 259, '주': 1638, '강세': 224, '정': 1591, '예상': 1321, '보다': 883, '더': 607, '많은': 712, '7월': 128, '물가': 780, '개월': 241, '만에': 710, '물량': 781, '발표': 834, '분양': 929, '임대': 1494, '비중': 952, '스마트': 1129, '리빙': 689, '몰라서': 757, '못': 760, '받는': 824, '전기': 1563, '료': 684, '할인': 1939, '놓치지': 543, '마세요': 696, '전기밥솥': 1564, '내부': 509, '솥': 1098, '쌀': 1195, '씻지': 1206, '취업': 1786, '대신': 596, '창농': 1724, '열': 1309, '대': 583, '작물': 1524, '내': 500, '손': 1089, '갭': 248, '투자': 1846, '불투명': 939, '세무조사': 1063, '부': 904, '주요': 1645, '누적': 545, '확진': 2005, '4만': 91, '명': 741, '넘어': 520, '뉴스터치': 549, '입자': 1503, '계약서': 303, '집주인': 1705, '돼': 633, '화상': 1995, '카메라': 1795, '처럼': 1734, '비': 943, '접촉': 1590, '기침': 458, '인식': 1482, '자차': 1522, '가입': 204, '했다면': 1955, '규정': 400, '따라': 655, '보험금': 893, '아시아나': 1217, '인수': 1481, '무산': 768, '산': 992, '현대': 1969, '산업': 994, '책임': 1729, '2': 35, '대책': 600, '10만': 10, '계획': 304, '2025년': 41, '240만': 51, '확보': 2000, '전': 1561, '셋값': 1071, '확대': 1999, '참시': 1721, '윤희': 1412, '숙': 1122, '이어': 1458, '윤준': 1411, '병': 878, '나도': 482, '끌': 479, '또': 665, '취소': 1785, '가기': 193, '어려운': 1254, '대통령': 602, '속도': 1085, '내는': 504, '민주': 799, '반발': 819, '하는': 1913, '후속': 2020, '법안': 870, '통과': 1834, '곳곳': 324, '홍수': 1990, '이상기후': 1454, '지구촌': 1680, '42': 85, '채': 1726, '싹': 1193, '쓸이': 1204, '한국': 1928, '완성': 1345, '차': 1711, '작년': 1523, '比': 184, '10': 3, '수출': 1119, '폭': 1887, '줄어': 1659, '14': 21, 'f': 152, '우주': 1365, '왕복': 1349, '성공한': 1051, '스페이스': 1134, 'x': 176, '6': 108, '후': 2018, '또다시': 666, '간다': 211, '고': 305, 'ㄹㅇ': 177, 'lcc': 160, '추가': 1765, '협의': 1976, '중': 1662, '대한항공': 605, '기안': 450, '기금': 440, '신청': 1175, '준비': 1657, '매수': 727, '소': 1072, '급등': 434, '이동걸': 1442, '결단': 277, '시점': 1159, '계약': 302, '현산': 1971, '예': 1317, '탁원': 1816, '확인': 2003, '시스템': 1153, '구축': 377, '나선다': 485, '검사': 264, '는': 552, '옹호': 1342, '보루': 885, '절제': 1585, '된': 641, '권한': 397, '행사': 1959, '해야': 1951, '권순표': 393, '작심': 1525, '마이크': 698, '존리': 1634, '문맹': 775, '질병': 1699, '사교육': 966, '돈': 624, '주식': 1644, '가전': 206, '정유': 1598, '의료기기': 1427, '업체': 1265, '대리점': 591, '갑질': 218, '실태': 1185, '방통위': 846, '원장': 1374, '수신료': 1113, '미디어': 789, '재원': 1547, '구조': 376, '근본': 413, '조정': 1630, 'sk': 168, '바이오': 810, '팜': 1868, 'lg': 161, '화학': 1998, '집중호우': 1706, '피해': 1905, '납세': 498, '자': 1511, '9': 139, '기한': 459, '연장': 1307, '미국인': 788, '다': 556, '탈세': 1818, '혐의': 1973, '알려줘': 1239, '경제': 291, '나선': 484, '중국인': 1667, '유학생': 1405, '사업': 980, '값': 219, '초': 1752, '전국': 1562, '9년': 142, '문': 773, '3년': 71, '집값': 1702, '승률': 1138, '34': 68, '52': 99, '이해찬': 1469, '내일': 510, '본회의': 898, '에서': 1280, '남은': 496, '반드시': 816, '처리': 1735, '모바일': 750, '게임': 270, '상반기': 1006, '매출': 732, '2조': 58, '8천억원': 138, '역대': 1297, '최고': 1758, '납기': 497, '징수': 1707, '트럼프': 1847, '틱톡': 1854, '시한': 1162, '통보': 1835, 'ms': 164, '내달': 505, '15일': 24, '협상': 1974, '하락': 1916, '아모레퍼시픽': 1212, '넘게': 515, '시민': 1149, '월급': 1378, '한': 1927, '푼': 1896, '쓰고': 1200, '모아도': 752, '사는데': 968, '12년': 17, '걸려': 262, '72': 121, '경영': 289, '악화': 1221, '겪었다': 271, '보드게임': 884, '오르자': 1325, '경매': 285, '한쪽': 1935, '폭염': 1890, '범인': 865, '시베리아': 1150, '고온': 315, '발': 826, '뺀': 958, '백악관': 855, '대선': 595, '일정': 1491, '변동': 875, '스트레이트': 1133, '51억': 98, '벌고': 861, '세금': 1062, '0원': 1, '천국': 1738, '5일': 104, '500': 96, 'mm': 163, '예방': 1320, '예고': 1318, '다른': 560, '범': 862, '정말': 1592, '안정': 1229, '을': 1420, '바랄까': 806, '주호영': 1652, '정책': 1602, '과': 344, '헌법': 1966, '벗어나': 874, '로드': 681, '맨': 735, '뜨는': 669, '제주': 1617, '닳는': 576, '미리': 793, '올리자': 1338, '신': 1167, '경전': 290, '여기는': 1287, '왔는데': 1348, '옮겨': 1340, '다니며': 557, '물폭탄': 784, '휘발': 2022, '윳값': 1414, '두': 644, '달': 571, '리터': 690, '1361원': 19, '이르면': 1449, '8월': 135, '1일': 32, '사용': 983, '금지': 428, '시킬': 1161, '경제부총리': 292, '3분': 73, '확실한': 2002, '반등': 817, '이뤄': 1448, '낼': 511, '장': 1529, '경품': 297, '1만': 30, '인상': 1480, '생활용품': 1025, '네이버': 521, '美': 185, '카카오': 1796, '웹툰': 1382, '종주국': 1637, '플랫폼': 1902, '석권': 1033, '7': 119, '넉': 514, '자릿수': 1518, '처음': 1736, '고용': 316, '만료': 709, '임박': 1497, '티웨이': 1852, '제주항공': 1618, '무급': 763, '휴직': 2029, '큰물': 1812, '막아라': 702, '돼지': 634, '안고': 1224, '현금': 1968, '묻고': 778, '극': 409, '과극': 346, '남': 492, '남북': 494, '녀': 522, '부집': 916, '연': 1299, '사연': 982, '권총': 396, '주고': 1640, '노병': 524, '챙기고': 1732, '의도': 1425, '파괴': 1856, '재앙': 1546, '개성': 238, '이틀': 1467, '경신': 287, '팔고': 1866, '8': 132, '집': 1701, '내놨다': 503, '인사': 1479, '미룰까': 792, '비난': 945, '빗발': 954, '치자': 1791, '이름': 1450, '같을': 229, '뿐': 960, '인데': 1478, '묻지': 779, '마': 691, '요동치는': 1358, '주가': 1639, '불매': 934, '운동': 1367, '여파': 1296, '유니클로': 1391, '개': 231, '폐점': 1879, '400': 80, '쏟아졌는데': 1198, '두문불출': 646, '아베': 1213, '나와라': 486, '쏟아진다': 1199, '250': 53, '영향': 1316, '매도': 725, '부담': 905, '약': 1248, '대출': 601, '증액': 1677, '동의': 631, '필요한': 1909, '건': 258, '아냐': 1207, '갱신': 249, '시행': 1163, '권제': 395, '공식': 335, '관보': 360, '공포': 342, '올해': 1339, '담배': 577, '17억': 27, '갑': 217, '팔려': 1867, '2016년': 40, '은행': 1418, '예금': 1319, '금리': 421, '가계': 191, '최저': 1762, '관료': 358, '국민': 381, '속였다': 1086, '경기도': 284, '기본': 444, '환영': 2009, '검찰': 265, '육탄': 1409, '독직': 623, '폭행': 1892, '떳떳하다면': 664, '왜': 1350, '휴대폰': 2026, '수사': 1107, '를': 686, '막': 700, '나': 481, '조양': 1628, '래': 672, '딸': 657, '이러는지': 1447, '에게': 1278, '승계': 1137, '생각': 1020, '봤다': 902, '개혁': 247, '속': 1084, '도전': 618, '직접': 1693, '축소': 1773, '분산': 927, '살': 997, '의사': 1430, '있다': 1508, '북한': 923, '경제성장률': 293, '추정': 1769, '통일부': 1838, '북': 921, '측': 1789, '수령': 1105, '주체': 1649, '비공개': 944, '성사': 1055, '높이기': 541, '위해': 1387, '선물': 1036, '큰': 1811, '규모': 399, '보이': 888, '며': 738, '경찰': 295, '송도': 1095, '땅': 658, '특혜': 1851, '의혹': 1437, '인천': 1485, '전직': 1575, '공무원': 333, '입건': 1500, '2분': 57, '승용차': 1139, '40': 79, '수입': 1116, '17': 26, '신임': 1174, '총': 1755, '100억': 5, '원대': 1373, '보유': 887, '매수세': 728, '6월': 116, '생산': 1022, '소비': 1079, '트리플': 1848, '오픈마켓': 1330, '해외': 1952, '사업자': 981, '중국': 1666, '관련': 357, '절반': 1583, '손상': 1090, '버려진': 858, '화폐': 1997, '7천억': 130, '미국': 787, '성장': 1057, '률': 685, '32': 66, '73년': 124, '최악': 1761, '유가': 1390, 'wti': 174, '40달러': 82, '붕괴': 941, '유럽': 1394, '증시': 1676, '지표': 1688, '일제': 1492, '히': 2031, '통계': 1833, '집계': 1703, '이래': 1446, '연일': 1306, '신기록': 1170, '고이': 317, '케': 1802, '독자': 621, '긴급': 462, '사태': 987, '선언': 1039, '미': 786, '신규': 1169, '실업': 1183, '수당': 1101, '143만': 22, '연속': 1304, '물자': 782, '반출': 823, '승인': 1140, '배달': 848, '떠': 663, '넘기고': 517, '음식': 1421, '올려라': 1337, '배민': 849, '당장': 582, '될까': 643, '하순': 1923, '무더위': 767, '시작': 1157, '이라': 1445, '더니': 608, '이인영': 1463, '장관': 1530, '취임': 1787, '대북': 592, '부양': 911, '의지': 1436, '매수세에': 729, '국정원': 382, '대외': 597, '안보': 1225, '정보원': 1594, '개칭': 245, '대공': 586, '수사권': 1108, '삭제': 991, '중부': 1669, '발전': 833, '지급': 1681, '화력발전소': 1994, '신고': 1168, '않고': 1234, '임의': 1498, '가동': 197, '금호': 431, '충분히': 1782, '제공': 1607, '재실사': 1545, '혁신': 1967, '국가대표': 379, '1천': 34, '개에': 240, '간': 210, '40조': 83, '여성': 1293, '하루': 1917, '가사노동': 199, '3시간': 74, '10분': 11, '남성은': 495, '48분': 89, '100조': 6, 'els': 151, '건전성': 260, '비율': 951, '손실': 1091, '표기': 1893, '잠자고': 1528, '꾸미는': 476, '시간': 1144, '늘': 553, '학습': 1926, '수돗물': 1104, '유충': 1401, '백여': 857, '실제': 1184, '26': 54, '재활용': 1553, '수익': 1115, '성': 1048, '개선': 237, '환경부': 2006, '단가': 567, '권고': 392, '권익위': 394, '맡은': 722, '공직자': 341, '이해': 1468, '날짜': 491, '달라지나': 572, '임대차': 1496, '초읽기': 1753, '임대료': 1495, '5': 94, '제한': 1621, '미분': 794, '2만': 56, '9천': 145, '5년': 102, '檢': 183, '범죄': 866, '한정': 1934, '9월': 144, '대량': 590, '백신': 854, '최초': 1764, '러시아': 674, '임': 1493, '결과': 275, '깜깜': 472, '효과': 2017, '의문': 1429, '분기': 925, '쇼핑': 1099, '광고': 363, '호조': 1983, '그린피스': 408, '후쿠시마': 2021, '오염수': 1327, '방류': 837, '반대': 814, '본': 896, '대사관': 594, '서한': 1032, '현재': 1972, '수준': 1118, '이면': 1451, '하반기': 1921, '목표': 755, '충족': 1783, '무인': 770, '단말기': 568, '휴대전화': 2025, '개통': 246, '통신사': 1837, '비대': 946, '면': 739, '서비스': 1029, '중고': 1663, '앱': 1244, '이용자': 1460, '1100만': 14, '육박': 1408, '이어지면서': 1459, '쿠폰': 1808, '풀어': 1897, '1조': 33, '유도': 1392, '대기업': 589, 'cvc': 150, '분': 924, '100': 4, '외부': 1354, '이내': 1441, '지역': 1683, '사랑': 971, '온누리상품권': 1333, '신용': 1172, '평가': 1875, '등급': 653, '점수': 1587, '문턱': 777, '해소': 1949, '무조건': 771, '4년': 90, '된다': 642, '되면': 639, '어느': 1252, '나라': 483, '올': 1336, '리나': 687, '삼성': 1001, '전자': 1573, '영업': 1314, '이익': 1462, '8조': 136, '1463억원': 23, '대비': 593, '23': 50, '탔다': 1820, '국내': 380, '통화': 1841, '출발': 1775, '저가': 1554, '재산': 1544, '세율': 1065, '인하': 1486, '10월': 13, '다음': 564, '이스타항공': 1457, '법정관리': 873, '듯': 651, '조치': 1632, '마련': 694, '가스레인지': 202, '점화': 1589, '건전지': 261, '하세요': 1922, '쏙': 1197, '기간': 438, '파월': 1859, '의장': 1434, '앞길': 1241, '매우': 730, '불확실': 940, '억제': 1259, '달렸다': 574, '600억': 111, '弗': 181, '한미': 1932, '스와프': 1131, '인구': 1475, '확실': 2001, '혼인': 1985, '21': 43, '기준금리': 456, '동결': 628, '제로': 1608, '유지': 1399, '기존': 454, '적용': 1560, '자율': 1521, '행차': 1963, '센서': 1069, '실리콘': 1180, '소재': 1081, '비용': 950, '절감': 1582, '규제': 401, 'wto': 175, '패널': 1869, '설치': 1047, '확정': 2004, '차별': 1713, '입증': 1506, '직원': 1691, '모욕': 753, '정윤숙': 1599, '여': 1286, '성경제': 1049, '인': 1473, '협회장': 1978, '의견': 1423, '송치': 1097, '장마': 1532, '위험': 1388, '쪽': 1710, '방촌': 845, '청각': 1744, '장애인': 1536, '기사': 447, '님': 555, '입니다': 1501, '기술': 449, '듣는다': 649, '밀가루': 800, '계란': 301, '통': 1832, '행세': 1960, '챙겨': 1731, 'spc': 169, '그룹': 406, '회장': 2015, '고발': 311, '스타': 1132, '노조': 527, '불법': 935, '증여': 1678, '이상직': 1455, '몰라라': 756, '전화': 1579, '없는데': 1268, '모르게': 749, '불가': 931, '꺼지고': 473, '고립': 310, '되고': 636, '5천': 105, '백만': 853, '날벼락': 490, '빠르면': 956, '2260': 47, '부활': 920, '322': 67, '동': 627, '성수': 1056, '항공': 1943, '투입': 1845, '시사': 1151, '사망자': 974, '600': 110, '레드': 675, '존': 1633, '조': 1622, '포탈': 1884, '허위': 1965, '사실': 979, '공표': 343, '靑': 188, '송금': 1094, '합의': 1942, '존재': 1635, '하지': 1924, '않는': 1235, '문건': 774, '행정': 1961, '수도': 1102, '여론': 1289, '심층': 1189, '분석': 928, '이전': 1465, '이유': 1461, '문제': 776, '아니라': 1208, '국토': 385, '균형발전': 402, '글로벌': 415, '경': 281, '도시': 613, '박차': 812, '부당': 906, '총수': 1757, '흐름': 2030, '셀트리온': 1070, '상임': 1010, '위': 1383, '강력': 222, '정통부': 1604, 'g': 153, '기지국': 457, '적극': 1559, '품질': 1899, '전자통신': 1574, '연구원': 1300, '사물인터넷': 977, '공장': 336, '제어': 1612, '택시': 1823, '출시': 1777, '산사태': 993, '위기': 1384, '경보': 286, '주의': 1646, '상향': 1015, '금융위': 426, '국책': 384, '전향': 1578, '유동성': 1393, '60': 109, '아닌': 1209, '쌓기만': 1196, '뉴욕증시': 551, '혼': 1984, '동반': 630, '째': 1709, '가격': 190, '전망': 1567, '서민': 1028, '사라진다': 969, '소형': 1082, '평균': 1876, '4억': 92, '민간': 798, '택지': 1824, '가상한': 200, '개동': 232, '온라인': 1334, '물품': 785, '명중': 744, '줄었다': 1660, '70조': 120, '어치': 1257, '판매': 1863, '수수료': 1110, '3천억': 77, '지수': 1682, '번째': 860, '시원한': 1156, '오이': 1328, '씁쓸한': 1205, '맛': 716, '없애고': 1270, '먹으려면': 737, '선크림': 1042, '바를': 808, '때': 659, '눈': 546, '시리': 1148, '성분': 1054, '살펴보세요': 1000, '금리인하': 422, '요구': 1356, '활용': 2011, '뜨거워진': 668, '한반도': 1933, '아열대': 1218, '외래종': 1353, '창궐': 1723, '결국': 276, '삐걱': 961, '부양책': 912, '3일': 75, '팩트': 1870, '무게': 762, '소득세': 1076, '봐야': 901, '아빠': 1214, '한테': 1936, '줬어요': 1672, '20': 36, '30': 62, '대거': 585, '야당': 1246, '갈등': 213, '대응': 598, '원칙': 1376, '제시': 1610, '동맹': 629, '포용': 1883, '미래에셋': 791, '손잡고': 1092, '중소': 1670, '상품': 1012, '입주': 1505, '자공고': 1512, '속출': 1088, '고법': 312, '국회': 387, '교통': 367, '변호사': 876, '단체': 570, '엑스': 1283, '퍼트': 1871, '공동': 330, '인공': 1474, '태양': 1822, '프로젝트': 1901, 'iter': 157, '핵융합': 1953, '장치': 1537, '조립': 1625, '세제': 1066, '되는': 637, '주초': 1650, '불쏘시개': 936, '되지': 640, '않게': 1232, '고심': 314, '순': 1124, '견인': 272, '2250': 46, '상회': 1017, '미래': 790, '의원': 1432, '21억': 45, '배': 847, '행': 1957, '안위': 1226, '野': 187, '불참': 938, '복수': 894, '관리': 359, '청': 1743, '승격': 1136, '청년': 1746, '신혼부부': 1178, '매입': 731, '392': 70, '가구': 192, '입': 1499, '주자': 1647, '모집': 754, '뚫나': 667, '잘': 1527, '신호': 1176, '고통': 319, '분담': 926, '사회': 989, '절실': 1584, '파죽지세': 1860, '8만': 133, '월성원전': 1380, '맥스': 734, '터': 1825, '공론': 331, '공정하게': 339, '했다': 1954, '등록': 654, '전수': 1571, '의무': 1428, '불': 930, '이행': 1470, '바로': 807, '말소': 715, '극복': 410, '노': 523, '사정': 986, '협약': 1975, '의결': 1424, '량': 673, '액': 1243, '반도체': 815, '부위': 913, '모든': 747, '감안': 216, '유현준': 1407, '밀집': 803, '관점': 362, '에서는': 1281, '실물': 1181, '제자리': 1613, '55': 101, '79': 125, '73': 122, '하고': 1911, '싶다': 1191, '직장인': 1692, '법인': 872, '세워': 1064, '탈루': 1817, '덜미': 609, '사기': 967, '막는다': 701, '탁사': 1815, '감시': 215, '견제': 273, '장특': 1538, '공제': 340, '혜택': 1980, '인정': 1484, '발의': 832, '생업': 1023, '때문': 661, '혼자': 1986, '근무': 412, '순위': 1125, '청약': 1748, '가능': 195, '선수금': 1038, '무단': 765, '아산': 1215, '상조': 1011, '반사': 821, '꺾인': 474, '풍': 1900, '제약': 1611, '구성': 374, '본사': 897, '하면': 1920, '배상': 850, '대형': 606, '마트': 699, '농': 533, '축산물': 1772, '농식품부': 534, '백억원': 856, '발행': 835, '식': 1165, '참석': 1720, '티웨이항공': 1853, '여부': 1292, '촉각': 1754, '유착': 1400, '이동재': 1443, '사건': 963, '제보자': 1609, '잇따라': 1507, '일반': 1488, '정수': 1597, '435': 87, '곳': 323, '과지': 351, '발견': 827, '도로공사': 611, '채용': 1728, '과정': 349, '최종': 1763, '합격자': 1940, '바뀌어': 804, '쓰레기': 1201, '소각': 1073, '시설': 1152, '공사': 334, '담합': 579, '개사': 236, '과징금': 352, '8억': 134, '만드는': 706, '복숭아': 895, '병조림': 879, '광역': 364, '알뜰': 1237, '교통카드': 368, '대중교통': 599, '요금': 1357, '줄여요': 1661, '1억': 31, '고공': 308, '행진': 1962, '언제': 1261, '용적률': 1360, '만지작': 711, '수신': 1112, '날개': 489, '단': 566, '구독': 371, '렌털': 677, '않겠다': 1233, '오락가락': 1324, '가습기': 203, '살균제': 998, '67만': 114, '추산': 1767, '外': 180, '거액': 254, '논의': 532, '없었다': 1274, '표적': 1894, '저격수': 1556, '청문회': 1747, '내내': 501, '거': 250, '센': 1068, '北': 179, '30억': 65, '별도': 877, '있어': 1509, '박지원': 811, '1985': 29, '구로': 372, '공단': 329, '꿈': 477, '여전히': 1295, '사람': 970, '답': 580, '살기': 999, '힘들어요': 2032, '높은': 539, '계단': 300, '척척': 1737, '로봇': 682, '승강기': 1135, '골라': 320, '타요': 1814, '논문': 531, '조작': 1629, '성범죄': 1053, '저질러도': 1557, '대한민국': 604, '과학자': 354, '부채질': 917, '기관': 439, '210': 44, '구미': 373, '홍릉': 1989, '울주': 1370, '나주': 487, '군산': 388, '천안': 1739, '강소': 225, '특구': 1850, '지정': 1685, '성공할': 1052, '있을': 1510, 'hcn': 155, '품었다': 1898, '유료': 1395, '방송': 839, '굳히기': 389, '학력': 1925, '위조': 1386, '북관': 922, '공': 325, '방': 836, '금': 418, '7만': 126, '7천원': 131, '성희롱': 1059, '폭언': 1889, '피아트': 1903, '크라이슬러': 1810, '코리아': 1804, '사장': 985, '직무': 1690, '정지': 1600, '노총': 528, '빼고': 957, '서명': 1027, '총력': 1756, '기부터': 446, '재정': 1548, '도움': 616, '준다며': 1656, '어머니': 1255, '때려': 660, '숨지게': 1128, '원희룡': 1377, '진중권': 1697, '금태섭': 429, '같이': 230, '갈': 212, '홍준표': 1991, '강성': 223, '귀족': 398, '방지': 844, '빌': 953, '게이츠': 269, '은행권': 1419, '108조': 8, '싼샤댐': 1194, '밀려온다': 801, '하류': 1918, '김현수': 470, '식품': 1166, '없이도': 1276, '농업': 535, '진입': 1696, '하도록': 1915, '6천원': 118, '안철수': 1230, '與': 186, '망국': 719, '론': 683, '불러': 933, '다물면': 561, '되겠나': 635, '뉴욕': 550, '내림세': 507, 'tf': 171, '회의': 2014, '시동': 1147, '방송사': 840, '가수': 201, '영상': 1313, '재판매': 1552, '표준': 1895, '108조원': 9, '두려운': 645, '부스스': 910, '곱슬': 322, '머리': 736, '차분하게': 1714, '만들려면': 707, '비슷한': 949, '선풍기': 1045, '큘': 1809, '레이': 676, '차이점': 1715, '자동차': 1516, '필요': 1908, '면허': 740, '101만': 7, '66만': 113, '중공업': 1664, '하도급': 1914, '유용': 1397, '포기': 1881, '수순': 1111, '200': 37, '지켜': 1687, '낼까': 512, '관심': 361, '철통': 1740, '평화': 1877, '필수': 1907, '아시아': 1216, '시엔': 1155, '거부': 253, '탓': 1819, '여름': 1290, '안가거나': 1223, '뺏고': 959, '끊어': 478, '7억원': 127, '신도시': 1171, '페이': 1873, '신용카드': 1173, '후불': 2019, '결제': 279, '30만원': 64, '테슬라': 1828, '7천': 129, '점유': 1588, '율': 1413, '43': 86, '시가총액': 1142, '5천조': 106, 'hdc': 156, '상황': 1016, '점검': 1586, '보조금': 891, '독식': 620, '형': 1979, '퇴직': 1843, '연금': 1301, '말': 713, '535억': 100, '손해': 1093, '소득': 1075, 'oecd': 167, '펀드': 1872, '관': 355, '넘겨받은': 516, 'nh': 166, '금감원': 419, '5천조원': 107, 'gdp': 154, '11년': 15, '최소': 1760, '2014년': 39, '폐지': 1880, '내막': 508, '추적': 1768, '애플': 1242, '아마존': 1211, '구글': 369, '페이스북': 1874, 'ceo': 149, '의회': 1438, '출석': 1776, '거쳐': 257, '묵인': 772, '대규모': 587, '밀수': 802, '작전': 1526, '재개': 1540, '취향': 1788, '합니다': 1941, 'ai': 147, '고른': 309, '속옷': 1087, '술': 1127, '전날': 1565, '알려': 1238, '준다': 1655, '오지': 1329, '말라는데': 714, '몰래': 758, '온': 1331, '도쿄': 619, '관광객': 356, '거절': 255, '인국공': 1476, '부상': 909, '소방대': 1078, '시험': 1164, '기회': 460, '논란': 530, '보잉': 889, '737': 123, '항공기': 1944, '엔진': 1285, '결함': 280, '에도': 1279, '긴장감': 463, '높아져': 538, '정진석': 1601, '청와대': 1749, '세종시': 1067, '주변': 1642, '배치': 851, 'ngo': 165, '아프리카': 1220, '열병': 1311, '진단': 1694, '장비': 1534, '보낸다': 882, '휘발유': 2023, '제자리걸음': 1614, '이번': 1452, '900달러': 140, '넘기도': 518, '근거': 411, '없는': 1267, '실패': 1186, '은폐': 1417, '교체': 366, '사흘': 990, '中': 178, '고조': 318, '산후': 995, '도우미': 615, '결격': 274, '사유': 984, '아동학대': 1210, '전력': 1566, '맛술': 717, '주세': 1643, '없어져': 1272, '내려갈': 506, '울산': 1369, '선거': 1035, '개입': 243, '재판': 1551, '공전': 337, '송철호': 1096, '소환': 1083, '불응': 937, '범여': 864, '시대': 1145, '조정훈': 1631, '한국판': 1929, '뉴딜': 547, '저격': 1555, '일자리': 1490, '25': 52, '참전': 1722, '소년병': 1074, '3만': 72, '국가': 378, '우해': 1366, '근처': 414, '기기': 441, '용법': 1359, '교육': 365, '테마': 1827, '유입': 1398, '되며': 638, '시도': 1146, '꼴': 475, '성공': 1050, '전체': 1576, '미쳐': 795, '부총리': 918, '주재': 1648, '녹실': 529, '라임': 671, '설정': 1046, '41': 84, '김창룡': 467, '경찰청장': 296, '가장': 205, '안전한': 1228, '만들자': 708, '캠코': 1798, '부산': 908, '270': 55, '공매': 332, 't': 170, '블루': 942, '미터': 796, '도입': 617, '중형': 1671, '로는': 680, '그나마': 404, '선방': 1037, '기재': 453, '달말': 575, '수산물': 1109, '순차': 1126, '질문': 1698, '여야': 1294, '고성': 313, '야유': 1247, '반복': 820, '하며': 1919, '소란': 1077, '다이소': 565, '체스': 1750, '완구': 1344, '종': 1636, '안전성': 1227, '미흡': 797, '회수': 2013, '환불': 2008, '팔': 1865, 'mlb': 162, '노사': 525, '포스트시즌': 1882, '참가': 1719, '팀': 1855, '16': 25, '해수욕장': 1950, '혼잡': 1987, '신호등': 1177, '색깔': 1019, '중단': 1668, '수백억': 1106, '횡령': 2016, '원정': 1375, '쓸고': 1203, '자리': 1517, '급매': 435, '싸': 1192, '숙인': 1123, '연연': 1305, '환자': 2010, '400만': 81, '재테크': 1550, '도서': 612, '판매량': 1864, '경고': 282, '이지스': 1466, '판다': 1862, '돌린': 625, '지지자': 1686, '바이든': 809, '무너진': 764, '22년': 49, '연회': 1308, '에선': 1282, '터진': 1826, '봤더니': 903, '인양': 1483, '했지만': 1956, '바다': 805, '기름': 443, '범벅': 863, '수십': 1114, '톤': 1831, '굴삭기': 390, '삼킨': 1002, '500만': 97, '불똥': 932, '맞은': 721, '유플러스': 1404, '콕': 1807, '집어': 1704, '화웨이': 1996, '쓰지마라': 1202, '빚': 955, '짊': 1700, '어진': 1256, '동학': 632, '개미': 233, '행렬': 1958, '증권사': 1675, 'kb': 158, '증권': 1674, '금액': 424, '선지': 1041, '급': 432, '결정': 278, '하나': 1912, '익': 1472, '3천': 76, '446억원': 88, '2012년': 38, '통째': 1839, '운용': 1368, '철회': 1741, '없이': 1275, '만기': 705, '기본소득': 445, '장기': 1531, '과제': 350, '우선': 1364, '공공기관': 327, '클라우드': 1813, '이동통신': 1444, '유통': 1403, '협회': 1977, '통신': 1836, '금제': 427, '강요': 226, '죽으면': 1653, '책임진다': 1730, '구급차': 370, '막아선': 703, '의적': 1435, '사고': 964, '정황': 1605, '구속': 375, '영장': 1315, '사목': 976, '휴식': 2027, '처': 1733, '생명': 1021, '충격': 1779, '파산': 1857, '현대차': 1970, '반': 813, '토박': 1829, '법무부': 869, '수형': 1121, '자녀보호': 1515, '법률': 868, '제정': 1616, '받은': 825, '리드': 688, '김정수': 465, '캐릭터': 1797, '사고팔아': 965, '다단계': 558, '성행': 1058, '발암': 831, '다량': 559, '포함': 1886, '생활': 1024, '제품': 1620, '134': 18, '재택': 1549, '실험': 1187, '무더기': 766, '비리': 947, '과학': 353, '창의': 1725, '재단': 1543, '비상': 948, '체제': 1751, '선포': 1044, '지하철': 1689, '호선': 1982, '노선': 526, '과기부': 347, '위성': 1385, '발사': 830, '누리': 544, '전문': 1569, '실시': 1182, '연봉': 1303, '10억': 12, '월급쟁이': 1379, '몇': 745, '이재명': 1464, '역세': 1298, '해부': 1947, '수재민': 1117, '4천': 93, '20조원': 42, '토지거래허가제': 1830, '93': 141, '급감': 433, '명시': 743, '둔화': 647, '난': 488, '심화': 1190, '판교': 1861, '개발이익': 235, '8조원': 137, '상대로': 1005, '장사': 1535}\n"
     ]
    }
   ],
   "source": [
    "from sklearn.feature_extraction.text import TfidfVectorizer\n",
    "\n",
    "tf_idf = TfidfVectorizer(token_pattern = r\"(?u)\\b\\w+\\b\")\n",
    "\n",
    "tf_idf.fit(tokens)\n",
    "\n",
    "print(tf_idf.vocabulary_)\n"
   ]
  },
  {
   "cell_type": "code",
   "execution_count": 158,
   "metadata": {},
   "outputs": [
    {
     "data": {
      "text/plain": [
       "445"
      ]
     },
     "execution_count": 158,
     "metadata": {},
     "output_type": "execute_result"
    }
   ],
   "source": [
    "len(galexy_posts)"
   ]
  },
  {
   "cell_type": "code",
   "execution_count": 159,
   "metadata": {},
   "outputs": [
    {
     "name": "stdout",
     "output_type": "stream",
     "text": [
      "(445, 2033)\n"
     ]
    }
   ],
   "source": [
    "print(pd.DataFrame(tf_idf.transform(galexy_posts).toarray()).shape)"
   ]
  },
  {
   "cell_type": "code",
   "execution_count": 160,
   "metadata": {},
   "outputs": [],
   "source": [
    "\n",
    "tf_idf_matrix = tf_idf.fit_transform(galexy_posts)"
   ]
  },
  {
   "cell_type": "code",
   "execution_count": 161,
   "metadata": {
    "scrolled": true
   },
   "outputs": [
    {
     "name": "stdout",
     "output_type": "stream",
     "text": [
      "(445, 2139)\n"
     ]
    }
   ],
   "source": [
    "print(tf_idf_matrix.shape)"
   ]
  },
  {
   "cell_type": "code",
   "execution_count": 252,
   "metadata": {},
   "outputs": [],
   "source": [
    "from sklearn.metrics.pairwise import linear_kernel\n",
    "\n",
    "# 10000 x 10000을 서로 내적하여 코사인 유사도를 구함\n",
    "# 각 항목은 두 영화의 유사도를 나타냄\n",
    "cosine_sim = linear_kernel(tf_idf_matrix, tf_idf_matrix)\n",
    "\n",
    "# print(cosine_sim.shape)\n",
    "# list(enumerate(cosine_sim[0]))"
   ]
  },
  {
   "cell_type": "code",
   "execution_count": 163,
   "metadata": {},
   "outputs": [],
   "source": [
    "\n",
    "indices = pd.Series(data=df['0'],name=\"title\").drop_duplicates()\n",
    "indices = pd.DataFrame(indices)"
   ]
  },
  {
   "cell_type": "code",
   "execution_count": 164,
   "metadata": {},
   "outputs": [
    {
     "data": {
      "text/html": [
       "<div>\n",
       "<style scoped>\n",
       "    .dataframe tbody tr th:only-of-type {\n",
       "        vertical-align: middle;\n",
       "    }\n",
       "\n",
       "    .dataframe tbody tr th {\n",
       "        vertical-align: top;\n",
       "    }\n",
       "\n",
       "    .dataframe thead th {\n",
       "        text-align: right;\n",
       "    }\n",
       "</style>\n",
       "<table border=\"1\" class=\"dataframe\">\n",
       "  <thead>\n",
       "    <tr style=\"text-align: right;\">\n",
       "      <th></th>\n",
       "      <th>title</th>\n",
       "    </tr>\n",
       "  </thead>\n",
       "  <tbody>\n",
       "    <tr>\n",
       "      <th>0</th>\n",
       "      <td>산후조리원·유치원 정보 한눈에…열린소비자포털로 통합</td>\n",
       "    </tr>\n",
       "    <tr>\n",
       "      <th>1</th>\n",
       "      <td>코스피·코스닥 모두 1% 가까이 상승</td>\n",
       "    </tr>\n",
       "    <tr>\n",
       "      <th>2</th>\n",
       "      <td>카드업계, 수해 고객에 대금 청구유예 등 금융지원</td>\n",
       "    </tr>\n",
       "    <tr>\n",
       "      <th>3</th>\n",
       "      <td>폭우로 가축 30만마리 폐사하고 농작물 6천㏊ 침수</td>\n",
       "    </tr>\n",
       "    <tr>\n",
       "      <th>4</th>\n",
       "      <td>공공재건축 사례 발굴 착수…과열 개발예정지 기획조사</td>\n",
       "    </tr>\n",
       "    <tr>\n",
       "      <th>...</th>\n",
       "      <td>...</td>\n",
       "    </tr>\n",
       "    <tr>\n",
       "      <th>440</th>\n",
       "      <td>中 기록적 홍수로 수재민 4천500만명…재산피해 20조원 육박</td>\n",
       "    </tr>\n",
       "    <tr>\n",
       "      <th>441</th>\n",
       "      <td>강남권 토지거래허가제 한 달…주택 거래 93% 급감</td>\n",
       "    </tr>\n",
       "    <tr>\n",
       "      <th>442</th>\n",
       "      <td>세입자 없는 집 임대등록 때 임대료 상한 명시해야</td>\n",
       "    </tr>\n",
       "    <tr>\n",
       "      <th>443</th>\n",
       "      <td>7·10대책 이후 서울 아파트값 상승폭 둔화…전세난은 심화</td>\n",
       "    </tr>\n",
       "    <tr>\n",
       "      <th>444</th>\n",
       "      <td>경실련 \"판교 개발이익 8조원\"…\"공공사업자가 국민 상대로 땅장사\"</td>\n",
       "    </tr>\n",
       "  </tbody>\n",
       "</table>\n",
       "<p>428 rows × 1 columns</p>\n",
       "</div>"
      ],
      "text/plain": [
       "                                     title\n",
       "0             산후조리원·유치원 정보 한눈에…열린소비자포털로 통합\n",
       "1                     코스피·코스닥 모두 1% 가까이 상승\n",
       "2              카드업계, 수해 고객에 대금 청구유예 등 금융지원\n",
       "3             폭우로 가축 30만마리 폐사하고 농작물 6천㏊ 침수\n",
       "4             공공재건축 사례 발굴 착수…과열 개발예정지 기획조사\n",
       "..                                     ...\n",
       "440     中 기록적 홍수로 수재민 4천500만명…재산피해 20조원 육박\n",
       "441           강남권 토지거래허가제 한 달…주택 거래 93% 급감\n",
       "442            세입자 없는 집 임대등록 때 임대료 상한 명시해야\n",
       "443       7·10대책 이후 서울 아파트값 상승폭 둔화…전세난은 심화\n",
       "444  경실련 \"판교 개발이익 8조원\"…\"공공사업자가 국민 상대로 땅장사\"\n",
       "\n",
       "[428 rows x 1 columns]"
      ]
     },
     "execution_count": 164,
     "metadata": {},
     "output_type": "execute_result"
    }
   ],
   "source": [
    "indices"
   ]
  },
  {
   "cell_type": "code",
   "execution_count": 166,
   "metadata": {},
   "outputs": [],
   "source": [
    "# 유사한 제목를 구함\n",
    "def get_similar(title, indices, cosine_sim):\n",
    "\n",
    "    # 제목의 인덱스를 구함\n",
    "    try:\n",
    "        index = indices[indices['title']==title].index[0]\n",
    "    except:\n",
    "        return None\n",
    "    \n",
    "    # 해당 영화의 유사도를 배열로 변환\n",
    "    # 0 : 인덱스, 1 : 유사도\n",
    "    scores = list(enumerate(cosine_sim[index]))\n",
    "\n",
    "    # 유사도(x[1] 항목)를 기준으로 높은 순으로 정렬\n",
    "    scores = sorted(scores, key=lambda x: x[1], reverse=True)\n",
    "\n",
    "    # 가장 유사도가 높은 자신을 제외하고 5개를 추출\n",
    "    scores = scores[1:6]\n",
    "    #print(scores)\n",
    "    # 인덱스를 구함\n",
    "    index = [x[0] for x in scores]\n",
    "    #print(index)\n",
    "    #print(type(index))\n",
    "    # 각 인덱스의 영화 제목을 구함\n",
    "    print(indices.loc[index])"
   ]
  },
  {
   "cell_type": "markdown",
   "metadata": {},
   "source": [
    "# 분석\n",
    "\n",
    "### Bow를 사용하여 관련 단어와 가장 유사한 제목 5개 보여주기\n",
    "\n",
    "### 언론사 제목을 크롤링하였습니다.\n",
    "### 좋다, 실망, 대박 과 같은 단어는 말뭉치에 없어 분석에 실패하였습니다.\n",
    "### 감정분석에 사용될 단어 상승, 최고, 하락, 돌파, 유해를 분석하였습니다."
   ]
  },
  {
   "cell_type": "code",
   "execution_count": 257,
   "metadata": {},
   "outputs": [],
   "source": [
    "def comParedTo2(sbsString):\n",
    "    pos=[]\n",
    "    strings=[]\n",
    "    index={}\n",
    "    for post in galexy_posts:\n",
    "        cal = cos_sim(convert_cv(sbsString,cv)[0],convert_cv(post,cv)[0])\n",
    "        if cal not in pos:\n",
    "            pos.append(cal)\n",
    "            strings.append(post)\n",
    "            index[pos[len(strings)-1]]=len(strings)-1\n",
    "        \n",
    "    pos.sort(reverse=True)\n",
    "    for i in range(0,5):\n",
    "        if(len(strings))>i:\n",
    "            print(i+1,\"번제목:\",strings[index[pos[i]]],\"         확률: \",pos[i])\n"
   ]
  },
  {
   "cell_type": "code",
   "execution_count": 256,
   "metadata": {},
   "outputs": [
    {
     "name": "stdout",
     "output_type": "stream",
     "text": [
      "1 번제목: 코스피·코스닥 모두 1% 가까이 상승          확률:  0.4082482904638631\n",
      "2 번제목: 개인·외국인 매수세…코스피·코스닥 상승 흐름, 셀트리온↓          확률:  0.35355339059327373\n",
      "3 번제목: 서울 아파트 전셋값 7개월만에 최대 상승          확률:  0.3333333333333333\n",
      "4 번제목: 코스피, 개인 매수에 소폭 상승…코스닥은 급등          확률:  0.31622776601683794\n",
      "5 번제목: 경기 회복 기대감에 코스피 오름세…양 시장 상승 마감          확률:  0.30151134457776363\n",
      "====================================================================================================\n",
      "1 번제목: '논문 조작·성범죄' 저질러도…'대한민국 최고 과학자?'          확률:  0.3779644730092272\n",
      "2 번제목: 올해 상반기 담배 17억갑 팔려…2016년 이후 최고          확률:  0.3333333333333333\n",
      "3 번제목: 모바일 게임 상반기 매출 2조 8천억원 돌파…역대 최고 기록          확률:  0.31622776601683794\n",
      "4 번제목: 국제금값, 이틀만에 다시 최고가 경신…7월 10.3%↑          확률:  0.30151134457776363\n",
      "5 번제목: 금 1g당 7만 6천원대…장중 최고가 경신          확률:  0.2886751345948129\n",
      "====================================================================================================\n",
      "1 번제목: 코스피, 하락세 전환…아모레퍼시픽 3% 넘게 하락          확률:  0.6324555320336759\n",
      "2 번제목: 국내 증시 하락세 출발…기관 팔자세          확률:  0.35355339059327373\n",
      "3 번제목: 이해찬 2분기 성장률 하락에 \"그나마 선방\"          확률:  0.3333333333333333\n",
      "4 번제목: 휘발윳값 두 달 만에 하락전환…리터당 1361원          확률:  0.31622776601683794\n",
      "5 번제목: 코스피, 선물 시장서 큰 매도 규모 보이며 소폭 하락          확률:  0.2886751345948129\n",
      "====================================================================================================\n",
      "1 번제목: 국제금값, 사상 첫 온스당 2천달러 돌파          확률:  0.35355339059327373\n",
      "2 번제목: 국제 금값, 사상 첫 온스당 2천 달러 돌파          확률:  0.3333333333333333\n",
      "3 번제목: 모바일 게임 상반기 매출 2조 8천억원 돌파…역대 최고 기록          확률:  0.31622776601683794\n",
      "4 번제목: 홍남기 \"전세 감소·전셋값 상승, 공급 확대로 돌파\"          확률:  0.30151134457776363\n",
      "5 번제목: 작년 집값 시총 5천조원 돌파…GDP 대비 집값 사상 최고          확률:  0.2773500981126146\n",
      "====================================================================================================\n",
      "1 번제목: \"휴가 가려 샀더니\"…캠핑 용품, 유해물질 검출          확률:  0.3333333333333333\n",
      "2 번제목: 캠핑 의자·피크닉 매트서 기준 넘는 유해물질 검출          확률:  0.30151134457776363\n",
      "3 번제목: 산후조리원·유치원 정보 한눈에…열린소비자포털로 통합          확률:  0.0\n"
     ]
    }
   ],
   "source": [
    "#BoW를 사용해서 관련 단어와 가장 유사한 제목 5개 보여주기\n",
    "comParedTo2('상승')\n",
    "print('====================================================================================================')\n",
    "comParedTo2('최고')\n",
    "print('====================================================================================================')\n",
    "comParedTo2('하락')\n",
    "print('====================================================================================================')\n",
    "comParedTo2('돌파')\n",
    "print('====================================================================================================')\n",
    "comParedTo2('유해')"
   ]
  },
  {
   "cell_type": "markdown",
   "metadata": {},
   "source": [
    "# Tf-idf\n",
    "\n",
    "### 위의 bow를 사용해서 찾은 문장과 가장 유사한 문장 5개 보여주기"
   ]
  },
  {
   "cell_type": "code",
   "execution_count": 192,
   "metadata": {
    "scrolled": true
   },
   "outputs": [
    {
     "name": "stdout",
     "output_type": "stream",
     "text": [
      "                               title\n",
      "379      美·中 갈등 고조에 코스피·코스닥 모두 하락 마감\n",
      "227  개인·외국인 매수세…코스피·코스닥 상승 흐름, 셀트리온↓\n",
      "378        금값 사흘 연속 최고가 행진…2% 가까이 상승\n",
      "7             코스피·코스닥 강보합권 거래…개인 사자세\n",
      "41        코스피, 1% 넘는 상승세…제일약품 상한가 기록\n"
     ]
    }
   ],
   "source": [
    "#Tf-idf 로 가장 유사한 문장 추출\n",
    "get_similar(\"코스피·코스닥 모두 1% 가까이 상승\", indices, cosine_sim)"
   ]
  },
  {
   "cell_type": "code",
   "execution_count": 193,
   "metadata": {
    "scrolled": true
   },
   "outputs": [
    {
     "name": "stdout",
     "output_type": "stream",
     "text": [
      "                                 title\n",
      "131      올해 상반기 담배 17억갑 팔려…2016년 이후 최고\n",
      "89   모바일 게임 상반기 매출 2조 8천억원 돌파…역대 최고 기록\n",
      "362   작년 집값 시총 5천조원 돌파…GDP 대비 집값 사상 최고\n",
      "0         산후조리원·유치원 정보 한눈에…열린소비자포털로 통합\n",
      "1                 코스피·코스닥 모두 1% 가까이 상승\n"
     ]
    }
   ],
   "source": [
    "get_similar(\"'논문 조작·성범죄' 저질러도…'대한민국 최고 과학자?'\", indices, cosine_sim)#정확한 제목을 입력해야 한다."
   ]
  },
  {
   "cell_type": "code",
   "execution_count": 195,
   "metadata": {},
   "outputs": [
    {
     "name": "stdout",
     "output_type": "stream",
     "text": [
      "                                title\n",
      "14           국제 금값, 사상 첫 온스당 2천 달러 돌파\n",
      "132    은행 예금금리 사상 첫 0%대…가계대출금리도 사상 최저\n",
      "356         작년 주택 시가총액 사상 처음 5천조 원 돌파\n",
      "362  작년 집값 시총 5천조원 돌파…GDP 대비 집값 사상 최고\n",
      "118    국제금값, 이틀만에 다시 최고가 경신…7월 10.3%↑\n"
     ]
    }
   ],
   "source": [
    "get_similar(\"국제금값, 사상 첫 온스당 2천달러 돌파\", indices, cosine_sim)"
   ]
  },
  {
   "cell_type": "code",
   "execution_count": 198,
   "metadata": {},
   "outputs": [
    {
     "name": "stdout",
     "output_type": "stream",
     "text": [
      "                                                title\n",
      "34                        캠핑 의자·피크닉 매트서 기준 넘는 유해물질 검출\n",
      "68  [정참시] 윤희숙 이어 윤준병 \"나도 월세\"에 시끌 / 또, 취소… 휴가 가기 어려...\n",
      "0                        산후조리원·유치원 정보 한눈에…열린소비자포털로 통합\n",
      "1                                코스피·코스닥 모두 1% 가까이 상승\n",
      "2                         카드업계, 수해 고객에 대금 청구유예 등 금융지원\n"
     ]
    }
   ],
   "source": [
    "get_similar(\"\\\"휴가 가려 샀더니\\\"…캠핑 용품, 유해물질 검출\", indices, cosine_sim)"
   ]
  },
  {
   "cell_type": "code",
   "execution_count": 178,
   "metadata": {
    "scrolled": true
   },
   "outputs": [],
   "source": [
    "temp_list=[]\n",
    "for sen in temp:\n",
    "    for se in sen:\n",
    "        temp_list.append(tokenizer.nouns(se))"
   ]
  },
  {
   "cell_type": "code",
   "execution_count": 180,
   "metadata": {},
   "outputs": [],
   "source": [
    "import gensim.models\n",
    "\n",
    "model = gensim.models.Word2Vec(sentences=temp_list,size=300,window=2,min_count=1)"
   ]
  },
  {
   "cell_type": "code",
   "execution_count": 181,
   "metadata": {},
   "outputs": [],
   "source": [
    "word_vector=model.wv"
   ]
  },
  {
   "cell_type": "markdown",
   "metadata": {},
   "source": [
    "# Word2vec\n",
    "\n",
    "### 주식, 상승, 하락 단어와 가장 유사한 단어 추출하기\n"
   ]
  },
  {
   "cell_type": "code",
   "execution_count": 184,
   "metadata": {},
   "outputs": [
    {
     "name": "stdout",
     "output_type": "stream",
     "text": [
      "[('조사', 0.16989000141620636), ('금리인하', 0.16782328486442566), ('분기', 0.1427488625049591), ('보합', 0.141959547996521), ('률', 0.13737763464450836)]\n"
     ]
    }
   ],
   "source": [
    "print(model.wv.most_similar(positive=['주식'], topn=5))"
   ]
  },
  {
   "cell_type": "code",
   "execution_count": 185,
   "metadata": {},
   "outputs": [
    {
     "name": "stdout",
     "output_type": "stream",
     "text": [
      "[('스마트리빙', 0.19459408521652222), ('점수', 0.1862713098526001), ('초', 0.1806146204471588), ('전체', 0.1749720573425293), ('해', 0.16887956857681274)]\n"
     ]
    }
   ],
   "source": [
    "print(model.wv.most_similar(positive=['상승'], topn=5))"
   ]
  },
  {
   "cell_type": "code",
   "execution_count": 186,
   "metadata": {},
   "outputs": [
    {
     "name": "stdout",
     "output_type": "stream",
     "text": [
      "[('여름', 0.2275443971157074), ('제철', 0.197148397564888), ('휴대폰', 0.1825919896364212), ('혁신', 0.17703977227210999), ('로드', 0.1738085299730301)]\n"
     ]
    }
   ],
   "source": [
    "print(model.wv.most_similar(positive=['하락'], topn=5))"
   ]
  },
  {
   "cell_type": "code",
   "execution_count": null,
   "metadata": {},
   "outputs": [],
   "source": []
  }
 ],
 "metadata": {
  "kernelspec": {
   "display_name": "Python 3",
   "language": "python",
   "name": "python3"
  },
  "language_info": {
   "codemirror_mode": {
    "name": "ipython",
    "version": 3
   },
   "file_extension": ".py",
   "mimetype": "text/x-python",
   "name": "python",
   "nbconvert_exporter": "python",
   "pygments_lexer": "ipython3",
   "version": "3.7.6"
  },
  "toc": {
   "base_numbering": 1,
   "nav_menu": {},
   "number_sections": false,
   "sideBar": true,
   "skip_h1_title": false,
   "title_cell": "Table of Contents",
   "title_sidebar": "Contents",
   "toc_cell": false,
   "toc_position": {},
   "toc_section_display": true,
   "toc_window_display": false
  }
 },
 "nbformat": 4,
 "nbformat_minor": 4
}
