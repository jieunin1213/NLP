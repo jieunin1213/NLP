{
 "cells": [
  {
   "cell_type": "markdown",
   "metadata": {},
   "source": [
    "# 위키피디아 문서를 이용하여 word2vec 사용해보기\n",
    "\n",
    "# 모델 다운로드\n",
    "https://drive.google.com/drive/folders/1xzQjUEBjqsxMCuAh6kTwnogADSifPz6z?usp=sharing"
   ]
  },
  {
   "cell_type": "markdown",
   "metadata": {},
   "source": [
    "## 모델 만들기 전처리"
   ]
  },
  {
   "cell_type": "code",
   "execution_count": 1,
   "metadata": {},
   "outputs": [],
   "source": [
    "# google colab 사용시,\n",
    "# !apt-get update\n",
    "# !apt-get install g++ openjdk-8-jdk\n",
    "# !pip3 install konlpy\n",
    "\n",
    "import warnings\n",
    "\n",
    "warnings.filterwarnings(action='ignore', category=UserWarning)\n",
    "warnings.filterwarnings(action='ignore', category=FutureWarning)\n",
    "\n",
    "import codecs\n",
    "from bs4 import BeautifulSoup\n",
    "from konlpy.tag import Okt\n",
    "from gensim.models import word2vec"
   ]
  },
  {
   "cell_type": "markdown",
   "metadata": {},
   "source": [
    "## 파일 열기"
   ]
  },
  {
   "cell_type": "code",
   "execution_count": 4,
   "metadata": {},
   "outputs": [],
   "source": [
    "# readFp = codecs.open(\"./wikimodel/wiki.txt\", \"r\", encoding=\"utf-8\")\n",
    "# wakati_file = \"./wikimodel/wiki.wakati\"\n",
    "# writeFp = open(wakati_file, \"w\", encoding=\"utf-8\")"
   ]
  },
  {
   "cell_type": "markdown",
   "metadata": {},
   "source": [
    "## 형태소 분석"
   ]
  },
  {
   "cell_type": "code",
   "execution_count": 5,
   "metadata": {},
   "outputs": [],
   "source": [
    "# twitter = Okt()\n",
    "# i = 0\n",
    "\n",
    "# # 텍스트를 한 줄씩 처리하기\n",
    "# while True:\n",
    "#     line = readFp.readline()\n",
    "#     if not line:\n",
    "#         break\n",
    "\n",
    "#     if i % 20000 == 0:\n",
    "#         print(\"current -\" + str(i))\n",
    "#     i += 1\n",
    "\n",
    "#     # 형태소 분석\n",
    "#     malist = twitter.pos(line, norm=True, stem=True)\n",
    "#     # 필요한 어구만 대상으로 하기\n",
    "\n",
    "#     r = []\n",
    "#     for word in malist:\n",
    "#         # 어미/조사/구두점 등은 대상에서 제외\n",
    "#         if not (word[1] in [\"Josa\", \"Eomi\", \"Punctuation\"]):\n",
    "#             writeFp.write(word[0] + \" \")\n",
    "# writeFp.close()"
   ]
  },
  {
   "cell_type": "markdown",
   "metadata": {},
   "source": [
    "## wiki.wakati를 가지고 모델을 생성하기"
   ]
  },
  {
   "cell_type": "code",
   "execution_count": 6,
   "metadata": {},
   "outputs": [],
   "source": [
    "# import warnings\n",
    "# warnings.filterwarnings(action='ignore', category=UserWarning)\n",
    "# warnings.filterwarnings(action='ignore', category=FutureWarning)\n",
    "\n",
    "# from gensim.models import word2vec\n",
    "# data = word2vec.Text8Corpus('./wikimodel/wiki.wakati')\n",
    "# model = word2vec.Word2Vec(data, size=100)\n",
    "# model.save(\"wiki.model\")\n",
    "# print(\"ok\")"
   ]
  },
  {
   "cell_type": "markdown",
   "metadata": {},
   "source": [
    "## 모델을 이용하기"
   ]
  },
  {
   "cell_type": "code",
   "execution_count": 7,
   "metadata": {},
   "outputs": [],
   "source": [
    "import warnings\n",
    "warnings.filterwarnings(action='ignore', category=UserWarning)\n",
    "warnings.filterwarnings(action='ignore', category=FutureWarning)\n",
    "from gensim.models import word2vec\n",
    "from pprint import pprint\n",
    "\n",
    "# 모델을 로드하기\n",
    "model = word2vec.Word2Vec.load(\"wiki.model\")\n",
    "# 모델을 이용하여 원하는 자료 얻기"
   ]
  },
  {
   "cell_type": "code",
   "execution_count": 8,
   "metadata": {},
   "outputs": [
    {
     "name": "stdout",
     "output_type": "stream",
     "text": [
      "[('Perl', 0.9213456511497498),\n",
      " ('Java', 0.906911313533783),\n",
      " ('Tcl', 0.905478835105896),\n",
      " ('MATLAB', 0.8736516237258911),\n",
      " ('Lisp', 0.8692713975906372),\n",
      " ('자바스크립트', 0.8669256567955017),\n",
      " ('하스켈', 0.8633924722671509),\n",
      " ('JSP', 0.8586523532867432),\n",
      " ('IDL', 0.8562408685684204),\n",
      " ('CLI', 0.8507612943649292)]\n"
     ]
    }
   ],
   "source": [
    "pprint(model.wv.most_similar(positive=[\"Python\", \"파이썬\"]))"
   ]
  },
  {
   "cell_type": "code",
   "execution_count": 9,
   "metadata": {},
   "outputs": [
    {
     "name": "stdout",
     "output_type": "stream",
     "text": [
      "('엄마', 0.8517739772796631)\n"
     ]
    }
   ],
   "source": [
    "pprint(model.wv.most_similar(positive=[\"아빠\", \"여성\"], negative=[\"남성\"])[0])  # 아빠+여성-남성 : 엄마"
   ]
  },
  {
   "cell_type": "code",
   "execution_count": 10,
   "metadata": {},
   "outputs": [
    {
     "name": "stdout",
     "output_type": "stream",
     "text": [
      "[('왕녀', 0.7314920425415039),\n",
      " ('여왕', 0.6171671748161316),\n",
      " ('이아손', 0.5895238518714905),\n",
      " ('아들', 0.5856923460960388),\n",
      " ('대왕', 0.5848723649978638),\n",
      " ('왕비', 0.5842419862747192),\n",
      " ('삼촌', 0.5803187489509583),\n",
      " ('왕세자', 0.5697871446609497),\n",
      " ('시녀', 0.5668401718139648),\n",
      " ('공주', 0.5660519599914551)]\n"
     ]
    }
   ],
   "source": [
    "pprint(model.wv.most_similar(positive=[\"왕자\", \"여성\"], negative=['남성']))"
   ]
  },
  {
   "cell_type": "code",
   "execution_count": 11,
   "metadata": {},
   "outputs": [
    {
     "name": "stdout",
     "output_type": "stream",
     "text": [
      "[('도쿄', 0.6773518323898315),\n",
      " ('교토', 0.6354459524154663),\n",
      " ('오사카', 0.6219913363456726),\n",
      " ('서울특별시', 0.5624315142631531),\n",
      " ('후쿠오카', 0.5568024516105652),\n",
      " ('도쿄도', 0.5443399548530579),\n",
      " ('나고야', 0.5367218255996704),\n",
      " ('오사카부', 0.5236438512802124),\n",
      " ('홋카이도', 0.5192624926567078),\n",
      " ('요코하마', 0.5188096761703491)]\n"
     ]
    }
   ],
   "source": [
    "pprint(model.wv.most_similar(positive=[\"서울\", \"일본\"], negative=['한국']))"
   ]
  },
  {
   "cell_type": "code",
   "execution_count": 12,
   "metadata": {},
   "outputs": [
    {
     "name": "stdout",
     "output_type": "stream",
     "text": [
      "[('베이징', 0.6821848154067993),\n",
      " ('북경', 0.6481270790100098),\n",
      " ('절강성', 0.6373119354248047),\n",
      " ('상하이', 0.6292018890380859),\n",
      " ('봉천', 0.620449960231781),\n",
      " ('산동성', 0.613395094871521),\n",
      " ('北京', 0.6115888357162476),\n",
      " ('광동성', 0.6005773544311523),\n",
      " ('충칭', 0.5980311632156372),\n",
      " ('산동', 0.5958592891693115)]\n"
     ]
    }
   ],
   "source": [
    "pprint(model.wv.most_similar(positive=[\"서울\", \"중국\"], negative=[\"한국\"]))"
   ]
  },
  {
   "cell_type": "code",
   "execution_count": 13,
   "metadata": {},
   "outputs": [
    {
     "name": "stdout",
     "output_type": "stream",
     "text": [
      "[('문재인', 0.5172046422958374),\n",
      " ('안철수', 0.513458788394928),\n",
      " ('박근혜', 0.5095136165618896),\n",
      " ('박원순', 0.4939371943473816),\n",
      " ('총학', 0.46552255749702454),\n",
      " ('이명박', 0.4648441672325134),\n",
      " ('서울시장', 0.4597114622592926),\n",
      " ('본부장', 0.45811954140663147),\n",
      " ('전경련', 0.45267122983932495),\n",
      " ('정동영', 0.45185935497283936)]\n"
     ]
    }
   ],
   "source": [
    "pprint(model.wv.most_similar(positive=[\"한국\", \"트럼프\"], negative=[\"미국\"]))"
   ]
  },
  {
   "cell_type": "code",
   "execution_count": 14,
   "metadata": {},
   "outputs": [
    {
     "name": "stdout",
     "output_type": "stream",
     "text": [
      "[('강남', 0.6851245164871216),\n",
      " ('인사동', 0.640274167060852),\n",
      " ('서울특별시', 0.6207906603813171),\n",
      " ('연희동', 0.6170412302017212),\n",
      " ('압구정동', 0.6069209575653076),\n",
      " ('서울시', 0.6068366765975952),\n",
      " ('부산', 0.6065454483032227),\n",
      " ('춘천', 0.602898895740509),\n",
      " ('명동', 0.5961471796035767),\n",
      " ('노량진', 0.5898141860961914)]\n"
     ]
    }
   ],
   "source": [
    "pprint(model.wv.most_similar(positive=[\"서울\", \"맛집\"]))"
   ]
  },
  {
   "cell_type": "markdown",
   "metadata": {},
   "source": [
    "# 실습\n",
    "\n",
    "gensim example\n",
    "https://radimrehurek.com/gensim/auto_examples/index.html"
   ]
  },
  {
   "cell_type": "code",
   "execution_count": null,
   "metadata": {},
   "outputs": [],
   "source": []
  }
 ],
 "metadata": {
  "kernelspec": {
   "display_name": "Python 3",
   "language": "python",
   "name": "python3"
  },
  "language_info": {
   "codemirror_mode": {
    "name": "ipython",
    "version": 3
   },
   "file_extension": ".py",
   "mimetype": "text/x-python",
   "name": "python",
   "nbconvert_exporter": "python",
   "pygments_lexer": "ipython3",
   "version": "3.7.6"
  },
  "toc": {
   "base_numbering": 1,
   "nav_menu": {},
   "number_sections": false,
   "sideBar": true,
   "skip_h1_title": false,
   "title_cell": "Table of Contents",
   "title_sidebar": "Contents",
   "toc_cell": false,
   "toc_position": {},
   "toc_section_display": true,
   "toc_window_display": false
  }
 },
 "nbformat": 4,
 "nbformat_minor": 4
}
