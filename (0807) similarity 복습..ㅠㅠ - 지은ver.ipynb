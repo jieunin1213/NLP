{
 "cells": [
  {
   "cell_type": "code",
   "execution_count": 20,
   "metadata": {},
   "outputs": [
    {
     "name": "stdout",
     "output_type": "stream",
     "text": [
      "tokens: ['금리', '상승', '하락', '부동산', '주가', '예금', '야기', '1']\n",
      "word_to_index {'금리': 0, '상승': 1, '하락': 2, '부동산': 3, '주가': 4, '예금': 5, '야기': 6, '1': 7}\n",
      "convert_bow(text1, word_to_index): [1, 1, 1, 1, 0, 0, 1, 0]\n",
      "convert_bow(text2, word_to_index): [1, 1, 1, 0, 1, 0, 1, 0]\n",
      "convert_bow(text3, word_to_index): [1, 1, 0, 0, 0, 1, 0, 0]\n",
      "['금리 상승 하락 부동산 주가 예금 야기 1']\n",
      "{'금리': 1, '상승': 3, '하락': 7, '부동산': 2, '주가': 6, '예금': 5, '야기': 4, '1': 0}\n",
      "None\n",
      "None\n",
      "None\n"
     ]
    },
    {
     "ename": "TypeError",
     "evalue": "'NoneType' object is not subscriptable",
     "output_type": "error",
     "traceback": [
      "\u001b[1;31m---------------------------------------------------------------------------\u001b[0m",
      "\u001b[1;31mTypeError\u001b[0m                                 Traceback (most recent call last)",
      "\u001b[1;32m<ipython-input-20-430ba235919d>\u001b[0m in \u001b[0;36m<module>\u001b[1;34m\u001b[0m\n\u001b[0;32m     72\u001b[0m     \u001b[1;32mreturn\u001b[0m \u001b[0mdot\u001b[0m\u001b[1;33m(\u001b[0m\u001b[0mA\u001b[0m\u001b[1;33m,\u001b[0m \u001b[0mB\u001b[0m\u001b[1;33m)\u001b[0m\u001b[1;33m/\u001b[0m\u001b[1;33m(\u001b[0m\u001b[0mnorm\u001b[0m\u001b[1;33m(\u001b[0m\u001b[0mA\u001b[0m\u001b[1;33m)\u001b[0m\u001b[1;33m*\u001b[0m\u001b[0mnorm\u001b[0m\u001b[1;33m(\u001b[0m\u001b[0mB\u001b[0m\u001b[1;33m)\u001b[0m\u001b[1;33m)\u001b[0m\u001b[1;33m\u001b[0m\u001b[1;33m\u001b[0m\u001b[0m\n\u001b[0;32m     73\u001b[0m \u001b[1;33m\u001b[0m\u001b[0m\n\u001b[1;32m---> 74\u001b[1;33m \u001b[0mprint\u001b[0m\u001b[1;33m(\u001b[0m\u001b[0mcos_sim\u001b[0m\u001b[1;33m(\u001b[0m\u001b[0mconvert_cv\u001b[0m\u001b[1;33m(\u001b[0m\u001b[0mtext1\u001b[0m\u001b[1;33m,\u001b[0m \u001b[0mcv\u001b[0m\u001b[1;33m)\u001b[0m\u001b[1;33m[\u001b[0m\u001b[1;36m0\u001b[0m\u001b[1;33m]\u001b[0m\u001b[1;33m,\u001b[0m \u001b[0mconvert_cv\u001b[0m\u001b[1;33m(\u001b[0m\u001b[0mtext3\u001b[0m\u001b[1;33m,\u001b[0m \u001b[0mcv\u001b[0m\u001b[1;33m)\u001b[0m\u001b[1;33m[\u001b[0m\u001b[1;36m0\u001b[0m\u001b[1;33m]\u001b[0m\u001b[1;33m)\u001b[0m\u001b[1;33m)\u001b[0m\u001b[1;33m\u001b[0m\u001b[1;33m\u001b[0m\u001b[0m\n\u001b[0m",
      "\u001b[1;31mTypeError\u001b[0m: 'NoneType' object is not subscriptable"
     ]
    }
   ],
   "source": [
    "from konlpy.tag import Okt\n",
    "tokenizer = Okt()\n",
    "\n",
    "text1 = \"금리 하락은 부동산 상승을 야기한다\"\n",
    "text2 = \"금리 하락은 주가 상승을 야기한다\"\n",
    "text3 = \"금리 상승은 예금을 증가시킨다\"\n",
    "#1. 문장의 단어를 토큰화 한다.\n",
    "\n",
    "bow = \" 금리 상승 하락 부동산 주가 예금 야기 1\"\n",
    "\n",
    "tokens = tokenizer.morphs(bow)\n",
    "print('tokens:',tokens)\n",
    "##########################################################\n",
    "# 2. word_to_index 하기 => 토큰화 된 단어에, index를 붙여준다.\n",
    "\n",
    "word_to_index = {}\n",
    "\n",
    "for token in tokens:\n",
    "    if token not in word_to_index.keys():\n",
    "        word_to_index[token]=len(word_to_index)\n",
    "        \n",
    "print('word_to_index',word_to_index)\n",
    "############################################################\n",
    "# 3.\n",
    "\n",
    "def convert_bow(sentence, word_to_index):\n",
    "    \n",
    "    vector =[0]*(len(word_to_index))\n",
    "    \n",
    "    tokenizer = Okt()\n",
    "    tokens = tokenizer.morphs(sentence)\n",
    "    \n",
    "    for token in tokens:\n",
    "        if token in word_to_index.keys():\n",
    "            vector[word_to_index[token]] +=1\n",
    "            \n",
    "    return vector\n",
    "print('convert_bow(text1, word_to_index):',convert_bow(text1, word_to_index))\n",
    "print('convert_bow(text2, word_to_index):',convert_bow(text2, word_to_index))\n",
    "print('convert_bow(text3, word_to_index):',convert_bow(text3, word_to_index))\n",
    "\n",
    "###########################################3333\n",
    "sentence = \" \".join(tokens)\n",
    "sentences = []\n",
    "sentences.append(sentence)\n",
    "\n",
    "print(sentences)\n",
    "\n",
    "from sklearn.feature_extraction.text import CountVectorizer\n",
    "cv = CountVectorizer(token_pattern =  r\"(?u)\\b\\w+\\b\")\n",
    "cv.fit(sentences)\n",
    "print(cv.vocabulary_)\n",
    "\n",
    "def convert_cv(sentence, cv):\n",
    "    tokenizer = Okt()\n",
    "    tokens = tokenizer.morphs(sentence)\n",
    "    \n",
    "    sentence = \"\".join(tokens)\n",
    "    # CountVectorizer의 입력에 맞게 배열로 변경\n",
    "    sentences = []\n",
    "    sentences.append(sentence)\n",
    "\n",
    "print(convert_cv(text1, cv)) # Bow에 매칭이 되겠금, array로 나온다.\n",
    "print(convert_cv(text2, cv))\n",
    "print(convert_cv(text3, cv))\n",
    "#############################333   \n",
    "from numpy import dot\n",
    "from numpy.linalg import norm\n",
    "import numpy as np\n",
    "\n",
    "def cos_sim(A, B):\n",
    "    return dot(A, B)/(norm(A)*norm(B))\n",
    "\n",
    "print(cos_sim(convert_cv(text1, cv)[0], convert_cv(text3, cv)[0]))"
   ]
  },
  {
   "cell_type": "code",
   "execution_count": 21,
   "metadata": {},
   "outputs": [
    {
     "name": "stdout",
     "output_type": "stream",
     "text": [
      "금리 하락은 부동산 상승을 야기한다\n",
      "금리 하락은 주가 상승을 야기한다\n",
      "금리 상승은 예금을 증가시킨다\n"
     ]
    }
   ],
   "source": [
    "print(text1)\n",
    "print(text2)\n",
    "print(text3)"
   ]
  },
  {
   "cell_type": "code",
   "execution_count": null,
   "metadata": {},
   "outputs": [],
   "source": []
  }
 ],
 "metadata": {
  "kernelspec": {
   "display_name": "Python 3",
   "language": "python",
   "name": "python3"
  },
  "language_info": {
   "codemirror_mode": {
    "name": "ipython",
    "version": 3
   },
   "file_extension": ".py",
   "mimetype": "text/x-python",
   "name": "python",
   "nbconvert_exporter": "python",
   "pygments_lexer": "ipython3",
   "version": "3.7.6"
  },
  "toc": {
   "base_numbering": 1,
   "nav_menu": {},
   "number_sections": false,
   "sideBar": true,
   "skip_h1_title": false,
   "title_cell": "Table of Contents",
   "title_sidebar": "Contents",
   "toc_cell": false,
   "toc_position": {},
   "toc_section_display": true,
   "toc_window_display": false
  }
 },
 "nbformat": 4,
 "nbformat_minor": 4
}
