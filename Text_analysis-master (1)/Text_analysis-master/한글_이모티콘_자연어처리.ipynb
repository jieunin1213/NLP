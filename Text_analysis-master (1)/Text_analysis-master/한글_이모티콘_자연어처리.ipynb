{
 "cells": [
  {
   "cell_type": "markdown",
   "metadata": {},
   "source": [
    "## 이모티콘 제거"
   ]
  },
  {
   "cell_type": "code",
   "execution_count": 111,
   "metadata": {},
   "outputs": [
    {
     "name": "stdout",
     "output_type": "stream",
     "text": [
      "This dog 😂\n",
      "This dog \n"
     ]
    }
   ],
   "source": [
    "import re \n",
    "\n",
    "text = u'This dog \\U0001f602' \n",
    "print(text) # with emoji \n",
    "\n",
    "emoji_pattern = re.compile(\"[\" \n",
    "    u\"\\U0001F600-\\U0001F64F\" # emoticons \n",
    "    u\"\\U0001F300-\\U0001F5FF\" # symbols & pictographs \n",
    "    u\"\\U0001F680-\\U0001F6FF\" # transport & map symbols \n",
    "    u\"\\U0001F1E0-\\U0001F1FF\" # flags (iOS) \n",
    "         \"]+\", flags=re.UNICODE) \n",
    "print(emoji_pattern.sub(r'', text)) # no emoji "
   ]
  },
  {
   "cell_type": "code",
   "execution_count": 123,
   "metadata": {
    "scrolled": true
   },
   "outputs": [
    {
     "name": "stdout",
     "output_type": "stream",
     "text": [
      "진심 겨울철 갈라지고 튼 살에 피지오겔만한게 없다👍✨\n",
      "진심 겨울철 갈라지고 튼 살에 피지오겔만한게 없다✨\n"
     ]
    }
   ],
   "source": [
    "import re \n",
    "\n",
    "text = u'진심 겨울철 갈라지고 튼 살에 피지오겔만한게 없다👍✨' \n",
    "print(text) # with emoji \n",
    "\n",
    "emoji_pattern = re.compile(\"[\" \n",
    "    u\"\\U0001F600-\\U0001F64F\" # emoticons \n",
    "    u\"\\U0001F300-\\U0001F5FF\" # symbols & pictographs \n",
    "    u\"\\U0001F680-\\U0001F6FF\" # transport & map symbols \n",
    "    u\"\\U0001F1E0-\\U0001F1FF\" # flags (iOS) \n",
    "    \n",
    "    u\"\\U0001F1F2-\\U0001F1F4\"  # Macau flag \n",
    "    u\"\\U0001F1E6-\\U0001F1FF\" # flags \n",
    "    u\"\\U0001F600-\\U0001F64F\"  # emoticons\n",
    "                           \n",
    "#     u\"\\U00002702-\\U000027B0\"\n",
    "#     u\"\\U000024C2-\\U0001F251\"\n",
    "#     u\"\\U0001f926-\\U0001f937\"\n",
    "    u\"\\u200d\"\n",
    "    u\"\\u2640-\\u2642\"                           \n",
    "         \"]+\", flags=re.UNICODE) \n",
    "print(emoji_pattern.sub(r'', text)) # no emoji "
   ]
  },
  {
   "cell_type": "code",
   "execution_count": 85,
   "metadata": {
    "scrolled": true
   },
   "outputs": [
    {
     "data": {
      "text/plain": [
       "b'\\xf0\\x9f\\x91\\x8d'"
      ]
     },
     "execution_count": 85,
     "metadata": {},
     "output_type": "execute_result"
    }
   ],
   "source": [
    "# 부호화(encoding)\n",
    "d = c.encode('utf-8') \n",
    "d"
   ]
  },
  {
   "cell_type": "code",
   "execution_count": 94,
   "metadata": {},
   "outputs": [
    {
     "data": {
      "text/plain": [
       "b'\\xf0\\x9f\\x91\\x8d'"
      ]
     },
     "execution_count": 94,
     "metadata": {},
     "output_type": "execute_result"
    }
   ],
   "source": [
    "'\\xf0\\x9f\\x91\\x8d'"
   ]
  },
  {
   "cell_type": "code",
   "execution_count": 99,
   "metadata": {},
   "outputs": [
    {
     "data": {
      "text/plain": [
       "'👍'"
      ]
     },
     "execution_count": 99,
     "metadata": {},
     "output_type": "execute_result"
    }
   ],
   "source": [
    "# 해독(decoding)\n",
    "d.decode('utf-8')"
   ]
  },
  {
   "cell_type": "code",
   "execution_count": 95,
   "metadata": {},
   "outputs": [
    {
     "data": {
      "text/plain": [
       "'✨'"
      ]
     },
     "execution_count": 95,
     "metadata": {},
     "output_type": "execute_result"
    }
   ],
   "source": [
    "# 이모티콘 제거 안되는 특수 케이스\n",
    "e = '✨'\n",
    "e"
   ]
  },
  {
   "cell_type": "code",
   "execution_count": 97,
   "metadata": {},
   "outputs": [
    {
     "data": {
      "text/plain": [
       "b'\\xe2\\x9c\\xa8'"
      ]
     },
     "execution_count": 97,
     "metadata": {},
     "output_type": "execute_result"
    }
   ],
   "source": [
    "f = e.encode('utf-8') \n",
    "f"
   ]
  },
  {
   "cell_type": "code",
   "execution_count": 89,
   "metadata": {},
   "outputs": [
    {
     "data": {
      "text/plain": [
       "'✨'"
      ]
     },
     "execution_count": 89,
     "metadata": {},
     "output_type": "execute_result"
    }
   ],
   "source": [
    "f.decode('utf-8')"
   ]
  },
  {
   "cell_type": "code",
   "execution_count": 131,
   "metadata": {},
   "outputs": [],
   "source": [
    "import emoji\n",
    "def give_emoji_free_text(text):\n",
    "    allchars = [str for str in text.decode('utf-8')]\n",
    "    emoji_list = [c for c in allchars if c in emoji.UNICODE_EMOJI]\n",
    "    clean_text = ' '.join([str for str in text.decode('utf-8').split() if not any(i in str for i in emoji_list)])\n",
    "    return clean_text"
   ]
  },
  {
   "cell_type": "code",
   "execution_count": 132,
   "metadata": {},
   "outputs": [],
   "source": [
    "s1 = \"Hi 🤔 How is your 🙈 and 😌. Have a nice weekend 💕👭👙\""
   ]
  },
  {
   "cell_type": "code",
   "execution_count": 133,
   "metadata": {},
   "outputs": [
    {
     "data": {
      "text/plain": [
       "'Hi 🤔 How is your 🙈 and 😌. Have a nice weekend 💕👭👙'"
      ]
     },
     "execution_count": 133,
     "metadata": {},
     "output_type": "execute_result"
    }
   ],
   "source": [
    "s1"
   ]
  },
  {
   "cell_type": "code",
   "execution_count": 136,
   "metadata": {},
   "outputs": [
    {
     "name": "stdout",
     "output_type": "stream",
     "text": [
      "Hi How is your and Have a nice weekend\n"
     ]
    }
   ],
   "source": [
    "print(give_emoji_free_text(s1.encode('utf-8')))"
   ]
  },
  {
   "cell_type": "code",
   "execution_count": 165,
   "metadata": {},
   "outputs": [],
   "source": [
    "s2= \"진심 겨울철 갈라지고 튼 살에 피지오겔만한게 없다👍✨\""
   ]
  },
  {
   "cell_type": "code",
   "execution_count": 172,
   "metadata": {},
   "outputs": [
    {
     "name": "stdout",
     "output_type": "stream",
     "text": [
      "얘는 촉촉하고 진정 효과도\n"
     ]
    }
   ],
   "source": [
    "print(give_emoji_free_text(\"얘는 촉촉하고 진정 효과도 짱⭐️👍🏻🏻\".encode('utf-8')))"
   ]
  },
  {
   "cell_type": "code",
   "execution_count": 164,
   "metadata": {},
   "outputs": [
    {
     "data": {
      "text/plain": [
       "'진심 겨울철 갈라지고 튼 살에 피지오겔만한게 없다👍✨'"
      ]
     },
     "execution_count": 164,
     "metadata": {},
     "output_type": "execute_result"
    }
   ],
   "source": [
    "s2= \"진심 겨울철 갈라지고 튼 살에 피지오겔만한게 없다👍✨\"\n",
    "s2"
   ]
  },
  {
   "cell_type": "code",
   "execution_count": 163,
   "metadata": {},
   "outputs": [
    {
     "data": {
      "text/plain": [
       "['']"
      ]
     },
     "execution_count": 163,
     "metadata": {},
     "output_type": "execute_result"
    }
   ],
   "source": [
    "import emoji \n",
    "import re \n",
    "\n",
    "a_list=[' me así,bla es,se ds '] \n",
    "\n",
    "## Create the function to extract the emojis \n",
    "def extract_emojis(str): \n",
    "    emojis_list = map(lambda x: ''.join(x.split()), emoji.UNICODE_EMOJI.keys()) \n",
    "    r = re.compile('|'.join(re.escape(p) for p in emojis_list)) \n",
    "    aux=[' '.join(r.findall(s)) for s in a_list] \n",
    "    return(aux) \n",
    "\n",
    "## Execute the function \n",
    "extract_emojis(s2) \n",
    "\n",
    "## the output "
   ]
  }
 ],
 "metadata": {
  "kernelspec": {
   "display_name": "Python 3",
   "language": "python",
   "name": "python3"
  },
  "language_info": {
   "codemirror_mode": {
    "name": "ipython",
    "version": 3
   },
   "file_extension": ".py",
   "mimetype": "text/x-python",
   "name": "python",
   "nbconvert_exporter": "python",
   "pygments_lexer": "ipython3",
   "version": "3.6.7"
  }
 },
 "nbformat": 4,
 "nbformat_minor": 2
}
