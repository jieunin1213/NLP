{
 "cells": [
  {
   "cell_type": "code",
   "execution_count": 1,
   "metadata": {},
   "outputs": [
    {
     "name": "stdout",
     "output_type": "stream",
     "text": [
      "{'사랑': 2}\n",
      "[('사랑', 2)]\n"
     ]
    }
   ],
   "source": [
    "'''\n",
    "말뭉치 파일 단어 빈도 분석\n",
    "- 자료형 구조에 대한 이해\n",
    "- list, tuple, dict 사용하기\n",
    "'''\n",
    "word_dic = {}\n",
    "malist = [('사랑', 'Noun') , ('이', '조사'), ('사랑', 'Noun')]\n",
    "for word in malist:\n",
    "    if word[1] == \"Noun\": #  명사 확인하기 --- (※3)\n",
    "        if not (word[0] in word_dic):\n",
    "            word_dic[word[0]] = 0\n",
    "        word_dic[word[0]] += 1 # 카운트하기\n",
    "\n",
    "\n",
    "print(word_dic)\n",
    "\n",
    "# 값의 수치가 가장 큰 것 부터 역순으로 정렬하여 보여 준다.\n",
    "keys = sorted(word_dic.items(), key=lambda x:x[1], reverse=True)\n",
    "print(keys)"
   ]
  },
  {
   "cell_type": "code",
   "execution_count": 2,
   "metadata": {},
   "outputs": [
    {
     "name": "stdout",
     "output_type": "stream",
     "text": [
      "[30, 20, 10]\n",
      "['c', 'b', 'a']\n",
      "['b', 'a', 'c']\n"
     ]
    }
   ],
   "source": [
    "'''\n",
    "dict를 여러가지 방법으로 정렬\n",
    "'''\n",
    "\n",
    "mydict = {'a':20, 'b':30, 'c':10}\n",
    "\n",
    "# 값(value)이 가장 큰 거부터 역순으로 정렬\n",
    "byValues = sorted(mydict.values(), reverse=True)\n",
    "print( byValues )\n",
    "\n",
    "# 키를 기준으로 역순 정렬\n",
    "byKeys = sorted(mydict.keys(), reverse=True)\n",
    "print( byKeys )\n",
    "\n",
    "# 값(value)을 역순으로 정렬하되 키를 보여 주기\n",
    "keysortByValue = sorted(mydict, key=mydict.get, reverse=True)\n",
    "print( keysortByValue )"
   ]
  },
  {
   "cell_type": "code",
   "execution_count": 3,
   "metadata": {},
   "outputs": [
    {
     "data": {
      "text/plain": [
       "{'스마트폰': 3153,\n",
       " '사용': 301,\n",
       " '사진': 299,\n",
       " '갤럭시': 231,\n",
       " '카메라': 205,\n",
       " '삼각대': 184,\n",
       " '삼성': 178,\n",
       " '스마트': 154,\n",
       " '강의': 132,\n",
       " '촬영': 116,\n",
       " '글': 116,\n",
       " '활용': 110,\n",
       " '제품': 103,\n",
       " '출시': 103,\n",
       " '샤오미': 103,\n",
       " '방법': 102,\n",
       " '앱': 102,\n",
       " '거치대': 102,\n",
       " '미': 99,\n",
       " '형태': 99}"
      ]
     },
     "execution_count": 3,
     "metadata": {},
     "output_type": "execute_result"
    }
   ],
   "source": [
    "import pandas as pd\n",
    "df = pd.read_csv('./data/smartphone.csv', encoding='utf-8')\n",
    "galexy_posts = df.get('Title') + \" \" + df.get('Description')\n",
    "\n",
    "from konlpy.tag import Mecab\n",
    "tagger = Mecab(dicpath=\"C:\\\\mecab\\\\mecab-ko-dic\")\n",
    "\n",
    "galexy_stop_words = \"은 이 것 등 더 를 좀 즉 인 옹 때 만 원 이때 개 일 기 시 럭 갤 성 삼 스 폰 트 드 기 이 리 폴 사 전 마 자 플 블 가 중 북 수 팩 년 월 저 탭\"\n",
    "galexy_stop_words = galexy_stop_words.split(' ')\n",
    "galexy_stop_words[0:10]\n",
    "\n",
    "# 불용어 제거\n",
    "galexy_nouns = []\n",
    "for post in galexy_posts:\n",
    "    for noun in tagger.nouns(post):\n",
    "        if noun not in galexy_stop_words:\n",
    "            galexy_nouns.append(noun)\n",
    "\n",
    "galexy_nouns[0:10]\n",
    "\n",
    "# 출현빈도가 높은 상위 20개 단어 추출\n",
    "# 추출된 상위 20개의 단어 빈도는 dict 함수를 통해 딕셔너리 형태로 저장\n",
    "from collections import Counter\n",
    "num_top_nouns = 20\n",
    "galexy_nouns_counter = Counter(galexy_nouns)\n",
    "galexy_top_nouns = dict(galexy_nouns_counter.most_common(num_top_nouns))\n",
    "galexy_top_nouns"
   ]
  },
  {
   "cell_type": "code",
   "execution_count": null,
   "metadata": {},
   "outputs": [],
   "source": []
  }
 ],
 "metadata": {
  "kernelspec": {
   "display_name": "Python 3",
   "language": "python",
   "name": "python3"
  },
  "language_info": {
   "codemirror_mode": {
    "name": "ipython",
    "version": 3
   },
   "file_extension": ".py",
   "mimetype": "text/x-python",
   "name": "python",
   "nbconvert_exporter": "python",
   "pygments_lexer": "ipython3",
   "version": "3.7.6"
  },
  "toc": {
   "base_numbering": 1,
   "nav_menu": {},
   "number_sections": false,
   "sideBar": true,
   "skip_h1_title": false,
   "title_cell": "Table of Contents",
   "title_sidebar": "Contents",
   "toc_cell": false,
   "toc_position": {},
   "toc_section_display": true,
   "toc_window_display": false
  }
 },
 "nbformat": 4,
 "nbformat_minor": 4
}
